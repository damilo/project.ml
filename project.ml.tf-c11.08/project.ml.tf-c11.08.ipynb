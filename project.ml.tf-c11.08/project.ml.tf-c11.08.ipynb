{
 "cells": [
  {
   "cell_type": "markdown",
   "metadata": {},
   "source": [
    "# TensorFlow - C11.E08\n",
    "---"
   ]
  },
  {
   "cell_type": "markdown",
   "metadata": {},
   "source": [
    "## Data Exploration"
   ]
  },
  {
   "cell_type": "code",
   "execution_count": 1,
   "metadata": {},
   "outputs": [
    {
     "name": "stderr",
     "output_type": "stream",
     "text": [
      "Using TensorFlow backend.\n"
     ]
    },
    {
     "data": {
      "text/plain": [
       "((60000, 28, 28), (60000,), (10000, 28, 28), (10000,))"
      ]
     },
     "execution_count": 1,
     "metadata": {},
     "output_type": "execute_result"
    }
   ],
   "source": [
    "# load dataset\n",
    "import numpy as np\n",
    "from keras.datasets import mnist\n",
    "\n",
    "(x_train, y_train), (x_test, y_test) = mnist.load_data ()\n",
    "\n",
    "x_train.shape, y_train.shape, x_test.shape, y_test.shape"
   ]
  },
  {
   "cell_type": "code",
   "execution_count": 2,
   "metadata": {},
   "outputs": [
    {
     "data": {
      "image/png": "[encoded data removed]",
      "text/plain": [
       "<Figure size 720x720 with 10 Axes>"
      ]
     },
     "metadata": {
      "needs_background": "light"
     },
     "output_type": "display_data"
    }
   ],
   "source": [
    "import matplotlib.pyplot as plt\n",
    "%matplotlib inline\n",
    "\n",
    "n = 10\n",
    "idx_rnd = np.random.randint (0, x_train.shape[0], n)\n",
    "\n",
    "fig, axs = plt.subplots (1, n)\n",
    "\n",
    "for i in range(n):\n",
    "    axs[i].imshow (x_train[idx_rnd[i]], cmap = 'gray')\n",
    "    axs[i].set_title (y_train[idx_rnd[i]])\n",
    "    axs[i].axis ('off')\n",
    "\n",
    "fig.set_size_inches (10, 10)\n",
    "plt.show ()"
   ]
  },
  {
   "cell_type": "code",
   "execution_count": 3,
   "metadata": {},
   "outputs": [
    {
     "data": {
      "image/png": "[encoded data removed]",
      "text/plain": [
       "<Figure size 432x288 with 1 Axes>"
      ]
     },
     "metadata": {
      "needs_background": "light"
     },
     "output_type": "display_data"
    }
   ],
   "source": [
    "fig, axs = plt.subplots (1, 1)\n",
    "axs.hist (y_train, range=(0,y_train.max()+1), align = 'left', rwidth = 0.9)\n",
    "axs.set_xticks (range(y_train.max()+1));\n",
    "axs.set_title ('distribution of instances per class')\n",
    "plt.show ()"
   ]
  },
  {
   "cell_type": "code",
   "execution_count": 4,
   "metadata": {},
   "outputs": [
    {
     "data": {
      "text/plain": [
       "(0, 255)"
      ]
     },
     "execution_count": 4,
     "metadata": {},
     "output_type": "execute_result"
    }
   ],
   "source": [
    "x_train.min (), x_train.max ()"
   ]
  },
  {
   "cell_type": "markdown",
   "metadata": {},
   "source": [
    "## Data Preprocessing\n",
    "preprocessing steps that are common for all tasks"
   ]
  },
  {
   "cell_type": "code",
   "execution_count": 5,
   "metadata": {},
   "outputs": [],
   "source": [
    "def split_dataset_at_class (X, y, split_at_class = 0):\n",
    "    \n",
    "    max_class = y.max ()\n",
    "    \n",
    "    tmp_list_X_low, tmp_list_y_low = [], []\n",
    "    tmp_list_X_high, tmp_list_y_high = [], []\n",
    "    \n",
    "    for i in range (0, max_class+1):\n",
    "        idx_i = np.where (y == i)[0]\n",
    "        \n",
    "        if (i < split_at_class):\n",
    "            tmp_list_X_low.append (X[idx_i])\n",
    "            tmp_list_y_low.append (len (idx_i) * [i])\n",
    "        else:\n",
    "            tmp_list_X_high.append (X[idx_i])\n",
    "            tmp_list_y_high.append (len (idx_i) * [i])\n",
    "\n",
    "    X_low = np.vstack (tmp_list_X_low)\n",
    "    y_low = np.hstack (tmp_list_y_low)\n",
    "    X_high = np.vstack (tmp_list_X_high)\n",
    "    y_high = np.hstack (tmp_list_y_high)\n",
    "    \n",
    "    del tmp_list_X_low, tmp_list_y_low, tmp_list_X_high, tmp_list_y_high\n",
    "    \n",
    "    return X_low, y_low, X_high, y_high"
   ]
  },
  {
   "cell_type": "code",
   "execution_count": 6,
   "metadata": {},
   "outputs": [
    {
     "data": {
      "text/plain": [
       "(((30596, 28, 28), (30596,)), ((29404, 28, 28), (29404,)))"
      ]
     },
     "execution_count": 6,
     "metadata": {},
     "output_type": "execute_result"
    }
   ],
   "source": [
    "# split dataset into sets with classes [0, 4] and [5, 9]\n",
    "# [i] set with classes [5, 9] is used later on for transfer learning\n",
    "x_train_04, y_train_04, x_train_59, y_train_59 = split_dataset_at_class (x_train, y_train, 5)\n",
    "\n",
    "(x_train_04.shape, y_train_04.shape), (x_train_59.shape, y_train_59.shape)"
   ]
  },
  {
   "cell_type": "code",
   "execution_count": 7,
   "metadata": {},
   "outputs": [
    {
     "data": {
      "text/plain": [
       "(((5139, 28, 28), (5139,)), ((4861, 28, 28), (4861,)))"
      ]
     },
     "execution_count": 7,
     "metadata": {},
     "output_type": "execute_result"
    }
   ],
   "source": [
    "# do the same for test dataset\n",
    "x_test_04, y_test_04, x_test_59, y_test_59 = split_dataset_at_class (x_test, y_test, 5)\n",
    "\n",
    "(x_test_04.shape, y_test_04.shape), (x_test_59.shape, y_test_59.shape)"
   ]
  },
  {
   "cell_type": "markdown",
   "metadata": {},
   "source": [
    "## a. + b. DNN with\n",
    "- 5 hidden layers of 100 units each\n",
    "- He initialization\n",
    "- ELU activation\n",
    "- \\\n",
    "- Adam optimization\n",
    "- early stopping\n",
    "- checkpoint saver\n",
    "- final model saver\n",
    "- Softmax output with 5 units"
   ]
  },
  {
   "cell_type": "markdown",
   "metadata": {},
   "source": [
    "### Data Preprocessing"
   ]
  },
  {
   "cell_type": "code",
   "execution_count": 8,
   "metadata": {},
   "outputs": [],
   "source": [
    "# build pipeline with preprocessing steps\n",
    "# [2019-02-08] makes no sense since preprocessing steps are just some lines of code"
   ]
  },
  {
   "cell_type": "markdown",
   "metadata": {},
   "source": [
    "#### Min-Max Scaling\n",
    "\n",
    "$x_{std} = \\frac {x - x_{min}} {x_{max} - x_{min}}$\n",
    "\n",
    "$x_{scaled} = x_{std} (max - min) + min$\n",
    "\n",
    "with (min, max) = new feature range\n",
    "\n",
    "Applied on the MNIST dataset:\n",
    "\n",
    "\\- all images are scaled with the same minimum (0) and maximum (255).\n",
    "\n",
    "\\- new feature range = [0, 1]\n",
    "\n",
    "By that, the scaling equation changes to:\n",
    "\n",
    "$x_{scaled} = x_{std} = \\frac {x} {255}$\n",
    "\n",
    "[i] sklearn's MinMaxScaler is not used since it scales upon min and max per given dataset which can differ"
   ]
  },
  {
   "cell_type": "code",
   "execution_count": 9,
   "metadata": {},
   "outputs": [
    {
     "data": {
      "text/plain": [
       "((0.0, 1.0), (0.0, 1.0))"
      ]
     },
     "execution_count": 9,
     "metadata": {},
     "output_type": "execute_result"
    }
   ],
   "source": [
    "x_train_04 = x_train_04.astype ('f4') / 255\n",
    "x_test_04 = x_test_04.astype ('f4') / 255\n",
    "(x_train_04.min (), x_train_04.max ()), (x_test_04.min (), x_test_04.max ())"
   ]
  },
  {
   "cell_type": "markdown",
   "metadata": {},
   "source": [
    "### Implementation"
   ]
  },
  {
   "cell_type": "markdown",
   "metadata": {},
   "source": [
    "### Split dataset\n",
    "result: train, val, test set"
   ]
  },
  {
   "cell_type": "code",
   "execution_count": 10,
   "metadata": {},
   "outputs": [
    {
     "name": "stdout",
     "output_type": "stream",
     "text": [
      "train set: (22947, 784) (22947,)\n",
      "val set: (7649, 784) (7649,)\n",
      "test set: (5139, 784) (5139,)\n"
     ]
    }
   ],
   "source": [
    "# split into training and validation set\n",
    "from sklearn.model_selection import train_test_split\n",
    "\n",
    "# split set with shuffle, since current sets are ordered by class\n",
    "X_train, X_val, y_train, y_val = train_test_split (\n",
    "    x_train_04, y_train_04, test_size = 0.25, shuffle = True, random_state = 42\n",
    ")\n",
    "\n",
    "# reshape sets, i.e. flatten the image matrices per instance\n",
    "X_train = X_train.reshape (X_train.shape[0], X_train.shape[1]*X_train.shape[2])\n",
    "X_val = X_val.reshape (X_val.shape[0], X_val.shape[1]*X_val.shape[2])\n",
    "X_test = x_test_04.reshape (x_test_04.shape[0], x_test_04.shape[1]*x_test_04.shape[2])\n",
    "y_test = y_test_04\n",
    "\n",
    "print ('train set:', X_train.shape, y_train.shape)\n",
    "print ('val set:', X_val.shape, y_val.shape)\n",
    "print ('test set:', X_test.shape, y_test.shape)"
   ]
  },
  {
   "cell_type": "markdown",
   "metadata": {},
   "source": [
    "### TensorFlow MLP\n",
    "\n",
    "Kernel initialization:\n",
    "\n",
    "He initialization (also known as MSRA initialization) for ReLU (as well as ELU) with normal distribution:\n",
    "\n",
    "$\\sigma = \\sqrt{2} \\sqrt{\\frac{2}{fan\\_in + fan\\_out}} = \\sqrt{\\frac{2}{\\frac{fan\\_in+fan\\_out}{2}}}$\n",
    "\n",
    "Function <pre>tf.contrib.layers.variance_scaling_initializery</pre> with args:\n",
    "- factor = 2.0\n",
    "- mode = 'FAN_AVG' (= $\\frac{fan\\_in + fan\\_out}{2}$)"
   ]
  },
  {
   "cell_type": "code",
   "execution_count": 11,
   "metadata": {},
   "outputs": [],
   "source": [
    "from mlpmnist import MlpMnist\n",
    "mlp = MlpMnist (name = 'MlpMnist')"
   ]
  },
  {
   "cell_type": "code",
   "execution_count": 12,
   "metadata": {},
   "outputs": [
    {
     "name": "stdout",
     "output_type": "stream",
     "text": [
      "0 , train acc: 1.0 , val acc: 0.9785593\n",
      "val acc improved, model saved to ./tf_saves/run_MlpMnist/best_acc_val.ckpt\n",
      "1 , train acc: 1.0 , val acc: 0.9775134\n",
      "2 , train acc: 1.0 , val acc: 0.9803896\n",
      "val acc improved, model saved to ./tf_saves/run_MlpMnist/best_acc_val.ckpt\n",
      "3 , train acc: 1.0 , val acc: 0.98091257\n",
      "val acc improved, model saved to ./tf_saves/run_MlpMnist/best_acc_val.ckpt\n",
      "4 , train acc: 1.0 , val acc: 0.9850961\n",
      "val acc improved, model saved to ./tf_saves/run_MlpMnist/best_acc_val.ckpt\n",
      "5 , train acc: 1.0 , val acc: 0.98666495\n",
      "val acc improved, model saved to ./tf_saves/run_MlpMnist/best_acc_val.ckpt\n",
      "6 , train acc: 1.0 , val acc: 0.98679566\n",
      "val acc improved, model saved to ./tf_saves/run_MlpMnist/best_acc_val.ckpt\n",
      "7 , train acc: 1.0 , val acc: 0.98261213\n",
      "8 , train acc: 1.0 , val acc: 0.9858805\n",
      "early stopping after epoch 8\n"
     ]
    }
   ],
   "source": [
    "#mlp = MlpMnist (name = 'MlpMnist')\n",
    "mlp.fit (X_train, y_train, X_val, y_val)"
   ]
  },
  {
   "cell_type": "code",
   "execution_count": 13,
   "metadata": {},
   "outputs": [
    {
     "name": "stdout",
     "output_type": "stream",
     "text": [
      "score validation set: 0.98679566\n",
      "INFO:tensorflow:Restoring parameters from ./tf_saves/run_MlpMnist/best_acc_val.ckpt\n",
      "score test set: 0.9910488\n"
     ]
    }
   ],
   "source": [
    "# max acc val\n",
    "print ('score validation set:', mlp._max_acc_val_)\n",
    "# predictions\n",
    "print ('score test set:', mlp.score (X_test, y_test))"
   ]
  },
  {
   "cell_type": "code",
   "execution_count": 14,
   "metadata": {},
   "outputs": [
    {
     "name": "stdout",
     "output_type": "stream",
     "text": [
      "INFO:tensorflow:Restoring parameters from ./tf_saves/run_MlpMnist/best_acc_val.ckpt\n"
     ]
    }
   ],
   "source": [
    "y_pred, y_pred_distr = mlp.predict (X_test)"
   ]
  },
  {
   "cell_type": "code",
   "execution_count": 16,
   "metadata": {},
   "outputs": [
    {
     "data": {
      "text/plain": [
       "(array([3, 3, 3, 3, 2, 3, 3, 2, 4, 2, 0, 0, 2, 3, 3, 4, 0, 0, 4, 4, 0, 4,\n",
       "        4, 0, 4, 1, 3, 0, 0, 3, 0, 3, 0, 2, 0, 4, 4, 2, 2, 2, 2, 0, 2, 2,\n",
       "        2, 0], dtype=int64),\n",
       " array([0, 0, 0, 1, 1, 1, 1, 1, 1, 1, 1, 1, 1, 2, 2, 2, 2, 2, 2, 2, 2, 2,\n",
       "        2, 2, 2, 2, 2, 2, 2, 2, 2, 2, 3, 3, 3, 3, 3, 3, 4, 4, 4, 4, 4, 4,\n",
       "        4, 4]))"
      ]
     },
     "execution_count": 16,
     "metadata": {},
     "output_type": "execute_result"
    }
   ],
   "source": [
    "y_pred[diff_pred_idx], y_test[diff_pred_idx]"
   ]
  },
  {
   "cell_type": "markdown",
   "metadata": {},
   "source": [
    "__TODO__: check distribution of wrong predictions and find out why these predictions were made"
   ]
  },
  {
   "cell_type": "markdown",
   "metadata": {},
   "source": [
    "### c. Grid Search w/ Cross Validation\n",
    "\n",
    "Exhaustive grid search with k-fold cross validation is applied to find the best hyperparameters for the used MLP architecture.\n",
    "\n",
    "Hereby, the original training set is split into k subsets, which are then used to train a MLP with specific hyperparameters by\n",
    "- iterating through every subset as the current validation set\n",
    "- train the MLP on the remaining subsets\n",
    "- save validation and test accuracy of best run\n",
    "\n",
    "Since the training time is short, grid search can be used here. If training time is too long, it is advised to take randomized search."
   ]
  },
  {
   "cell_type": "code",
   "execution_count": 17,
   "metadata": {},
   "outputs": [
    {
     "data": {
      "text/plain": [
       "((30596, 28, 28), (30596,))"
      ]
     },
     "execution_count": 17,
     "metadata": {},
     "output_type": "execute_result"
    }
   ],
   "source": [
    "x_train_04.shape, y_train_04.shape"
   ]
  },
  {
   "cell_type": "code",
   "execution_count": 18,
   "metadata": {},
   "outputs": [
    {
     "data": {
      "text/plain": [
       "StratifiedKFold(n_splits=4, random_state=42, shuffle=False)"
      ]
     },
     "execution_count": 18,
     "metadata": {},
     "output_type": "execute_result"
    }
   ],
   "source": [
    "# make stratified folds of the dataset to preserve a balanced distribution of samples over classes\n",
    "from sklearn.model_selection import StratifiedKFold\n",
    "\n",
    "skf = StratifiedKFold (n_splits = 4, shuffle = False, random_state = 42)\n",
    "skf"
   ]
  },
  {
   "cell_type": "code",
   "execution_count": 19,
   "metadata": {},
   "outputs": [
    {
     "data": {
      "text/plain": [
       "27"
      ]
     },
     "execution_count": 19,
     "metadata": {},
     "output_type": "execute_result"
    }
   ],
   "source": [
    "# grid search parameter sets\n",
    "import itertools as it\n",
    "\n",
    "# parameter grid\n",
    "param_grid = {\n",
    "    'lr' : [0.1, 0.001, 0.0001],\n",
    "    'beta1' : [0.9, 0.7, 0.5],\n",
    "    'beta2' : [0.999, 0.799, 0.599]\n",
    "}\n",
    "\n",
    "# make every possible combination of parameter values\n",
    "param_combinations = list (it.product (*param_grid.values ()))\n",
    "len (param_combinations)"
   ]
  },
  {
   "cell_type": "code",
   "execution_count": 20,
   "metadata": {},
   "outputs": [
    {
     "name": "stdout",
     "output_type": "stream",
     "text": [
      "[i] mlpkfold_0 (0.1, 0.9, 0.999)\n",
      "0 , train acc: 0.64 , val acc: 0.6928506\n",
      "val acc improved, model saved to ./tf_saves/run_mlpkfold_0/best_acc_val.ckpt\n",
      "1 , train acc: 0.24 , val acc: 0.19095543\n",
      "2 , train acc: 0.2 , val acc: 0.19356947\n",
      "early stopping after epoch 2\n",
      "INFO:tensorflow:Restoring parameters from ./tf_saves/run_mlpkfold_0/best_acc_val.ckpt\n",
      "0 , train acc: 0.76 , val acc: 0.7344138\n",
      "val acc improved, model saved to ./tf_saves/run_mlpkfold_0/best_acc_val.ckpt\n",
      "1 , train acc: 0.2 , val acc: 0.20036596\n",
      "2 , train acc: 0.2 , val acc: 0.22036335\n",
      "early stopping after epoch 2\n",
      "INFO:tensorflow:Restoring parameters from ./tf_saves/run_mlpkfold_0/best_acc_val.ckpt\n",
      "0 , train acc: 0.5714286 , val acc: 0.53726465\n",
      "1 , train acc: 0.17857143 , val acc: 0.20044456\n",
      "2 , train acc: 0.17857143 , val acc: 0.20044456\n",
      "early stopping after epoch 2\n",
      "INFO:tensorflow:Restoring parameters from ./tf_saves/run_mlpkfold_0/best_acc_val.ckpt\n",
      "0 , train acc: 1.0 , val acc: 0.19094951\n",
      "1 , train acc: 1.0 , val acc: 0.19094951\n",
      "2 , train acc: 1.0 , val acc: 0.19094951\n",
      "early stopping after epoch 2\n",
      "INFO:tensorflow:Restoring parameters from ./tf_saves/run_mlpkfold_0/best_acc_val.ckpt\n",
      "[i] mlpkfold_1 (0.1, 0.9, 0.799)\n",
      "0 , train acc: 0.24 , val acc: 0.19095543\n",
      "val acc improved, model saved to ./tf_saves/run_mlpkfold_1/best_acc_val.ckpt\n",
      "1 , train acc: 0.2 , val acc: 0.19356947\n",
      "val acc improved, model saved to ./tf_saves/run_mlpkfold_1/best_acc_val.ckpt\n",
      "2 , train acc: 0.2 , val acc: 0.19356947\n",
      "3 , train acc: 0.16 , val acc: 0.19474578\n",
      "val acc improved, model saved to ./tf_saves/run_mlpkfold_1/best_acc_val.ckpt\n",
      "4 , train acc: 0.2 , val acc: 0.19356947\n",
      "5 , train acc: 0.24 , val acc: 0.19095543\n",
      "early stopping after epoch 5\n",
      "INFO:tensorflow:Restoring parameters from ./tf_saves/run_mlpkfold_1/best_acc_val.ckpt\n",
      "0 , train acc: 0.24 , val acc: 0.19095543\n",
      "1 , train acc: 0.2 , val acc: 0.20036596\n",
      "val acc improved, model saved to ./tf_saves/run_mlpkfold_1/best_acc_val.ckpt\n",
      "2 , train acc: 0.24 , val acc: 0.19095543\n",
      "3 , train acc: 0.24 , val acc: 0.19095543\n",
      "early stopping after epoch 3\n",
      "INFO:tensorflow:Restoring parameters from ./tf_saves/run_mlpkfold_1/best_acc_val.ckpt\n",
      "0 , train acc: 0.2857143 , val acc: 0.1936454\n",
      "1 , train acc: 0.2857143 , val acc: 0.1936454\n",
      "2 , train acc: 0.2857143 , val acc: 0.1936454\n",
      "early stopping after epoch 2\n",
      "INFO:tensorflow:Restoring parameters from ./tf_saves/run_mlpkfold_1/best_acc_val.ckpt\n",
      "0 , train acc: 1.0 , val acc: 0.19081873\n",
      "1 , train acc: 1.0 , val acc: 0.19094951\n",
      "2 , train acc: 1.0 , val acc: 0.19094951\n",
      "early stopping after epoch 2\n",
      "INFO:tensorflow:Restoring parameters from ./tf_saves/run_mlpkfold_1/best_acc_val.ckpt\n",
      "[i] mlpkfold_2 (0.1, 0.9, 0.599)\n",
      "0 , train acc: 0.0 , val acc: 0.0\n",
      "1 , train acc: 0.0 , val acc: 0.0\n",
      "2 , train acc: 0.0 , val acc: 0.0\n",
      "early stopping after epoch 2\n",
      "0 , train acc: 0.0 , val acc: 0.0\n",
      "1 , train acc: 0.0 , val acc: 0.0\n",
      "2 , train acc: 0.0 , val acc: 0.0\n",
      "early stopping after epoch 2\n",
      "0 , train acc: 0.0 , val acc: 0.0\n",
      "1 , train acc: 0.0 , val acc: 0.0\n",
      "2 , train acc: 0.0 , val acc: 0.0\n",
      "early stopping after epoch 2\n",
      "0 , train acc: 0.0 , val acc: 0.0\n",
      "1 , train acc: 0.0 , val acc: 0.0\n",
      "2 , train acc: 0.0 , val acc: 0.0\n",
      "early stopping after epoch 2\n",
      "[i] mlpkfold_3 (0.1, 0.7, 0.999)\n",
      "0 , train acc: 0.2 , val acc: 0.20036596\n",
      "val acc improved, model saved to ./tf_saves/run_mlpkfold_3/best_acc_val.ckpt\n",
      "1 , train acc: 0.2 , val acc: 0.22036335\n",
      "val acc improved, model saved to ./tf_saves/run_mlpkfold_3/best_acc_val.ckpt\n",
      "2 , train acc: 0.2 , val acc: 0.22036335\n",
      "3 , train acc: 0.2 , val acc: 0.22036335\n",
      "early stopping after epoch 3\n",
      "INFO:tensorflow:Restoring parameters from ./tf_saves/run_mlpkfold_3/best_acc_val.ckpt\n",
      "0 , train acc: 0.96 , val acc: 0.9013201\n",
      "val acc improved, model saved to ./tf_saves/run_mlpkfold_3/best_acc_val.ckpt\n",
      "1 , train acc: 1.0 , val acc: 0.95516926\n",
      "val acc improved, model saved to ./tf_saves/run_mlpkfold_3/best_acc_val.ckpt\n",
      "2 , train acc: 0.2 , val acc: 0.19356947\n",
      "3 , train acc: 0.2 , val acc: 0.19356947\n",
      "early stopping after epoch 3\n",
      "INFO:tensorflow:Restoring parameters from ./tf_saves/run_mlpkfold_3/best_acc_val.ckpt\n",
      "0 , train acc: 0.4642857 , val acc: 0.45737448\n",
      "1 , train acc: 0.78571427 , val acc: 0.6803086\n",
      "2 , train acc: 0.2857143 , val acc: 0.1936454\n",
      "early stopping after epoch 2\n",
      "INFO:tensorflow:Restoring parameters from ./tf_saves/run_mlpkfold_3/best_acc_val.ckpt\n",
      "0 , train acc: 1.0 , val acc: 0.19094951\n",
      "1 , train acc: 1.0 , val acc: 0.19094951\n",
      "2 , train acc: 1.0 , val acc: 0.19094951\n",
      "early stopping after epoch 2\n",
      "INFO:tensorflow:Restoring parameters from ./tf_saves/run_mlpkfold_3/best_acc_val.ckpt\n",
      "[i] mlpkfold_4 (0.1, 0.7, 0.799)\n",
      "0 , train acc: 0.2 , val acc: 0.22036335\n",
      "val acc improved, model saved to ./tf_saves/run_mlpkfold_4/best_acc_val.ckpt\n",
      "1 , train acc: 0.16 , val acc: 0.19474578\n",
      "2 , train acc: 0.2 , val acc: 0.19356947\n",
      "early stopping after epoch 2\n",
      "INFO:tensorflow:Restoring parameters from ./tf_saves/run_mlpkfold_4/best_acc_val.ckpt\n",
      "0 , train acc: 0.24 , val acc: 0.19095543\n",
      "1 , train acc: 0.2 , val acc: 0.19356947\n",
      "2 , train acc: 0.2 , val acc: 0.19356947\n",
      "early stopping after epoch 2\n",
      "INFO:tensorflow:Restoring parameters from ./tf_saves/run_mlpkfold_4/best_acc_val.ckpt\n",
      "0 , train acc: 0.2857143 , val acc: 0.1936454\n",
      "1 , train acc: 0.21428572 , val acc: 0.19089958\n",
      "2 , train acc: 0.2857143 , val acc: 0.1936454\n",
      "early stopping after epoch 2\n",
      "INFO:tensorflow:Restoring parameters from ./tf_saves/run_mlpkfold_4/best_acc_val.ckpt\n",
      "0 , train acc: 1.0 , val acc: 0.19094951\n",
      "1 , train acc: 1.0 , val acc: 0.19094951\n",
      "2 , train acc: 1.0 , val acc: 0.19094951\n",
      "early stopping after epoch 2\n",
      "INFO:tensorflow:Restoring parameters from ./tf_saves/run_mlpkfold_4/best_acc_val.ckpt\n",
      "[i] mlpkfold_5 (0.1, 0.7, 0.599)\n",
      "0 , train acc: 0.2 , val acc: 0.22036335\n",
      "val acc improved, model saved to ./tf_saves/run_mlpkfold_5/best_acc_val.ckpt\n",
      "1 , train acc: 0.24 , val acc: 0.19095543\n",
      "2 , train acc: 0.24 , val acc: 0.19095543\n",
      "early stopping after epoch 2\n",
      "INFO:tensorflow:Restoring parameters from ./tf_saves/run_mlpkfold_5/best_acc_val.ckpt\n",
      "0 , train acc: 0.24 , val acc: 0.19095543\n",
      "1 , train acc: 0.24 , val acc: 0.19095543\n",
      "2 , train acc: 0.2 , val acc: 0.19356947\n",
      "early stopping after epoch 2\n",
      "INFO:tensorflow:Restoring parameters from ./tf_saves/run_mlpkfold_5/best_acc_val.ckpt\n",
      "0 , train acc: 0.14285715 , val acc: 0.19469142\n"
     ]
    },
    {
     "ename": "KeyboardInterrupt",
     "evalue": "",
     "output_type": "error",
     "traceback": [
      "\u001b[1;31m---------------------------------------------------------------------------\u001b[0m",
      "\u001b[1;31mKeyboardInterrupt\u001b[0m                         Traceback (most recent call last)",
      "\u001b[1;32m<ipython-input-20-0c72b13ac352>\u001b[0m in \u001b[0;36m<module>\u001b[1;34m\u001b[0m\n\u001b[0;32m     35\u001b[0m         \u001b[0mX_val\u001b[0m \u001b[1;33m=\u001b[0m \u001b[0mX_val\u001b[0m\u001b[1;33m.\u001b[0m\u001b[0mreshape\u001b[0m \u001b[1;33m(\u001b[0m\u001b[0mX_val\u001b[0m\u001b[1;33m.\u001b[0m\u001b[0mshape\u001b[0m\u001b[1;33m[\u001b[0m\u001b[1;36m0\u001b[0m\u001b[1;33m]\u001b[0m\u001b[1;33m,\u001b[0m \u001b[0mX_val\u001b[0m\u001b[1;33m.\u001b[0m\u001b[0mshape\u001b[0m\u001b[1;33m[\u001b[0m\u001b[1;36m1\u001b[0m\u001b[1;33m]\u001b[0m\u001b[1;33m*\u001b[0m\u001b[0mX_val\u001b[0m\u001b[1;33m.\u001b[0m\u001b[0mshape\u001b[0m\u001b[1;33m[\u001b[0m\u001b[1;36m2\u001b[0m\u001b[1;33m]\u001b[0m\u001b[1;33m)\u001b[0m\u001b[1;33m\u001b[0m\u001b[0m\n\u001b[0;32m     36\u001b[0m \u001b[1;33m\u001b[0m\u001b[0m\n\u001b[1;32m---> 37\u001b[1;33m         \u001b[0mcur_mlp\u001b[0m\u001b[1;33m.\u001b[0m\u001b[0mfit\u001b[0m \u001b[1;33m(\u001b[0m\u001b[0mX_train\u001b[0m\u001b[1;33m,\u001b[0m \u001b[0my_train\u001b[0m\u001b[1;33m,\u001b[0m \u001b[0mX_val\u001b[0m\u001b[1;33m,\u001b[0m \u001b[0my_val\u001b[0m\u001b[1;33m)\u001b[0m\u001b[1;33m\u001b[0m\u001b[0m\n\u001b[0m\u001b[0;32m     38\u001b[0m         \u001b[0macc_val_list\u001b[0m\u001b[1;33m.\u001b[0m\u001b[0mappend\u001b[0m \u001b[1;33m(\u001b[0m\u001b[0mcur_mlp\u001b[0m\u001b[1;33m.\u001b[0m\u001b[0m_max_acc_val_\u001b[0m\u001b[1;33m)\u001b[0m\u001b[1;33m\u001b[0m\u001b[0m\n\u001b[0;32m     39\u001b[0m         \u001b[0macc_test_list\u001b[0m\u001b[1;33m.\u001b[0m\u001b[0mappend\u001b[0m \u001b[1;33m(\u001b[0m\u001b[0mcur_mlp\u001b[0m\u001b[1;33m.\u001b[0m\u001b[0mscore\u001b[0m \u001b[1;33m(\u001b[0m\u001b[0mX_test\u001b[0m\u001b[1;33m,\u001b[0m \u001b[0my_test\u001b[0m\u001b[1;33m)\u001b[0m\u001b[1;33m)\u001b[0m\u001b[1;33m\u001b[0m\u001b[0m\n",
      "\u001b[1;32mC:\\_pyvenvs\\ml\\udacity.mlnd\\mlnd\\projects\\project.ml.tf-c11.08\\mlpmnist.py\u001b[0m in \u001b[0;36mfit\u001b[1;34m(self, X_train, y_train, X_val, y_val)\u001b[0m\n\u001b[0;32m    150\u001b[0m                     }\n\u001b[0;32m    151\u001b[0m \u001b[1;33m\u001b[0m\u001b[0m\n\u001b[1;32m--> 152\u001b[1;33m                     \u001b[0msess\u001b[0m\u001b[1;33m.\u001b[0m\u001b[0mrun\u001b[0m \u001b[1;33m(\u001b[0m\u001b[0mself\u001b[0m\u001b[1;33m.\u001b[0m\u001b[0m__training_op\u001b[0m\u001b[1;33m,\u001b[0m \u001b[0mfeed_dict\u001b[0m \u001b[1;33m=\u001b[0m \u001b[0mfeed_dict\u001b[0m\u001b[1;33m)\u001b[0m\u001b[1;33m\u001b[0m\u001b[0m\n\u001b[0m\u001b[0;32m    153\u001b[0m \u001b[1;33m\u001b[0m\u001b[0m\n\u001b[0;32m    154\u001b[0m                     \u001b[1;31m# logging\u001b[0m\u001b[1;33m\u001b[0m\u001b[1;33m\u001b[0m\u001b[0m\n",
      "\u001b[1;32mc:\\_pyvenvs\\ml\\lib\\site-packages\\tensorflow\\python\\client\\session.py\u001b[0m in \u001b[0;36mrun\u001b[1;34m(self, fetches, feed_dict, options, run_metadata)\u001b[0m\n\u001b[0;32m    885\u001b[0m     \u001b[1;32mtry\u001b[0m\u001b[1;33m:\u001b[0m\u001b[1;33m\u001b[0m\u001b[0m\n\u001b[0;32m    886\u001b[0m       result = self._run(None, fetches, feed_dict, options_ptr,\n\u001b[1;32m--> 887\u001b[1;33m                          run_metadata_ptr)\n\u001b[0m\u001b[0;32m    888\u001b[0m       \u001b[1;32mif\u001b[0m \u001b[0mrun_metadata\u001b[0m\u001b[1;33m:\u001b[0m\u001b[1;33m\u001b[0m\u001b[0m\n\u001b[0;32m    889\u001b[0m         \u001b[0mproto_data\u001b[0m \u001b[1;33m=\u001b[0m \u001b[0mtf_session\u001b[0m\u001b[1;33m.\u001b[0m\u001b[0mTF_GetBuffer\u001b[0m\u001b[1;33m(\u001b[0m\u001b[0mrun_metadata_ptr\u001b[0m\u001b[1;33m)\u001b[0m\u001b[1;33m\u001b[0m\u001b[0m\n",
      "\u001b[1;32mc:\\_pyvenvs\\ml\\lib\\site-packages\\tensorflow\\python\\client\\session.py\u001b[0m in \u001b[0;36m_run\u001b[1;34m(self, handle, fetches, feed_dict, options, run_metadata)\u001b[0m\n\u001b[0;32m   1108\u001b[0m     \u001b[1;32mif\u001b[0m \u001b[0mfinal_fetches\u001b[0m \u001b[1;32mor\u001b[0m \u001b[0mfinal_targets\u001b[0m \u001b[1;32mor\u001b[0m \u001b[1;33m(\u001b[0m\u001b[0mhandle\u001b[0m \u001b[1;32mand\u001b[0m \u001b[0mfeed_dict_tensor\u001b[0m\u001b[1;33m)\u001b[0m\u001b[1;33m:\u001b[0m\u001b[1;33m\u001b[0m\u001b[0m\n\u001b[0;32m   1109\u001b[0m       results = self._do_run(handle, final_targets, final_fetches,\n\u001b[1;32m-> 1110\u001b[1;33m                              feed_dict_tensor, options, run_metadata)\n\u001b[0m\u001b[0;32m   1111\u001b[0m     \u001b[1;32melse\u001b[0m\u001b[1;33m:\u001b[0m\u001b[1;33m\u001b[0m\u001b[0m\n\u001b[0;32m   1112\u001b[0m       \u001b[0mresults\u001b[0m \u001b[1;33m=\u001b[0m \u001b[1;33m[\u001b[0m\u001b[1;33m]\u001b[0m\u001b[1;33m\u001b[0m\u001b[0m\n",
      "\u001b[1;32mc:\\_pyvenvs\\ml\\lib\\site-packages\\tensorflow\\python\\client\\session.py\u001b[0m in \u001b[0;36m_do_run\u001b[1;34m(self, handle, target_list, fetch_list, feed_dict, options, run_metadata)\u001b[0m\n\u001b[0;32m   1284\u001b[0m     \u001b[1;32mif\u001b[0m \u001b[0mhandle\u001b[0m \u001b[1;32mis\u001b[0m \u001b[1;32mNone\u001b[0m\u001b[1;33m:\u001b[0m\u001b[1;33m\u001b[0m\u001b[0m\n\u001b[0;32m   1285\u001b[0m       return self._do_call(_run_fn, feeds, fetches, targets, options,\n\u001b[1;32m-> 1286\u001b[1;33m                            run_metadata)\n\u001b[0m\u001b[0;32m   1287\u001b[0m     \u001b[1;32melse\u001b[0m\u001b[1;33m:\u001b[0m\u001b[1;33m\u001b[0m\u001b[0m\n\u001b[0;32m   1288\u001b[0m       \u001b[1;32mreturn\u001b[0m \u001b[0mself\u001b[0m\u001b[1;33m.\u001b[0m\u001b[0m_do_call\u001b[0m\u001b[1;33m(\u001b[0m\u001b[0m_prun_fn\u001b[0m\u001b[1;33m,\u001b[0m \u001b[0mhandle\u001b[0m\u001b[1;33m,\u001b[0m \u001b[0mfeeds\u001b[0m\u001b[1;33m,\u001b[0m \u001b[0mfetches\u001b[0m\u001b[1;33m)\u001b[0m\u001b[1;33m\u001b[0m\u001b[0m\n",
      "\u001b[1;32mc:\\_pyvenvs\\ml\\lib\\site-packages\\tensorflow\\python\\client\\session.py\u001b[0m in \u001b[0;36m_do_call\u001b[1;34m(self, fn, *args)\u001b[0m\n\u001b[0;32m   1290\u001b[0m   \u001b[1;32mdef\u001b[0m \u001b[0m_do_call\u001b[0m\u001b[1;33m(\u001b[0m\u001b[0mself\u001b[0m\u001b[1;33m,\u001b[0m \u001b[0mfn\u001b[0m\u001b[1;33m,\u001b[0m \u001b[1;33m*\u001b[0m\u001b[0margs\u001b[0m\u001b[1;33m)\u001b[0m\u001b[1;33m:\u001b[0m\u001b[1;33m\u001b[0m\u001b[0m\n\u001b[0;32m   1291\u001b[0m     \u001b[1;32mtry\u001b[0m\u001b[1;33m:\u001b[0m\u001b[1;33m\u001b[0m\u001b[0m\n\u001b[1;32m-> 1292\u001b[1;33m       \u001b[1;32mreturn\u001b[0m \u001b[0mfn\u001b[0m\u001b[1;33m(\u001b[0m\u001b[1;33m*\u001b[0m\u001b[0margs\u001b[0m\u001b[1;33m)\u001b[0m\u001b[1;33m\u001b[0m\u001b[0m\n\u001b[0m\u001b[0;32m   1293\u001b[0m     \u001b[1;32mexcept\u001b[0m \u001b[0merrors\u001b[0m\u001b[1;33m.\u001b[0m\u001b[0mOpError\u001b[0m \u001b[1;32mas\u001b[0m \u001b[0me\u001b[0m\u001b[1;33m:\u001b[0m\u001b[1;33m\u001b[0m\u001b[0m\n\u001b[0;32m   1294\u001b[0m       \u001b[0mmessage\u001b[0m \u001b[1;33m=\u001b[0m \u001b[0mcompat\u001b[0m\u001b[1;33m.\u001b[0m\u001b[0mas_text\u001b[0m\u001b[1;33m(\u001b[0m\u001b[0me\u001b[0m\u001b[1;33m.\u001b[0m\u001b[0mmessage\u001b[0m\u001b[1;33m)\u001b[0m\u001b[1;33m\u001b[0m\u001b[0m\n",
      "\u001b[1;32mc:\\_pyvenvs\\ml\\lib\\site-packages\\tensorflow\\python\\client\\session.py\u001b[0m in \u001b[0;36m_run_fn\u001b[1;34m(feed_dict, fetch_list, target_list, options, run_metadata)\u001b[0m\n\u001b[0;32m   1275\u001b[0m       \u001b[0mself\u001b[0m\u001b[1;33m.\u001b[0m\u001b[0m_extend_graph\u001b[0m\u001b[1;33m(\u001b[0m\u001b[1;33m)\u001b[0m\u001b[1;33m\u001b[0m\u001b[0m\n\u001b[0;32m   1276\u001b[0m       return self._call_tf_sessionrun(\n\u001b[1;32m-> 1277\u001b[1;33m           options, feed_dict, fetch_list, target_list, run_metadata)\n\u001b[0m\u001b[0;32m   1278\u001b[0m \u001b[1;33m\u001b[0m\u001b[0m\n\u001b[0;32m   1279\u001b[0m     \u001b[1;32mdef\u001b[0m \u001b[0m_prun_fn\u001b[0m\u001b[1;33m(\u001b[0m\u001b[0mhandle\u001b[0m\u001b[1;33m,\u001b[0m \u001b[0mfeed_dict\u001b[0m\u001b[1;33m,\u001b[0m \u001b[0mfetch_list\u001b[0m\u001b[1;33m)\u001b[0m\u001b[1;33m:\u001b[0m\u001b[1;33m\u001b[0m\u001b[0m\n",
      "\u001b[1;32mc:\\_pyvenvs\\ml\\lib\\site-packages\\tensorflow\\python\\client\\session.py\u001b[0m in \u001b[0;36m_call_tf_sessionrun\u001b[1;34m(self, options, feed_dict, fetch_list, target_list, run_metadata)\u001b[0m\n\u001b[0;32m   1365\u001b[0m     return tf_session.TF_SessionRun_wrapper(\n\u001b[0;32m   1366\u001b[0m         \u001b[0mself\u001b[0m\u001b[1;33m.\u001b[0m\u001b[0m_session\u001b[0m\u001b[1;33m,\u001b[0m \u001b[0moptions\u001b[0m\u001b[1;33m,\u001b[0m \u001b[0mfeed_dict\u001b[0m\u001b[1;33m,\u001b[0m \u001b[0mfetch_list\u001b[0m\u001b[1;33m,\u001b[0m \u001b[0mtarget_list\u001b[0m\u001b[1;33m,\u001b[0m\u001b[1;33m\u001b[0m\u001b[0m\n\u001b[1;32m-> 1367\u001b[1;33m         run_metadata)\n\u001b[0m\u001b[0;32m   1368\u001b[0m \u001b[1;33m\u001b[0m\u001b[0m\n\u001b[0;32m   1369\u001b[0m   \u001b[1;32mdef\u001b[0m \u001b[0m_call_tf_sessionprun\u001b[0m\u001b[1;33m(\u001b[0m\u001b[0mself\u001b[0m\u001b[1;33m,\u001b[0m \u001b[0mhandle\u001b[0m\u001b[1;33m,\u001b[0m \u001b[0mfeed_dict\u001b[0m\u001b[1;33m,\u001b[0m \u001b[0mfetch_list\u001b[0m\u001b[1;33m)\u001b[0m\u001b[1;33m:\u001b[0m\u001b[1;33m\u001b[0m\u001b[0m\n",
      "\u001b[1;31mKeyboardInterrupt\u001b[0m: "
     ]
    }
   ],
   "source": [
    "# also see function StratifiedShuffleSplit\n",
    "from collections import defaultdict\n",
    "\n",
    "# shuffle dataset first\n",
    "x_train_04, _, y_train_04, _ = train_test_split (\n",
    "    x_train_04, y_train_04, test_size = 0.0, train_size = None, shuffle = True, random_state = 42\n",
    ")\n",
    "\n",
    "\n",
    "cv_results = defaultdict (list)\n",
    "\n",
    "i = 0\n",
    "for pc in param_combinations:\n",
    "    \n",
    "    name = 'mlpkfold_{}'.format (i)\n",
    "    \n",
    "    print ('[i]', name, pc)\n",
    "    \n",
    "    cv_results[name].append (pc)\n",
    "    \n",
    "    cur_mlp = MlpMnist (\n",
    "        name = name,\n",
    "        lr = pc[0],\n",
    "        beta1 = pc[1],\n",
    "        beta2 = pc[2]\n",
    "    )\n",
    "    \n",
    "    acc_val_list = []\n",
    "    acc_test_list = []\n",
    "    for train_idx, val_idx in skf.split (x_train_04, y_train_04):\n",
    "        X_train, X_val = x_train_04[train_idx], x_train_04[val_idx]\n",
    "        y_train, y_val = y_train_04[train_idx], y_train_04[val_idx]\n",
    "\n",
    "        X_train = X_train.reshape (X_train.shape[0], X_train.shape[1]*X_train.shape[2])\n",
    "        X_val = X_val.reshape (X_val.shape[0], X_val.shape[1]*X_val.shape[2])\n",
    "\n",
    "        cur_mlp.fit (X_train, y_train, X_val, y_val)\n",
    "        acc_val_list.append (cur_mlp._max_acc_val_)\n",
    "        acc_test_list.append (cur_mlp.score (X_test, y_test))\n",
    "    \n",
    "    cv_results[name].append (acc_val_list)\n",
    "    cv_results[name].append (acc_test_list)\n",
    "    \n",
    "    i += 1"
   ]
  },
  {
   "cell_type": "code",
   "execution_count": 21,
   "metadata": {},
   "outputs": [],
   "source": [
    "# make a clean version of cv_results as DataFrame\n",
    "import pandas as pd\n",
    "\n",
    "df_data = []\n",
    "for cv_mlp in cv_results:\n",
    "    data = [cv_mlp] + [param for param in cv_results[cv_mlp][0]] +\\\n",
    "    [np.mean (cv_results[cv_mlp][1])] + [np.std (cv_results[cv_mlp][1])] +\\\n",
    "    [np.mean (cv_results[cv_mlp][2])] + [np.std (cv_results[cv_mlp][2])]\n",
    "    df_data.append (data)\n",
    "\n",
    "\n",
    "col_names = ['estimator_name'] + [x for x in param_grid.keys ()] + ['acc_val_mean', 'acc_val_std', 'acc_test_mean', 'acc_test_std']\n",
    "cv_results_pd = pd.DataFrame (df_data, columns = col_names)"
   ]
  },
  {
   "cell_type": "code",
   "execution_count": 22,
   "metadata": {},
   "outputs": [
    {
     "data": {
      "text/html": [
       "<div>\n",
       "<style scoped>\n",
       "    .dataframe tbody tr th:only-of-type {\n",
       "        vertical-align: middle;\n",
       "    }\n",
       "\n",
       "    .dataframe tbody tr th {\n",
       "        vertical-align: top;\n",
       "    }\n",
       "\n",
       "    .dataframe thead th {\n",
       "        text-align: right;\n",
       "    }\n",
       "</style>\n",
       "<table border=\"1\" class=\"dataframe\">\n",
       "  <thead>\n",
       "    <tr style=\"text-align: right;\">\n",
       "      <th></th>\n",
       "      <th>estimator_name</th>\n",
       "      <th>lr</th>\n",
       "      <th>beta1</th>\n",
       "      <th>beta2</th>\n",
       "      <th>acc_val_mean</th>\n",
       "      <th>acc_val_std</th>\n",
       "      <th>acc_test_mean</th>\n",
       "      <th>acc_test_std</th>\n",
       "    </tr>\n",
       "  </thead>\n",
       "  <tbody>\n",
       "    <tr>\n",
       "      <th>0</th>\n",
       "      <td>mlpkfold_0</td>\n",
       "      <td>0.0010</td>\n",
       "      <td>0.9</td>\n",
       "      <td>0.999</td>\n",
       "      <td>0.987159</td>\n",
       "      <td>0.004584</td>\n",
       "      <td>0.990757</td>\n",
       "      <td>0.002528</td>\n",
       "    </tr>\n",
       "    <tr>\n",
       "      <th>1</th>\n",
       "      <td>mlpkfold_1</td>\n",
       "      <td>0.0010</td>\n",
       "      <td>0.9</td>\n",
       "      <td>0.599</td>\n",
       "      <td>0.977418</td>\n",
       "      <td>0.002089</td>\n",
       "      <td>0.982536</td>\n",
       "      <td>0.001432</td>\n",
       "    </tr>\n",
       "    <tr>\n",
       "      <th>2</th>\n",
       "      <td>mlpkfold_2</td>\n",
       "      <td>0.0010</td>\n",
       "      <td>0.5</td>\n",
       "      <td>0.999</td>\n",
       "      <td>0.984871</td>\n",
       "      <td>0.001075</td>\n",
       "      <td>0.990222</td>\n",
       "      <td>0.000253</td>\n",
       "    </tr>\n",
       "    <tr>\n",
       "      <th>3</th>\n",
       "      <td>mlpkfold_3</td>\n",
       "      <td>0.0010</td>\n",
       "      <td>0.5</td>\n",
       "      <td>0.599</td>\n",
       "      <td>0.987842</td>\n",
       "      <td>0.000521</td>\n",
       "      <td>0.990270</td>\n",
       "      <td>0.000000</td>\n",
       "    </tr>\n",
       "    <tr>\n",
       "      <th>4</th>\n",
       "      <td>mlpkfold_4</td>\n",
       "      <td>0.0001</td>\n",
       "      <td>0.9</td>\n",
       "      <td>0.999</td>\n",
       "      <td>0.984316</td>\n",
       "      <td>0.000000</td>\n",
       "      <td>0.990076</td>\n",
       "      <td>0.000000</td>\n",
       "    </tr>\n",
       "    <tr>\n",
       "      <th>5</th>\n",
       "      <td>mlpkfold_5</td>\n",
       "      <td>0.0001</td>\n",
       "      <td>0.9</td>\n",
       "      <td>0.599</td>\n",
       "      <td>0.982878</td>\n",
       "      <td>0.000000</td>\n",
       "      <td>0.986184</td>\n",
       "      <td>0.000000</td>\n",
       "    </tr>\n",
       "    <tr>\n",
       "      <th>6</th>\n",
       "      <td>mlpkfold_6</td>\n",
       "      <td>0.0001</td>\n",
       "      <td>0.5</td>\n",
       "      <td>0.999</td>\n",
       "      <td>0.984054</td>\n",
       "      <td>0.000000</td>\n",
       "      <td>0.989881</td>\n",
       "      <td>0.000000</td>\n",
       "    </tr>\n",
       "    <tr>\n",
       "      <th>7</th>\n",
       "      <td>mlpkfold_7</td>\n",
       "      <td>0.0001</td>\n",
       "      <td>0.5</td>\n",
       "      <td>0.599</td>\n",
       "      <td>0.982878</td>\n",
       "      <td>0.000000</td>\n",
       "      <td>0.988130</td>\n",
       "      <td>0.000000</td>\n",
       "    </tr>\n",
       "  </tbody>\n",
       "</table>\n",
       "</div>"
      ],
      "text/plain": [
       "  estimator_name      lr  beta1  beta2  acc_val_mean  acc_val_std  \\\n",
       "0     mlpkfold_0  0.0010    0.9  0.999      0.987159     0.004584   \n",
       "1     mlpkfold_1  0.0010    0.9  0.599      0.977418     0.002089   \n",
       "2     mlpkfold_2  0.0010    0.5  0.999      0.984871     0.001075   \n",
       "3     mlpkfold_3  0.0010    0.5  0.599      0.987842     0.000521   \n",
       "4     mlpkfold_4  0.0001    0.9  0.999      0.984316     0.000000   \n",
       "5     mlpkfold_5  0.0001    0.9  0.599      0.982878     0.000000   \n",
       "6     mlpkfold_6  0.0001    0.5  0.999      0.984054     0.000000   \n",
       "7     mlpkfold_7  0.0001    0.5  0.599      0.982878     0.000000   \n",
       "\n",
       "   acc_test_mean  acc_test_std  \n",
       "0       0.990757      0.002528  \n",
       "1       0.982536      0.001432  \n",
       "2       0.990222      0.000253  \n",
       "3       0.990270      0.000000  \n",
       "4       0.990076      0.000000  \n",
       "5       0.986184      0.000000  \n",
       "6       0.989881      0.000000  \n",
       "7       0.988130      0.000000  "
      ]
     },
     "execution_count": 22,
     "metadata": {},
     "output_type": "execute_result"
    }
   ],
   "source": [
    "cv_results_pd"
   ]
  },
  {
   "cell_type": "code",
   "execution_count": 23,
   "metadata": {},
   "outputs": [
    {
     "data": {
      "image/png": "[encoded data removed]",
      "text/plain": [
       "<Figure size 864x432 with 1 Axes>"
      ]
     },
     "metadata": {
      "needs_background": "light"
     },
     "output_type": "display_data"
    }
   ],
   "source": [
    "fig, axs = plt.subplots (1, 1)\n",
    "\n",
    "axs.scatter (\n",
    "    x = cv_results_pd.index.values,\n",
    "    y = cv_results_pd['acc_val_mean'].values,\n",
    "    color = 'b'\n",
    ")\n",
    "axs.plot (\n",
    "    cv_results_pd['acc_val_std'].values,\n",
    "    color = 'b'\n",
    ")\n",
    "\n",
    "axs.scatter (\n",
    "    x = cv_results_pd.index.values,\n",
    "    y = cv_results_pd['acc_test_mean'].values,\n",
    "    color = 'r'\n",
    ")\n",
    "axs.plot (\n",
    "    cv_results_pd['acc_test_std'].values,\n",
    "    color = 'r'\n",
    ")\n",
    "\n",
    "axs.set_xticks (cv_results_pd.index.values)\n",
    "axs.grid (True)\n",
    "\n",
    "axs.set_xlabel ('MLP #')\n",
    "axs.set_ylabel ('score mean / std')\n",
    "\n",
    "fig.set_size_inches (12, 6)\n",
    "\n",
    "plt.show ()"
   ]
  },
  {
   "cell_type": "markdown",
   "metadata": {},
   "source": [
    "best estimator:\n",
    "- blue and red dot close together\n",
    "- blue and red mean score high\n",
    "- blue and red std low\n",
    "\n",
    "MLP #3 and #4 are visually outstanding\n",
    "\n"
   ]
  },
  {
   "cell_type": "code",
   "execution_count": 24,
   "metadata": {},
   "outputs": [
    {
     "data": {
      "text/html": [
       "<div>\n",
       "<style scoped>\n",
       "    .dataframe tbody tr th:only-of-type {\n",
       "        vertical-align: middle;\n",
       "    }\n",
       "\n",
       "    .dataframe tbody tr th {\n",
       "        vertical-align: top;\n",
       "    }\n",
       "\n",
       "    .dataframe thead th {\n",
       "        text-align: right;\n",
       "    }\n",
       "</style>\n",
       "<table border=\"1\" class=\"dataframe\">\n",
       "  <thead>\n",
       "    <tr style=\"text-align: right;\">\n",
       "      <th></th>\n",
       "      <th>estimator_name</th>\n",
       "      <th>lr</th>\n",
       "      <th>beta1</th>\n",
       "      <th>beta2</th>\n",
       "      <th>acc_val_mean</th>\n",
       "      <th>acc_val_std</th>\n",
       "      <th>acc_test_mean</th>\n",
       "      <th>acc_test_std</th>\n",
       "    </tr>\n",
       "  </thead>\n",
       "  <tbody>\n",
       "    <tr>\n",
       "      <th>3</th>\n",
       "      <td>mlpkfold_3</td>\n",
       "      <td>0.0010</td>\n",
       "      <td>0.5</td>\n",
       "      <td>0.599</td>\n",
       "      <td>0.987842</td>\n",
       "      <td>0.000521</td>\n",
       "      <td>0.990270</td>\n",
       "      <td>0.0</td>\n",
       "    </tr>\n",
       "    <tr>\n",
       "      <th>4</th>\n",
       "      <td>mlpkfold_4</td>\n",
       "      <td>0.0001</td>\n",
       "      <td>0.9</td>\n",
       "      <td>0.999</td>\n",
       "      <td>0.984316</td>\n",
       "      <td>0.000000</td>\n",
       "      <td>0.990076</td>\n",
       "      <td>0.0</td>\n",
       "    </tr>\n",
       "  </tbody>\n",
       "</table>\n",
       "</div>"
      ],
      "text/plain": [
       "  estimator_name      lr  beta1  beta2  acc_val_mean  acc_val_std  \\\n",
       "3     mlpkfold_3  0.0010    0.5  0.599      0.987842     0.000521   \n",
       "4     mlpkfold_4  0.0001    0.9  0.999      0.984316     0.000000   \n",
       "\n",
       "   acc_test_mean  acc_test_std  \n",
       "3       0.990270           0.0  \n",
       "4       0.990076           0.0  "
      ]
     },
     "execution_count": 24,
     "metadata": {},
     "output_type": "execute_result"
    }
   ],
   "source": [
    "cv_results_pd.iloc[[3, 4]]"
   ]
  },
  {
   "cell_type": "markdown",
   "metadata": {},
   "source": [
    "## Retrain current best estimator"
   ]
  },
  {
   "cell_type": "code",
   "execution_count": 21,
   "metadata": {},
   "outputs": [
    {
     "name": "stdout",
     "output_type": "stream",
     "text": [
      "train set: (22948, 784) (22948,)\n",
      "val set: (7648, 784) (7648,)\n",
      "test set: (5139, 784) (5139,)\n"
     ]
    }
   ],
   "source": [
    "# retrain best estimator\n",
    "print ('train set:', X_train.shape, y_train.shape)\n",
    "print ('val set:', X_val.shape, y_val.shape)\n",
    "print ('test set:', X_test.shape, y_test.shape)"
   ]
  },
  {
   "cell_type": "code",
   "execution_count": 22,
   "metadata": {},
   "outputs": [
    {
     "name": "stdout",
     "output_type": "stream",
     "text": [
      "0 , train acc: 1.0 , val acc: 0.98221755\n",
      "val acc improved, model saved to ./tf_saves/run_MlpBest/best_acc_val.ckpt\n",
      "1 , train acc: 1.0 , val acc: 0.98313284\n",
      "val acc improved, model saved to ./tf_saves/run_MlpBest/best_acc_val.ckpt\n",
      "2 , train acc: 1.0 , val acc: 0.9844404\n",
      "val acc improved, model saved to ./tf_saves/run_MlpBest/best_acc_val.ckpt\n",
      "3 , train acc: 1.0 , val acc: 0.9862709\n",
      "val acc improved, model saved to ./tf_saves/run_MlpBest/best_acc_val.ckpt\n",
      "4 , train acc: 1.0 , val acc: 0.988886\n",
      "val acc improved, model saved to ./tf_saves/run_MlpBest/best_acc_val.ckpt\n",
      "5 , train acc: 1.0 , val acc: 0.9853557\n",
      "6 , train acc: 1.0 , val acc: 0.98666316\n",
      "early stopping after epoch 6\n"
     ]
    }
   ],
   "source": [
    "# hyperparameters of MLP #22\n",
    "mlp_best = MlpMnist (\n",
    "    name = 'MlpBest',\n",
    "    lr = 0.001,\n",
    "    beta1 = 0.5,\n",
    "    beta2 = 0.599\n",
    ")\n",
    "\n",
    "mlp_best.fit (X_train, y_train, X_val, y_val)"
   ]
  },
  {
   "cell_type": "code",
   "execution_count": 23,
   "metadata": {},
   "outputs": [
    {
     "name": "stdout",
     "output_type": "stream",
     "text": [
      "INFO:tensorflow:Restoring parameters from ./tf_saves/run_MlpBest/best_acc_val.ckpt\n"
     ]
    },
    {
     "data": {
      "text/plain": [
       "0.9900759"
      ]
     },
     "execution_count": 23,
     "metadata": {},
     "output_type": "execute_result"
    }
   ],
   "source": [
    "mlp_best.score (X_test, y_test)"
   ]
  },
  {
   "cell_type": "markdown",
   "metadata": {},
   "source": [
    "### Evaluate wrong predicitons"
   ]
  },
  {
   "cell_type": "code",
   "execution_count": 24,
   "metadata": {},
   "outputs": [
    {
     "name": "stdout",
     "output_type": "stream",
     "text": [
      "INFO:tensorflow:Restoring parameters from ./tf_saves/run_MlpBest/best_acc_val.ckpt\n"
     ]
    }
   ],
   "source": [
    "y_pred, y_pred_distr = mlp_best.predict (X_test)"
   ]
  },
  {
   "cell_type": "code",
   "execution_count": 25,
   "metadata": {},
   "outputs": [],
   "source": [
    "y_test_ev = y_test.reshape (-1, 1)\n",
    "y_pred_ev = y_pred.reshape (-1, 1)\n",
    "y_pred_distr_ev = np.round (y_pred_distr*100, 2)"
   ]
  },
  {
   "cell_type": "code",
   "execution_count": 26,
   "metadata": {},
   "outputs": [
    {
     "data": {
      "text/html": [
       "<div>\n",
       "<style scoped>\n",
       "    .dataframe tbody tr th:only-of-type {\n",
       "        vertical-align: middle;\n",
       "    }\n",
       "\n",
       "    .dataframe tbody tr th {\n",
       "        vertical-align: top;\n",
       "    }\n",
       "\n",
       "    .dataframe thead th {\n",
       "        text-align: right;\n",
       "    }\n",
       "</style>\n",
       "<table border=\"1\" class=\"dataframe\">\n",
       "  <thead>\n",
       "    <tr style=\"text-align: right;\">\n",
       "      <th></th>\n",
       "      <th>y_test</th>\n",
       "      <th>y_pred</th>\n",
       "      <th>y_pred_d_0</th>\n",
       "      <th>y_pred_d_1</th>\n",
       "      <th>y_pred_d_2</th>\n",
       "      <th>y_pred_d_3</th>\n",
       "      <th>y_pred_d_4</th>\n",
       "    </tr>\n",
       "  </thead>\n",
       "  <tbody>\n",
       "    <tr>\n",
       "      <th>0</th>\n",
       "      <td>0</td>\n",
       "      <td>0</td>\n",
       "      <td>100</td>\n",
       "      <td>0</td>\n",
       "      <td>0</td>\n",
       "      <td>0</td>\n",
       "      <td>0</td>\n",
       "    </tr>\n",
       "    <tr>\n",
       "      <th>1</th>\n",
       "      <td>0</td>\n",
       "      <td>0</td>\n",
       "      <td>100</td>\n",
       "      <td>0</td>\n",
       "      <td>0</td>\n",
       "      <td>0</td>\n",
       "      <td>0</td>\n",
       "    </tr>\n",
       "    <tr>\n",
       "      <th>2</th>\n",
       "      <td>0</td>\n",
       "      <td>0</td>\n",
       "      <td>100</td>\n",
       "      <td>0</td>\n",
       "      <td>0</td>\n",
       "      <td>0</td>\n",
       "      <td>0</td>\n",
       "    </tr>\n",
       "  </tbody>\n",
       "</table>\n",
       "</div>"
      ],
      "text/plain": [
       "   y_test  y_pred  y_pred_d_0  y_pred_d_1  y_pred_d_2  y_pred_d_3  y_pred_d_4\n",
       "0       0       0         100           0           0           0           0\n",
       "1       0       0         100           0           0           0           0\n",
       "2       0       0         100           0           0           0           0"
      ]
     },
     "execution_count": 26,
     "metadata": {},
     "output_type": "execute_result"
    }
   ],
   "source": [
    "import pandas as pd\n",
    "\n",
    "y_test_pred = np.concatenate ((y_test_ev, y_pred_ev, y_pred_distr_ev), axis=1)\n",
    "\n",
    "y_test_pred_df = pd.DataFrame (\n",
    "    y_test_pred,\n",
    "    columns = ['y_test', 'y_pred', 'y_pred_d_0', 'y_pred_d_1', 'y_pred_d_2', 'y_pred_d_3', 'y_pred_d_4'],\n",
    "    dtype = 'i4'\n",
    ")\n",
    "y_test_pred_df.head (3)"
   ]
  },
  {
   "cell_type": "code",
   "execution_count": 27,
   "metadata": {},
   "outputs": [
    {
     "name": "stdout",
     "output_type": "stream",
     "text": [
      "(51, 7)\n"
     ]
    },
    {
     "data": {
      "text/html": [
       "<div>\n",
       "<style scoped>\n",
       "    .dataframe tbody tr th:only-of-type {\n",
       "        vertical-align: middle;\n",
       "    }\n",
       "\n",
       "    .dataframe tbody tr th {\n",
       "        vertical-align: top;\n",
       "    }\n",
       "\n",
       "    .dataframe thead th {\n",
       "        text-align: right;\n",
       "    }\n",
       "</style>\n",
       "<table border=\"1\" class=\"dataframe\">\n",
       "  <thead>\n",
       "    <tr style=\"text-align: right;\">\n",
       "      <th></th>\n",
       "      <th>y_test</th>\n",
       "      <th>y_pred</th>\n",
       "      <th>y_pred_d_0</th>\n",
       "      <th>y_pred_d_1</th>\n",
       "      <th>y_pred_d_2</th>\n",
       "      <th>y_pred_d_3</th>\n",
       "      <th>y_pred_d_4</th>\n",
       "    </tr>\n",
       "  </thead>\n",
       "  <tbody>\n",
       "    <tr>\n",
       "      <th>63</th>\n",
       "      <td>0</td>\n",
       "      <td>2</td>\n",
       "      <td>0</td>\n",
       "      <td>0</td>\n",
       "      <td>98</td>\n",
       "      <td>0</td>\n",
       "      <td>0</td>\n",
       "    </tr>\n",
       "    <tr>\n",
       "      <th>77</th>\n",
       "      <td>0</td>\n",
       "      <td>2</td>\n",
       "      <td>47</td>\n",
       "      <td>0</td>\n",
       "      <td>52</td>\n",
       "      <td>0</td>\n",
       "      <td>0</td>\n",
       "    </tr>\n",
       "    <tr>\n",
       "      <th>376</th>\n",
       "      <td>0</td>\n",
       "      <td>3</td>\n",
       "      <td>0</td>\n",
       "      <td>0</td>\n",
       "      <td>0</td>\n",
       "      <td>99</td>\n",
       "      <td>0</td>\n",
       "    </tr>\n",
       "    <tr>\n",
       "      <th>629</th>\n",
       "      <td>0</td>\n",
       "      <td>3</td>\n",
       "      <td>0</td>\n",
       "      <td>0</td>\n",
       "      <td>0</td>\n",
       "      <td>100</td>\n",
       "      <td>0</td>\n",
       "    </tr>\n",
       "    <tr>\n",
       "      <th>633</th>\n",
       "      <td>0</td>\n",
       "      <td>4</td>\n",
       "      <td>3</td>\n",
       "      <td>0</td>\n",
       "      <td>0</td>\n",
       "      <td>0</td>\n",
       "      <td>96</td>\n",
       "    </tr>\n",
       "    <tr>\n",
       "      <th>634</th>\n",
       "      <td>0</td>\n",
       "      <td>4</td>\n",
       "      <td>0</td>\n",
       "      <td>0</td>\n",
       "      <td>0</td>\n",
       "      <td>0</td>\n",
       "      <td>99</td>\n",
       "    </tr>\n",
       "    <tr>\n",
       "      <th>691</th>\n",
       "      <td>0</td>\n",
       "      <td>3</td>\n",
       "      <td>29</td>\n",
       "      <td>0</td>\n",
       "      <td>0</td>\n",
       "      <td>70</td>\n",
       "      <td>0</td>\n",
       "    </tr>\n",
       "    <tr>\n",
       "      <th>942</th>\n",
       "      <td>0</td>\n",
       "      <td>2</td>\n",
       "      <td>0</td>\n",
       "      <td>0</td>\n",
       "      <td>99</td>\n",
       "      <td>0</td>\n",
       "      <td>0</td>\n",
       "    </tr>\n",
       "    <tr>\n",
       "      <th>1218</th>\n",
       "      <td>1</td>\n",
       "      <td>4</td>\n",
       "      <td>0</td>\n",
       "      <td>29</td>\n",
       "      <td>0</td>\n",
       "      <td>0</td>\n",
       "      <td>70</td>\n",
       "    </tr>\n",
       "    <tr>\n",
       "      <th>1231</th>\n",
       "      <td>1</td>\n",
       "      <td>2</td>\n",
       "      <td>0</td>\n",
       "      <td>7</td>\n",
       "      <td>92</td>\n",
       "      <td>0</td>\n",
       "      <td>0</td>\n",
       "    </tr>\n",
       "    <tr>\n",
       "      <th>1328</th>\n",
       "      <td>1</td>\n",
       "      <td>2</td>\n",
       "      <td>0</td>\n",
       "      <td>0</td>\n",
       "      <td>99</td>\n",
       "      <td>0</td>\n",
       "      <td>0</td>\n",
       "    </tr>\n",
       "    <tr>\n",
       "      <th>1421</th>\n",
       "      <td>1</td>\n",
       "      <td>3</td>\n",
       "      <td>0</td>\n",
       "      <td>0</td>\n",
       "      <td>2</td>\n",
       "      <td>97</td>\n",
       "      <td>0</td>\n",
       "    </tr>\n",
       "    <tr>\n",
       "      <th>1466</th>\n",
       "      <td>1</td>\n",
       "      <td>3</td>\n",
       "      <td>0</td>\n",
       "      <td>40</td>\n",
       "      <td>13</td>\n",
       "      <td>46</td>\n",
       "      <td>0</td>\n",
       "    </tr>\n",
       "    <tr>\n",
       "      <th>1494</th>\n",
       "      <td>1</td>\n",
       "      <td>2</td>\n",
       "      <td>0</td>\n",
       "      <td>15</td>\n",
       "      <td>83</td>\n",
       "      <td>0</td>\n",
       "      <td>0</td>\n",
       "    </tr>\n",
       "    <tr>\n",
       "      <th>1589</th>\n",
       "      <td>1</td>\n",
       "      <td>2</td>\n",
       "      <td>0</td>\n",
       "      <td>23</td>\n",
       "      <td>76</td>\n",
       "      <td>0</td>\n",
       "      <td>0</td>\n",
       "    </tr>\n",
       "    <tr>\n",
       "      <th>1887</th>\n",
       "      <td>1</td>\n",
       "      <td>2</td>\n",
       "      <td>0</td>\n",
       "      <td>1</td>\n",
       "      <td>97</td>\n",
       "      <td>0</td>\n",
       "      <td>0</td>\n",
       "    </tr>\n",
       "    <tr>\n",
       "      <th>2303</th>\n",
       "      <td>2</td>\n",
       "      <td>0</td>\n",
       "      <td>51</td>\n",
       "      <td>0</td>\n",
       "      <td>43</td>\n",
       "      <td>5</td>\n",
       "      <td>0</td>\n",
       "    </tr>\n",
       "    <tr>\n",
       "      <th>2311</th>\n",
       "      <td>2</td>\n",
       "      <td>4</td>\n",
       "      <td>0</td>\n",
       "      <td>0</td>\n",
       "      <td>0</td>\n",
       "      <td>0</td>\n",
       "      <td>100</td>\n",
       "    </tr>\n",
       "    <tr>\n",
       "      <th>2353</th>\n",
       "      <td>2</td>\n",
       "      <td>3</td>\n",
       "      <td>0</td>\n",
       "      <td>0</td>\n",
       "      <td>0</td>\n",
       "      <td>99</td>\n",
       "      <td>0</td>\n",
       "    </tr>\n",
       "    <tr>\n",
       "      <th>2387</th>\n",
       "      <td>2</td>\n",
       "      <td>4</td>\n",
       "      <td>0</td>\n",
       "      <td>0</td>\n",
       "      <td>0</td>\n",
       "      <td>0</td>\n",
       "      <td>99</td>\n",
       "    </tr>\n",
       "    <tr>\n",
       "      <th>2466</th>\n",
       "      <td>2</td>\n",
       "      <td>3</td>\n",
       "      <td>0</td>\n",
       "      <td>0</td>\n",
       "      <td>17</td>\n",
       "      <td>82</td>\n",
       "      <td>0</td>\n",
       "    </tr>\n",
       "    <tr>\n",
       "      <th>2499</th>\n",
       "      <td>2</td>\n",
       "      <td>3</td>\n",
       "      <td>0</td>\n",
       "      <td>0</td>\n",
       "      <td>0</td>\n",
       "      <td>99</td>\n",
       "      <td>0</td>\n",
       "    </tr>\n",
       "    <tr>\n",
       "      <th>2512</th>\n",
       "      <td>2</td>\n",
       "      <td>3</td>\n",
       "      <td>0</td>\n",
       "      <td>0</td>\n",
       "      <td>0</td>\n",
       "      <td>99</td>\n",
       "      <td>0</td>\n",
       "    </tr>\n",
       "    <tr>\n",
       "      <th>2513</th>\n",
       "      <td>2</td>\n",
       "      <td>4</td>\n",
       "      <td>0</td>\n",
       "      <td>0</td>\n",
       "      <td>6</td>\n",
       "      <td>0</td>\n",
       "      <td>93</td>\n",
       "    </tr>\n",
       "    <tr>\n",
       "      <th>2601</th>\n",
       "      <td>2</td>\n",
       "      <td>4</td>\n",
       "      <td>0</td>\n",
       "      <td>0</td>\n",
       "      <td>0</td>\n",
       "      <td>0</td>\n",
       "      <td>99</td>\n",
       "    </tr>\n",
       "    <tr>\n",
       "      <th>2644</th>\n",
       "      <td>2</td>\n",
       "      <td>3</td>\n",
       "      <td>0</td>\n",
       "      <td>0</td>\n",
       "      <td>24</td>\n",
       "      <td>75</td>\n",
       "      <td>0</td>\n",
       "    </tr>\n",
       "    <tr>\n",
       "      <th>2705</th>\n",
       "      <td>2</td>\n",
       "      <td>3</td>\n",
       "      <td>0</td>\n",
       "      <td>0</td>\n",
       "      <td>3</td>\n",
       "      <td>96</td>\n",
       "      <td>0</td>\n",
       "    </tr>\n",
       "    <tr>\n",
       "      <th>2743</th>\n",
       "      <td>2</td>\n",
       "      <td>0</td>\n",
       "      <td>55</td>\n",
       "      <td>0</td>\n",
       "      <td>16</td>\n",
       "      <td>28</td>\n",
       "      <td>0</td>\n",
       "    </tr>\n",
       "    <tr>\n",
       "      <th>3116</th>\n",
       "      <td>2</td>\n",
       "      <td>4</td>\n",
       "      <td>0</td>\n",
       "      <td>5</td>\n",
       "      <td>45</td>\n",
       "      <td>0</td>\n",
       "      <td>48</td>\n",
       "    </tr>\n",
       "    <tr>\n",
       "      <th>3123</th>\n",
       "      <td>2</td>\n",
       "      <td>0</td>\n",
       "      <td>74</td>\n",
       "      <td>0</td>\n",
       "      <td>25</td>\n",
       "      <td>0</td>\n",
       "      <td>0</td>\n",
       "    </tr>\n",
       "    <tr>\n",
       "      <th>3130</th>\n",
       "      <td>2</td>\n",
       "      <td>3</td>\n",
       "      <td>0</td>\n",
       "      <td>0</td>\n",
       "      <td>4</td>\n",
       "      <td>95</td>\n",
       "      <td>0</td>\n",
       "    </tr>\n",
       "    <tr>\n",
       "      <th>3131</th>\n",
       "      <td>2</td>\n",
       "      <td>3</td>\n",
       "      <td>0</td>\n",
       "      <td>0</td>\n",
       "      <td>19</td>\n",
       "      <td>80</td>\n",
       "      <td>0</td>\n",
       "    </tr>\n",
       "    <tr>\n",
       "      <th>3310</th>\n",
       "      <td>3</td>\n",
       "      <td>2</td>\n",
       "      <td>0</td>\n",
       "      <td>0</td>\n",
       "      <td>81</td>\n",
       "      <td>17</td>\n",
       "      <td>1</td>\n",
       "    </tr>\n",
       "    <tr>\n",
       "      <th>3369</th>\n",
       "      <td>3</td>\n",
       "      <td>4</td>\n",
       "      <td>0</td>\n",
       "      <td>0</td>\n",
       "      <td>0</td>\n",
       "      <td>0</td>\n",
       "      <td>99</td>\n",
       "    </tr>\n",
       "    <tr>\n",
       "      <th>3450</th>\n",
       "      <td>3</td>\n",
       "      <td>0</td>\n",
       "      <td>76</td>\n",
       "      <td>0</td>\n",
       "      <td>23</td>\n",
       "      <td>0</td>\n",
       "      <td>0</td>\n",
       "    </tr>\n",
       "    <tr>\n",
       "      <th>3557</th>\n",
       "      <td>3</td>\n",
       "      <td>2</td>\n",
       "      <td>0</td>\n",
       "      <td>0</td>\n",
       "      <td>93</td>\n",
       "      <td>6</td>\n",
       "      <td>0</td>\n",
       "    </tr>\n",
       "    <tr>\n",
       "      <th>3591</th>\n",
       "      <td>3</td>\n",
       "      <td>2</td>\n",
       "      <td>0</td>\n",
       "      <td>0</td>\n",
       "      <td>78</td>\n",
       "      <td>21</td>\n",
       "      <td>0</td>\n",
       "    </tr>\n",
       "    <tr>\n",
       "      <th>3592</th>\n",
       "      <td>3</td>\n",
       "      <td>2</td>\n",
       "      <td>0</td>\n",
       "      <td>0</td>\n",
       "      <td>83</td>\n",
       "      <td>16</td>\n",
       "      <td>0</td>\n",
       "    </tr>\n",
       "    <tr>\n",
       "      <th>3717</th>\n",
       "      <td>3</td>\n",
       "      <td>2</td>\n",
       "      <td>0</td>\n",
       "      <td>0</td>\n",
       "      <td>81</td>\n",
       "      <td>0</td>\n",
       "      <td>18</td>\n",
       "    </tr>\n",
       "    <tr>\n",
       "      <th>3787</th>\n",
       "      <td>3</td>\n",
       "      <td>2</td>\n",
       "      <td>0</td>\n",
       "      <td>0</td>\n",
       "      <td>91</td>\n",
       "      <td>8</td>\n",
       "      <td>0</td>\n",
       "    </tr>\n",
       "    <tr>\n",
       "      <th>3930</th>\n",
       "      <td>3</td>\n",
       "      <td>2</td>\n",
       "      <td>0</td>\n",
       "      <td>0</td>\n",
       "      <td>99</td>\n",
       "      <td>0</td>\n",
       "      <td>0</td>\n",
       "    </tr>\n",
       "    <tr>\n",
       "      <th>3932</th>\n",
       "      <td>3</td>\n",
       "      <td>2</td>\n",
       "      <td>0</td>\n",
       "      <td>0</td>\n",
       "      <td>98</td>\n",
       "      <td>1</td>\n",
       "      <td>0</td>\n",
       "    </tr>\n",
       "    <tr>\n",
       "      <th>4147</th>\n",
       "      <td>3</td>\n",
       "      <td>2</td>\n",
       "      <td>0</td>\n",
       "      <td>0</td>\n",
       "      <td>86</td>\n",
       "      <td>13</td>\n",
       "      <td>0</td>\n",
       "    </tr>\n",
       "    <tr>\n",
       "      <th>4188</th>\n",
       "      <td>4</td>\n",
       "      <td>2</td>\n",
       "      <td>0</td>\n",
       "      <td>0</td>\n",
       "      <td>99</td>\n",
       "      <td>0</td>\n",
       "      <td>0</td>\n",
       "    </tr>\n",
       "    <tr>\n",
       "      <th>4330</th>\n",
       "      <td>4</td>\n",
       "      <td>2</td>\n",
       "      <td>0</td>\n",
       "      <td>0</td>\n",
       "      <td>85</td>\n",
       "      <td>0</td>\n",
       "      <td>14</td>\n",
       "    </tr>\n",
       "    <tr>\n",
       "      <th>4352</th>\n",
       "      <td>4</td>\n",
       "      <td>2</td>\n",
       "      <td>0</td>\n",
       "      <td>0</td>\n",
       "      <td>92</td>\n",
       "      <td>7</td>\n",
       "      <td>0</td>\n",
       "    </tr>\n",
       "    <tr>\n",
       "      <th>4534</th>\n",
       "      <td>4</td>\n",
       "      <td>2</td>\n",
       "      <td>0</td>\n",
       "      <td>0</td>\n",
       "      <td>97</td>\n",
       "      <td>0</td>\n",
       "      <td>2</td>\n",
       "    </tr>\n",
       "    <tr>\n",
       "      <th>4560</th>\n",
       "      <td>4</td>\n",
       "      <td>2</td>\n",
       "      <td>0</td>\n",
       "      <td>0</td>\n",
       "      <td>54</td>\n",
       "      <td>0</td>\n",
       "      <td>45</td>\n",
       "    </tr>\n",
       "    <tr>\n",
       "      <th>4622</th>\n",
       "      <td>4</td>\n",
       "      <td>2</td>\n",
       "      <td>0</td>\n",
       "      <td>0</td>\n",
       "      <td>99</td>\n",
       "      <td>0</td>\n",
       "      <td>0</td>\n",
       "    </tr>\n",
       "    <tr>\n",
       "      <th>4744</th>\n",
       "      <td>4</td>\n",
       "      <td>2</td>\n",
       "      <td>0</td>\n",
       "      <td>0</td>\n",
       "      <td>99</td>\n",
       "      <td>0</td>\n",
       "      <td>0</td>\n",
       "    </tr>\n",
       "    <tr>\n",
       "      <th>5113</th>\n",
       "      <td>4</td>\n",
       "      <td>0</td>\n",
       "      <td>92</td>\n",
       "      <td>0</td>\n",
       "      <td>2</td>\n",
       "      <td>0</td>\n",
       "      <td>4</td>\n",
       "    </tr>\n",
       "  </tbody>\n",
       "</table>\n",
       "</div>"
      ],
      "text/plain": [
       "      y_test  y_pred  y_pred_d_0  y_pred_d_1  y_pred_d_2  y_pred_d_3  \\\n",
       "63         0       2           0           0          98           0   \n",
       "77         0       2          47           0          52           0   \n",
       "376        0       3           0           0           0          99   \n",
       "629        0       3           0           0           0         100   \n",
       "633        0       4           3           0           0           0   \n",
       "634        0       4           0           0           0           0   \n",
       "691        0       3          29           0           0          70   \n",
       "942        0       2           0           0          99           0   \n",
       "1218       1       4           0          29           0           0   \n",
       "1231       1       2           0           7          92           0   \n",
       "1328       1       2           0           0          99           0   \n",
       "1421       1       3           0           0           2          97   \n",
       "1466       1       3           0          40          13          46   \n",
       "1494       1       2           0          15          83           0   \n",
       "1589       1       2           0          23          76           0   \n",
       "1887       1       2           0           1          97           0   \n",
       "2303       2       0          51           0          43           5   \n",
       "2311       2       4           0           0           0           0   \n",
       "2353       2       3           0           0           0          99   \n",
       "2387       2       4           0           0           0           0   \n",
       "2466       2       3           0           0          17          82   \n",
       "2499       2       3           0           0           0          99   \n",
       "2512       2       3           0           0           0          99   \n",
       "2513       2       4           0           0           6           0   \n",
       "2601       2       4           0           0           0           0   \n",
       "2644       2       3           0           0          24          75   \n",
       "2705       2       3           0           0           3          96   \n",
       "2743       2       0          55           0          16          28   \n",
       "3116       2       4           0           5          45           0   \n",
       "3123       2       0          74           0          25           0   \n",
       "3130       2       3           0           0           4          95   \n",
       "3131       2       3           0           0          19          80   \n",
       "3310       3       2           0           0          81          17   \n",
       "3369       3       4           0           0           0           0   \n",
       "3450       3       0          76           0          23           0   \n",
       "3557       3       2           0           0          93           6   \n",
       "3591       3       2           0           0          78          21   \n",
       "3592       3       2           0           0          83          16   \n",
       "3717       3       2           0           0          81           0   \n",
       "3787       3       2           0           0          91           8   \n",
       "3930       3       2           0           0          99           0   \n",
       "3932       3       2           0           0          98           1   \n",
       "4147       3       2           0           0          86          13   \n",
       "4188       4       2           0           0          99           0   \n",
       "4330       4       2           0           0          85           0   \n",
       "4352       4       2           0           0          92           7   \n",
       "4534       4       2           0           0          97           0   \n",
       "4560       4       2           0           0          54           0   \n",
       "4622       4       2           0           0          99           0   \n",
       "4744       4       2           0           0          99           0   \n",
       "5113       4       0          92           0           2           0   \n",
       "\n",
       "      y_pred_d_4  \n",
       "63             0  \n",
       "77             0  \n",
       "376            0  \n",
       "629            0  \n",
       "633           96  \n",
       "634           99  \n",
       "691            0  \n",
       "942            0  \n",
       "1218          70  \n",
       "1231           0  \n",
       "1328           0  \n",
       "1421           0  \n",
       "1466           0  \n",
       "1494           0  \n",
       "1589           0  \n",
       "1887           0  \n",
       "2303           0  \n",
       "2311         100  \n",
       "2353           0  \n",
       "2387          99  \n",
       "2466           0  \n",
       "2499           0  \n",
       "2512           0  \n",
       "2513          93  \n",
       "2601          99  \n",
       "2644           0  \n",
       "2705           0  \n",
       "2743           0  \n",
       "3116          48  \n",
       "3123           0  \n",
       "3130           0  \n",
       "3131           0  \n",
       "3310           1  \n",
       "3369          99  \n",
       "3450           0  \n",
       "3557           0  \n",
       "3591           0  \n",
       "3592           0  \n",
       "3717          18  \n",
       "3787           0  \n",
       "3930           0  \n",
       "3932           0  \n",
       "4147           0  \n",
       "4188           0  \n",
       "4330          14  \n",
       "4352           0  \n",
       "4534           2  \n",
       "4560          45  \n",
       "4622           0  \n",
       "4744           0  \n",
       "5113           4  "
      ]
     },
     "metadata": {},
     "output_type": "display_data"
    }
   ],
   "source": [
    "y_diff_df = y_test_pred_df[y_test_pred_df['y_test'] != y_test_pred_df['y_pred']]\n",
    "print (y_diff_df.shape)\n",
    "display (y_diff_df)"
   ]
  },
  {
   "cell_type": "code",
   "execution_count": 39,
   "metadata": {},
   "outputs": [],
   "source": [
    "#y_diff_idx = np.where (y_test_pred_df['y_test'].values != y_test_pred_df['y_pred'].values)\n",
    "y_diff_idx = y_diff_df.index.values\n",
    "X_diff = X_test[y_diff_idx]\n",
    "X_diff_img = X_diff.reshape (X_diff.shape[0], 28, 28)"
   ]
  },
  {
   "cell_type": "code",
   "execution_count": 72,
   "metadata": {},
   "outputs": [
    {
     "ename": "IndexError",
     "evalue": "single positional indexer is out-of-bounds",
     "output_type": "error",
     "traceback": [
      "\u001b[1;31m---------------------------------------------------------------------------\u001b[0m",
      "\u001b[1;31mIndexError\u001b[0m                                Traceback (most recent call last)",
      "\u001b[1;32m<ipython-input-72-43de852ee5f1>\u001b[0m in \u001b[0;36m<module>\u001b[1;34m\u001b[0m\n\u001b[1;32m----> 1\u001b[1;33m \u001b[0my_diff_df\u001b[0m\u001b[1;33m.\u001b[0m\u001b[0miloc\u001b[0m\u001b[1;33m[\u001b[0m\u001b[1;36m63\u001b[0m\u001b[1;33m]\u001b[0m\u001b[1;33m\u001b[0m\u001b[0m\n\u001b[0m",
      "\u001b[1;32mc:\\_pyvenvs\\ml\\lib\\site-packages\\pandas\\core\\indexing.py\u001b[0m in \u001b[0;36m__getitem__\u001b[1;34m(self, key)\u001b[0m\n\u001b[0;32m   1476\u001b[0m \u001b[1;33m\u001b[0m\u001b[0m\n\u001b[0;32m   1477\u001b[0m             \u001b[0mmaybe_callable\u001b[0m \u001b[1;33m=\u001b[0m \u001b[0mcom\u001b[0m\u001b[1;33m.\u001b[0m\u001b[0m_apply_if_callable\u001b[0m\u001b[1;33m(\u001b[0m\u001b[0mkey\u001b[0m\u001b[1;33m,\u001b[0m \u001b[0mself\u001b[0m\u001b[1;33m.\u001b[0m\u001b[0mobj\u001b[0m\u001b[1;33m)\u001b[0m\u001b[1;33m\u001b[0m\u001b[0m\n\u001b[1;32m-> 1478\u001b[1;33m             \u001b[1;32mreturn\u001b[0m \u001b[0mself\u001b[0m\u001b[1;33m.\u001b[0m\u001b[0m_getitem_axis\u001b[0m\u001b[1;33m(\u001b[0m\u001b[0mmaybe_callable\u001b[0m\u001b[1;33m,\u001b[0m \u001b[0maxis\u001b[0m\u001b[1;33m=\u001b[0m\u001b[0maxis\u001b[0m\u001b[1;33m)\u001b[0m\u001b[1;33m\u001b[0m\u001b[0m\n\u001b[0m\u001b[0;32m   1479\u001b[0m \u001b[1;33m\u001b[0m\u001b[0m\n\u001b[0;32m   1480\u001b[0m     \u001b[1;32mdef\u001b[0m \u001b[0m_is_scalar_access\u001b[0m\u001b[1;33m(\u001b[0m\u001b[0mself\u001b[0m\u001b[1;33m,\u001b[0m \u001b[0mkey\u001b[0m\u001b[1;33m)\u001b[0m\u001b[1;33m:\u001b[0m\u001b[1;33m\u001b[0m\u001b[0m\n",
      "\u001b[1;32mc:\\_pyvenvs\\ml\\lib\\site-packages\\pandas\\core\\indexing.py\u001b[0m in \u001b[0;36m_getitem_axis\u001b[1;34m(self, key, axis)\u001b[0m\n\u001b[0;32m   2100\u001b[0m \u001b[1;33m\u001b[0m\u001b[0m\n\u001b[0;32m   2101\u001b[0m             \u001b[1;31m# validate the location\u001b[0m\u001b[1;33m\u001b[0m\u001b[1;33m\u001b[0m\u001b[0m\n\u001b[1;32m-> 2102\u001b[1;33m             \u001b[0mself\u001b[0m\u001b[1;33m.\u001b[0m\u001b[0m_validate_integer\u001b[0m\u001b[1;33m(\u001b[0m\u001b[0mkey\u001b[0m\u001b[1;33m,\u001b[0m \u001b[0maxis\u001b[0m\u001b[1;33m)\u001b[0m\u001b[1;33m\u001b[0m\u001b[0m\n\u001b[0m\u001b[0;32m   2103\u001b[0m \u001b[1;33m\u001b[0m\u001b[0m\n\u001b[0;32m   2104\u001b[0m             \u001b[1;32mreturn\u001b[0m \u001b[0mself\u001b[0m\u001b[1;33m.\u001b[0m\u001b[0m_get_loc\u001b[0m\u001b[1;33m(\u001b[0m\u001b[0mkey\u001b[0m\u001b[1;33m,\u001b[0m \u001b[0maxis\u001b[0m\u001b[1;33m=\u001b[0m\u001b[0maxis\u001b[0m\u001b[1;33m)\u001b[0m\u001b[1;33m\u001b[0m\u001b[0m\n",
      "\u001b[1;32mc:\\_pyvenvs\\ml\\lib\\site-packages\\pandas\\core\\indexing.py\u001b[0m in \u001b[0;36m_validate_integer\u001b[1;34m(self, key, axis)\u001b[0m\n\u001b[0;32m   2007\u001b[0m         \u001b[0ml\u001b[0m \u001b[1;33m=\u001b[0m \u001b[0mlen\u001b[0m\u001b[1;33m(\u001b[0m\u001b[0max\u001b[0m\u001b[1;33m)\u001b[0m\u001b[1;33m\u001b[0m\u001b[0m\n\u001b[0;32m   2008\u001b[0m         \u001b[1;32mif\u001b[0m \u001b[0mkey\u001b[0m \u001b[1;33m>=\u001b[0m \u001b[0ml\u001b[0m \u001b[1;32mor\u001b[0m \u001b[0mkey\u001b[0m \u001b[1;33m<\u001b[0m \u001b[1;33m-\u001b[0m\u001b[0ml\u001b[0m\u001b[1;33m:\u001b[0m\u001b[1;33m\u001b[0m\u001b[0m\n\u001b[1;32m-> 2009\u001b[1;33m             \u001b[1;32mraise\u001b[0m \u001b[0mIndexError\u001b[0m\u001b[1;33m(\u001b[0m\u001b[1;34m\"single positional indexer is out-of-bounds\"\u001b[0m\u001b[1;33m)\u001b[0m\u001b[1;33m\u001b[0m\u001b[0m\n\u001b[0m\u001b[0;32m   2010\u001b[0m \u001b[1;33m\u001b[0m\u001b[0m\n\u001b[0;32m   2011\u001b[0m     \u001b[1;32mdef\u001b[0m \u001b[0m_getitem_tuple\u001b[0m\u001b[1;33m(\u001b[0m\u001b[0mself\u001b[0m\u001b[1;33m,\u001b[0m \u001b[0mtup\u001b[0m\u001b[1;33m)\u001b[0m\u001b[1;33m:\u001b[0m\u001b[1;33m\u001b[0m\u001b[0m\n",
      "\u001b[1;31mIndexError\u001b[0m: single positional indexer is out-of-bounds"
     ]
    }
   ],
   "source": [
    "y_diff_df.iloc[63]"
   ]
  },
  {
   "cell_type": "code",
   "execution_count": 75,
   "metadata": {},
   "outputs": [
    {
     "data": {
      "image/png": "[encoded data removed]",
      "text/plain": [
       "<Figure size 720x720 with 60 Axes>"
      ]
     },
     "metadata": {
      "needs_background": "light"
     },
     "output_type": "display_data"
    }
   ],
   "source": [
    "img_per_col = 10\n",
    "num_rows = int (np.ceil (X_diff_img.shape[0] / img_per_col))\n",
    "\n",
    "fig, axs = plt.subplots (num_rows, img_per_col)\n",
    "\n",
    "i, j = 0, 0\n",
    "for k in range (num_rows*img_per_col):\n",
    "    \n",
    "    if (k >= X_diff_img.shape[0]):\n",
    "        break\n",
    "    axs[i][j].imshow (X_diff_img[i])\n",
    "    axs[i][j].set_title ('{} ({})'.format (y_diff_df.iloc[k][1], y_diff_df.iloc[k][0]))\n",
    "    axs[i][j].axis ('off')\n",
    "    \n",
    "    j += 1\n",
    "    if (j%img_per_col == 0):\n",
    "        i += 1\n",
    "        j = 0\n",
    "\n",
    "fig.set_size_inches (10, 10)\n",
    "plt.tight_layout ()\n",
    "plt.show ()"
   ]
  },
  {
   "cell_type": "code",
   "execution_count": 179,
   "metadata": {},
   "outputs": [
    {
     "data": {
      "text/plain": [
       "<matplotlib.collections.PathCollection at 0x22611ea9fd0>"
      ]
     },
     "execution_count": 179,
     "metadata": {},
     "output_type": "execute_result"
    },
    {
     "data": {
      "image/png": "[encoded data removed]",
      "text/plain": [
       "<Figure size 432x288 with 1 Axes>"
      ]
     },
     "metadata": {
      "needs_background": "light"
     },
     "output_type": "display_data"
    }
   ],
   "source": [
    "plt.scatter (y_test[y_diff_idx], y_pred[y_diff_idx])"
   ]
  },
  {
   "cell_type": "code",
   "execution_count": 177,
   "metadata": {},
   "outputs": [
    {
     "data": {
      "text/plain": [
       "<BarContainer object of 49 artists>"
      ]
     },
     "execution_count": 177,
     "metadata": {},
     "output_type": "execute_result"
    },
    {
     "data": {
      "image/png": "[encoded data removed]",
      "text/plain": [
       "<Figure size 432x288 with 1 Axes>"
      ]
     },
     "metadata": {
      "needs_background": "light"
     },
     "output_type": "display_data"
    }
   ],
   "source": [
    "plt.bar (y_test[y_diff_idx], y_pred[y_diff_idx])"
   ]
  },
  {
   "cell_type": "markdown",
   "metadata": {},
   "source": [
    "## Test with own handwritten digits"
   ]
  },
  {
   "cell_type": "code",
   "execution_count": 119,
   "metadata": {},
   "outputs": [
    {
     "name": "stdout",
     "output_type": "stream",
     "text": [
      "[i] image size: (233, 496)\n",
      "[i] pixel format: L\n"
     ]
    }
   ],
   "source": [
    "import numpy as np\n",
    "from PIL import Image\n",
    "\n",
    "im_path = './src/c-major-scale-on-treble-clef.graph.png'\n",
    "im = Image.open (im_path).convert ('L')\n",
    "print ('[i] image size:', im.size)\n",
    "print ('[i] pixel format:', im.mode)"
   ]
  },
  {
   "cell_type": "code",
   "execution_count": 120,
   "metadata": {},
   "outputs": [
    {
     "data": {
      "image/png": "[encoded data removed]",
      "text/plain": [
       "<Figure size 720x720 with 1 Axes>"
      ]
     },
     "metadata": {
      "needs_background": "light"
     },
     "output_type": "display_data"
    }
   ],
   "source": [
    "fig, axs = plt.subplots (1, 1)\n",
    "\n",
    "axs.imshow (im)\n",
    "\n",
    "fig.set_size_inches (10, 10)\n",
    "plt.show ()"
   ]
  },
  {
   "cell_type": "code",
   "execution_count": 121,
   "metadata": {},
   "outputs": [
    {
     "data": {
      "text/plain": [
       "(1, 115568)"
      ]
     },
     "execution_count": 121,
     "metadata": {},
     "output_type": "execute_result"
    }
   ],
   "source": [
    "im_arr = np.array (im)\n",
    "# add instance axis\n",
    "im_arr = im_arr[np.newaxis, :, :]\n",
    "# flatten\n",
    "im_arr = im_arr.reshape (im_arr.shape[0], im_arr.shape[1]*im_arr.shape[2])\n",
    "\n",
    "im_arr.shape"
   ]
  },
  {
   "cell_type": "code",
   "execution_count": 163,
   "metadata": {},
   "outputs": [],
   "source": [
    "X_pred = np.ndarray ((1,28*28))"
   ]
  },
  {
   "cell_type": "code",
   "execution_count": 164,
   "metadata": {},
   "outputs": [
    {
     "name": "stdout",
     "output_type": "stream",
     "text": [
      "INFO:tensorflow:Restoring parameters from ./tf_saves/run_MlpBest/best_acc_val.ckpt\n"
     ]
    }
   ],
   "source": [
    "myMnistEst = MlpMnist (\n",
    "    name = 'myMnistEst',\n",
    "    restore_ckpt = './tf_saves/run_MlpBest/best_acc_val.ckpt'\n",
    ")\n",
    "\n",
    "y_pred, y_pred_distr = myMnistEst.predict (X_pred)"
   ]
  },
  {
   "cell_type": "markdown",
   "metadata": {},
   "source": [
    "## TODO"
   ]
  },
  {
   "cell_type": "markdown",
   "metadata": {},
   "source": [
    "### k-fold cross validation with sklearn's GridSearchCV\n",
    "Does not work currently due to:\n",
    "\n",
    "'Cannot clone object '<__main__.MlpMnist object at 0x0000015B4E127978>' (type <class '__main__.MlpMnist'>): it does not seem to be a scikit-learn estimator as it does not implement a 'get_params' methods.'"
   ]
  },
  {
   "cell_type": "code",
   "execution_count": 296,
   "metadata": {},
   "outputs": [
    {
     "data": {
      "text/plain": [
       "GridSearchCV(cv=StratifiedKFold(n_splits=4, random_state=42, shuffle=False),\n",
       "       error_score='raise-deprecating',\n",
       "       estimator=<__main__.MlpMnist object at 0x0000015B5370D908>,\n",
       "       fit_params=None, iid='warn', n_jobs=1,\n",
       "       param_grid={'lr': [0.1, 0.01, 0.001, 0.0001], 'beta1': [0.9], 'beta2': [0.999]},\n",
       "       pre_dispatch='2*n_jobs', refit=False, return_train_score='warn',\n",
       "       scoring=None, verbose=0)"
      ]
     },
     "execution_count": 296,
     "metadata": {},
     "output_type": "execute_result"
    }
   ],
   "source": [
    "from sklearn.model_selection import GridSearchCV\n",
    "\n",
    "param_grid = {\n",
    "    'lr' : [0.1, 0.01, 0.001, 0.0001],\n",
    "    'beta1' : [0.9],\n",
    "    'beta2' : [0.999]\n",
    "}\n",
    "\n",
    "mlpkfold = MlpMnist (name = 'mlpkfold')\n",
    "\n",
    "gscv = GridSearchCV (\n",
    "    estimator = mlpkfold,\n",
    "    param_grid = param_grid,\n",
    "    cv = skf,\n",
    "    n_jobs = 1,\n",
    "    refit = False\n",
    ")\n",
    "gscv"
   ]
  },
  {
   "cell_type": "code",
   "execution_count": 297,
   "metadata": {},
   "outputs": [],
   "source": [
    "# shuffle dataset first\n",
    "#x_train_04, _, y_train_04, _ = train_test_split (\n",
    "#    x_train_04, y_train_04, test_size = 0.0, train_size = None, shuffle = True, random_state = 42\n",
    "#)\n",
    "\n",
    "#gscv.fit (x_train_04, y_train_04)"
   ]
  },
  {
   "cell_type": "code",
   "execution_count": null,
   "metadata": {},
   "outputs": [],
   "source": []
  }
 ],
 "metadata": {
  "kernelspec": {
   "display_name": "Python 3",
   "language": "python",
   "name": "python3"
  },
  "language_info": {
   "codemirror_mode": {
    "name": "ipython",
    "version": 3
   },
   "file_extension": ".py",
   "mimetype": "text/x-python",
   "name": "python",
   "nbconvert_exporter": "python",
   "pygments_lexer": "ipython3",
   "version": "3.6.4"
  }
 },
 "nbformat": 4,
 "nbformat_minor": 2
}
