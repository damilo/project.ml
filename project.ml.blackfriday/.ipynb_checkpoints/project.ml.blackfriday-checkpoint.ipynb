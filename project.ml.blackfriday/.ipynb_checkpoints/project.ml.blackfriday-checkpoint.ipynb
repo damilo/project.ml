{
 "cells": [
  {
   "cell_type": "markdown",
   "metadata": {},
   "source": [
    "# Contest: Black Friday - Analytics Vidhya\n",
    "---\n",
    "<a href='https://datahack.analyticsvidhya.com/contest/black-friday/'>Contest: Black Friday - Analytics Vidhya</a>"
   ]
  },
  {
   "cell_type": "markdown",
   "metadata": {},
   "source": [
    "## Project Overview\n",
    "### Problem Statement\n",
    "A retail company “ABC Private Limited” wants to understand the customer purchase behaviour (specifically, purchase amount) against various products of different categories. They have shared purchase summary of various customers for selected high volume products from last month.\n",
    "The data set also contains customer demographics (age, gender, marital status, city_type, stay_in_current_city), product details (product_id and product category) and Total purchase_amount from last month.\n",
    "\n",
    "Now, they want to build a model to predict the purchase amount of customer against various products which will help them to create personalized offer for customers against different products.\n",
    "### Data\n",
    "<pre>\n",
    "Variable                    Definition\n",
    "\n",
    "User_ID                     User ID\n",
    "\n",
    "Product details:\n",
    "Product_ID                  Product ID\n",
    "Product_Category_1          Product Category (Masked)\n",
    "Product_Category_2          Product may belongs to other category also (Masked)\n",
    "Product_Category_3          Product may belongs to other category also (Masked)\n",
    "\n",
    "Customer demographics:\n",
    "Gender                      Sex of User\n",
    "Age                         Age in bins\n",
    "Occupation                  Occupation (Masked) (Besch&auml;ftigung)\n",
    "City_Category               Category of the City (A,B,C)\n",
    "Stay_In_Current_City_Years  Number of years stay in current city\n",
    "Marital_Status              Marital Status\n",
    "\n",
    "Target:\n",
    "Purchase                    Purchase Amount (Target Variable)\n",
    "</pre>\n",
    "### Evaluation Metric\n",
    "Submissions are scored on the root mean squared error (RMSE).\n",
    "\n",
    "$RMSE = \\sqrt{\\frac 1n \\sum_{i=1}^n {(y-\\hat y)^2}}$"
   ]
  },
  {
   "cell_type": "markdown",
   "metadata": {},
   "source": [
    "## General"
   ]
  },
  {
   "cell_type": "code",
   "execution_count": 1,
   "metadata": {},
   "outputs": [],
   "source": [
    "import os\n",
    "from collections import defaultdict\n",
    "import numpy as np\n",
    "import pandas as pd\n",
    "import warnings\n",
    "import matplotlib.pyplot as plt\n",
    "%matplotlib inline\n",
    "\n",
    "warnings.filterwarnings (\"ignore\", category=FutureWarning)\n",
    "\n",
    "\n",
    "DATA_TRAIN = os.path.join ('data', 'train.csv')\n",
    "DATA_TEST = os.path.join ('data', 'test.csv')\n",
    "FILE_SUBMISSION = os.path.join ('data', 'project.ml.blackfriday.submission.csv')"
   ]
  },
  {
   "cell_type": "markdown",
   "metadata": {},
   "source": [
    "## Data Exploration"
   ]
  },
  {
   "cell_type": "code",
   "execution_count": 2,
   "metadata": {},
   "outputs": [
    {
     "data": {
      "text/html": [
       "<div>\n",
       "<style scoped>\n",
       "    .dataframe tbody tr th:only-of-type {\n",
       "        vertical-align: middle;\n",
       "    }\n",
       "\n",
       "    .dataframe tbody tr th {\n",
       "        vertical-align: top;\n",
       "    }\n",
       "\n",
       "    .dataframe thead th {\n",
       "        text-align: right;\n",
       "    }\n",
       "</style>\n",
       "<table border=\"1\" class=\"dataframe\">\n",
       "  <thead>\n",
       "    <tr style=\"text-align: right;\">\n",
       "      <th></th>\n",
       "      <th>User_ID</th>\n",
       "      <th>Product_ID</th>\n",
       "      <th>Gender</th>\n",
       "      <th>Age</th>\n",
       "      <th>Occupation</th>\n",
       "      <th>City_Category</th>\n",
       "      <th>Stay_In_Current_City_Years</th>\n",
       "      <th>Marital_Status</th>\n",
       "      <th>Product_Category_1</th>\n",
       "      <th>Product_Category_2</th>\n",
       "      <th>Product_Category_3</th>\n",
       "      <th>Purchase</th>\n",
       "    </tr>\n",
       "  </thead>\n",
       "  <tbody>\n",
       "    <tr>\n",
       "      <th>0</th>\n",
       "      <td>1000001</td>\n",
       "      <td>P00069042</td>\n",
       "      <td>F</td>\n",
       "      <td>0-17</td>\n",
       "      <td>10</td>\n",
       "      <td>A</td>\n",
       "      <td>2</td>\n",
       "      <td>0</td>\n",
       "      <td>3</td>\n",
       "      <td>NaN</td>\n",
       "      <td>NaN</td>\n",
       "      <td>8370</td>\n",
       "    </tr>\n",
       "    <tr>\n",
       "      <th>1</th>\n",
       "      <td>1000001</td>\n",
       "      <td>P00248942</td>\n",
       "      <td>F</td>\n",
       "      <td>0-17</td>\n",
       "      <td>10</td>\n",
       "      <td>A</td>\n",
       "      <td>2</td>\n",
       "      <td>0</td>\n",
       "      <td>1</td>\n",
       "      <td>6.0</td>\n",
       "      <td>14.0</td>\n",
       "      <td>15200</td>\n",
       "    </tr>\n",
       "    <tr>\n",
       "      <th>2</th>\n",
       "      <td>1000001</td>\n",
       "      <td>P00087842</td>\n",
       "      <td>F</td>\n",
       "      <td>0-17</td>\n",
       "      <td>10</td>\n",
       "      <td>A</td>\n",
       "      <td>2</td>\n",
       "      <td>0</td>\n",
       "      <td>12</td>\n",
       "      <td>NaN</td>\n",
       "      <td>NaN</td>\n",
       "      <td>1422</td>\n",
       "    </tr>\n",
       "    <tr>\n",
       "      <th>3</th>\n",
       "      <td>1000001</td>\n",
       "      <td>P00085442</td>\n",
       "      <td>F</td>\n",
       "      <td>0-17</td>\n",
       "      <td>10</td>\n",
       "      <td>A</td>\n",
       "      <td>2</td>\n",
       "      <td>0</td>\n",
       "      <td>12</td>\n",
       "      <td>14.0</td>\n",
       "      <td>NaN</td>\n",
       "      <td>1057</td>\n",
       "    </tr>\n",
       "    <tr>\n",
       "      <th>4</th>\n",
       "      <td>1000002</td>\n",
       "      <td>P00285442</td>\n",
       "      <td>M</td>\n",
       "      <td>55+</td>\n",
       "      <td>16</td>\n",
       "      <td>C</td>\n",
       "      <td>4+</td>\n",
       "      <td>0</td>\n",
       "      <td>8</td>\n",
       "      <td>NaN</td>\n",
       "      <td>NaN</td>\n",
       "      <td>7969</td>\n",
       "    </tr>\n",
       "  </tbody>\n",
       "</table>\n",
       "</div>"
      ],
      "text/plain": [
       "   User_ID Product_ID Gender   Age  Occupation City_Category  \\\n",
       "0  1000001  P00069042      F  0-17          10             A   \n",
       "1  1000001  P00248942      F  0-17          10             A   \n",
       "2  1000001  P00087842      F  0-17          10             A   \n",
       "3  1000001  P00085442      F  0-17          10             A   \n",
       "4  1000002  P00285442      M   55+          16             C   \n",
       "\n",
       "  Stay_In_Current_City_Years  Marital_Status  Product_Category_1  \\\n",
       "0                          2               0                   3   \n",
       "1                          2               0                   1   \n",
       "2                          2               0                  12   \n",
       "3                          2               0                  12   \n",
       "4                         4+               0                   8   \n",
       "\n",
       "   Product_Category_2  Product_Category_3  Purchase  \n",
       "0                 NaN                 NaN      8370  \n",
       "1                 6.0                14.0     15200  \n",
       "2                 NaN                 NaN      1422  \n",
       "3                14.0                 NaN      1057  \n",
       "4                 NaN                 NaN      7969  "
      ]
     },
     "metadata": {},
     "output_type": "display_data"
    }
   ],
   "source": [
    "data_raw = pd.read_csv (DATA_TRAIN)\n",
    "display (data_raw.head ())"
   ]
  },
  {
   "cell_type": "code",
   "execution_count": 3,
   "metadata": {},
   "outputs": [
    {
     "name": "stdout",
     "output_type": "stream",
     "text": [
      "User_ID / 5891 / [1000001 1000002 1000003 ... 1006038 1006039 1006040]\n",
      "Product_ID / 3631 / ['P00000142' 'P00000242' 'P00000342' ... 'P0099742' 'P0099842' 'P0099942']\n",
      "Gender / 2 / ['F' 'M']\n",
      "Age / 7 / ['0-17' '18-25' '26-35' '36-45' '46-50' '51-55' '55+']\n",
      "Occupation / 21 / [ 0  1  2  3  4  5  6  7  8  9 10 11 12 13 14 15 16 17 18 19 20]\n",
      "City_Category / 3 / ['A' 'B' 'C']\n",
      "Stay_In_Current_City_Years / 5 / ['0' '1' '2' '3' '4+']\n",
      "Marital_Status / 2 / [0 1]\n",
      "Product_Category_1 / 20 / [ 1  2  3  4  5  6  7  8  9 10 11 12 13 14 15 16 17 18 19 20]\n",
      "Product_Category_2 / 18 / [ 2.  3.  4.  5.  6.  7.  8.  9. 10. 11. 12. 13. 14. 15. 16. 17. 18. nan]\n",
      "Product_Category_3 / 16 / [ 3.  4.  5.  6.  8.  9. 10. 11. 12. 13. 14. 15. 16. 17. 18. nan]\n",
      "Purchase / 18105 / [   12    13    14 ... 23959 23960 23961]\n"
     ]
    }
   ],
   "source": [
    "# characteristics of data scales\n",
    "data_char = defaultdict (list)\n",
    "for col in data_raw.keys ():\n",
    "    data_char[col] = np.sort (data_raw[col].unique ())\n",
    "\n",
    "for key in data_char:\n",
    "    print (key, '/', len (data_char[key]), '/', data_char[key])"
   ]
  },
  {
   "cell_type": "markdown",
   "metadata": {},
   "source": [
    "Data scales:\n",
    "\n",
    "Product_Category_1: nominal scaled\n",
    "\n",
    "Product_Category_2 and \\_3: same as Prodcut_Category_1, NaN present\n",
    "\n",
    "Occupation: nominal scaled\n",
    "\n",
    "Marital_Status: nominal scaled\n",
    "\n",
    "Gender: nominal scaled, [F, M]\n",
    "\n",
    "Age: in bins , metric ratio scale in classes\n",
    "\n",
    "Stay_In_Current_City_Years: metric ratio scale\n",
    "\n",
    "City_Category: ordinal scale, [A, B, C]\n",
    "\n",
    "Purchase: metric scaled"
   ]
  },
  {
   "cell_type": "markdown",
   "metadata": {},
   "source": [
    "## Benchmark\n",
    "It is a contest project -  due to submission, benchmarking against leaderboard"
   ]
  },
  {
   "cell_type": "markdown",
   "metadata": {},
   "source": [
    "## Metric"
   ]
  },
  {
   "cell_type": "code",
   "execution_count": 4,
   "metadata": {},
   "outputs": [],
   "source": [
    "def rmse_metric (y_true, y_pred):\n",
    "    mse = ((y_true - y_pred)**2).mean ()\n",
    "    return np.sqrt (mse)"
   ]
  },
  {
   "cell_type": "markdown",
   "metadata": {},
   "source": [
    "## Data Preprocessing"
   ]
  },
  {
   "cell_type": "code",
   "execution_count": 5,
   "metadata": {},
   "outputs": [
    {
     "name": "stdout",
     "output_type": "stream",
     "text": [
      "Step: Data Preprocessing ... done\n"
     ]
    }
   ],
   "source": [
    "# Data Preprocessing\n",
    "print ('Step:', 'Data Preprocessing', '...', end = ' ', flush = True)\n",
    "\n",
    "data_raw = pd.read_csv (DATA_TRAIN)\n",
    "\n",
    "# replace NaN values with 0\n",
    "fillna_cols = ['Product_Category_2', 'Product_Category_3']\n",
    "data_raw[fillna_cols] = data_raw[fillna_cols].fillna (0)\n",
    "\n",
    "# convert to same type as Product_Category_1\n",
    "data_raw[fillna_cols] = data_raw[fillna_cols].astype (data_raw['Product_Category_1'].dtype)\n",
    "\n",
    "# characteristics of data scales\n",
    "data_char = defaultdict (list)\n",
    "for col in data_raw.keys ():\n",
    "    data_char[col] = np.sort (data_raw[col].unique ())\n",
    "\n",
    "# append new category to existent data_char\n",
    "data_char['Product_Category_1'] = np.append (0, data_char['Product_Category_1'])\n",
    "\n",
    "# convert to type category\n",
    "cat_cols = ['Age', 'Product_ID', 'Occupation', 'Gender', 'City_Category', 'Stay_In_Current_City_Years', 'Marital_Status']\n",
    "for col in data_raw[cat_cols].keys ():\n",
    "    data_raw[col] = data_raw[col].astype ('category', categories=data_char[col])\n",
    "\n",
    "# 'Product_Category_2', 'Product_Category_3' are same as Product_Category_1\n",
    "prod_cols = ['Product_Category_1', 'Product_Category_2', 'Product_Category_3']\n",
    "data_raw[prod_cols] = data_raw[prod_cols].astype ('category', categories=data_char['Product_Category_1'])\n",
    "# set categories of Product_Category_1\n",
    "data_raw['Product_Category_1'] = data_raw['Product_Category_1'].cat.set_categories (data_char['Product_Category_1'])\n",
    "data_raw['Product_Category_2'] = data_raw['Product_Category_2'].cat.set_categories (data_char['Product_Category_1'])\n",
    "data_raw['Product_Category_3'] = data_raw['Product_Category_3'].cat.set_categories (data_char['Product_Category_1'])\n",
    "\n",
    "# make a copy - not needed, just for my information copied from Jupyter Notebook\n",
    "data_wrk = data_raw.copy (deep = True)\n",
    "\n",
    "for col in data_wrk.columns:\n",
    "    if (str (data_wrk[col].dtype) == 'category'):\n",
    "        data_wrk[col] = data_wrk[col].values.codes\n",
    "\n",
    "# Make X and y for training\n",
    "drop_cols = ['User_ID', 'Purchase']\n",
    "X = data_wrk.drop (drop_cols, axis=1).values\n",
    "y = data_wrk['Purchase'].values\n",
    "\n",
    "print ('done')"
   ]
  },
  {
   "cell_type": "markdown",
   "metadata": {},
   "source": [
    "## Implementation\n",
    "with grid search and cross-validation"
   ]
  },
  {
   "cell_type": "code",
   "execution_count": 6,
   "metadata": {},
   "outputs": [
    {
     "name": "stdout",
     "output_type": "stream",
     "text": [
      "Step: Implementation ... done\n"
     ]
    }
   ],
   "source": [
    "print ('Step:', 'Implementation', '...', end = ' ', flush = True)\n",
    "\n",
    "from sklearn.tree import DecisionTreeRegressor\n",
    "from sklearn.model_selection import GridSearchCV\n",
    "from sklearn.metrics import make_scorer\n",
    "\n",
    "param_grid = dict (\n",
    "    max_depth = [5, 7, 9, 10, 11, 12, 15]\n",
    ")\n",
    "\n",
    "scoring = make_scorer (rmse_metric)\n",
    "\n",
    "dtr = DecisionTreeRegressor (\n",
    "    criterion = 'mse',\n",
    "    max_depth = 5\n",
    ")\n",
    "\n",
    "gscv = GridSearchCV (\n",
    "    estimator = dtr,\n",
    "    param_grid = param_grid,\n",
    "    scoring = scoring,\n",
    "    cv = 4,\n",
    "    return_train_score = True,\n",
    "    #n_jobs = -1 # parallelism, does currently not work for my own metric\n",
    ")\n",
    "\n",
    "# grid search includes cross-validation > no need to split data beforehand\n",
    "gscv.fit (X, y)\n",
    "\n",
    "print ('done')"
   ]
  },
  {
   "cell_type": "markdown",
   "metadata": {},
   "source": [
    "## Evaluation and Validation"
   ]
  },
  {
   "cell_type": "code",
   "execution_count": 7,
   "metadata": {},
   "outputs": [
    {
     "data": {
      "text/html": [
       "<div>\n",
       "<style scoped>\n",
       "    .dataframe tbody tr th:only-of-type {\n",
       "        vertical-align: middle;\n",
       "    }\n",
       "\n",
       "    .dataframe tbody tr th {\n",
       "        vertical-align: top;\n",
       "    }\n",
       "\n",
       "    .dataframe thead th {\n",
       "        text-align: right;\n",
       "    }\n",
       "</style>\n",
       "<table border=\"1\" class=\"dataframe\">\n",
       "  <thead>\n",
       "    <tr style=\"text-align: right;\">\n",
       "      <th></th>\n",
       "      <th>mean_fit_time</th>\n",
       "      <th>std_fit_time</th>\n",
       "      <th>mean_score_time</th>\n",
       "      <th>std_score_time</th>\n",
       "      <th>param_max_depth</th>\n",
       "      <th>params</th>\n",
       "      <th>split0_test_score</th>\n",
       "      <th>split1_test_score</th>\n",
       "      <th>split2_test_score</th>\n",
       "      <th>split3_test_score</th>\n",
       "      <th>mean_test_score</th>\n",
       "      <th>std_test_score</th>\n",
       "      <th>rank_test_score</th>\n",
       "      <th>split0_train_score</th>\n",
       "      <th>split1_train_score</th>\n",
       "      <th>split2_train_score</th>\n",
       "      <th>split3_train_score</th>\n",
       "      <th>mean_train_score</th>\n",
       "      <th>std_train_score</th>\n",
       "    </tr>\n",
       "  </thead>\n",
       "  <tbody>\n",
       "    <tr>\n",
       "      <th>0</th>\n",
       "      <td>0.546869</td>\n",
       "      <td>0.011050</td>\n",
       "      <td>0.007812</td>\n",
       "      <td>0.007812</td>\n",
       "      <td>5</td>\n",
       "      <td>{'max_depth': 5}</td>\n",
       "      <td>3366.125716</td>\n",
       "      <td>3353.505412</td>\n",
       "      <td>3358.457219</td>\n",
       "      <td>3487.337339</td>\n",
       "      <td>3391.356421</td>\n",
       "      <td>55.596721</td>\n",
       "      <td>1</td>\n",
       "      <td>3343.233118</td>\n",
       "      <td>3347.243742</td>\n",
       "      <td>3345.652996</td>\n",
       "      <td>3501.451048</td>\n",
       "      <td>3384.395226</td>\n",
       "      <td>67.597296</td>\n",
       "    </tr>\n",
       "    <tr>\n",
       "      <th>1</th>\n",
       "      <td>0.714862</td>\n",
       "      <td>0.012929</td>\n",
       "      <td>0.007787</td>\n",
       "      <td>0.007787</td>\n",
       "      <td>7</td>\n",
       "      <td>{'max_depth': 7}</td>\n",
       "      <td>2921.789455</td>\n",
       "      <td>2903.402358</td>\n",
       "      <td>2905.046770</td>\n",
       "      <td>2906.421828</td>\n",
       "      <td>2909.165103</td>\n",
       "      <td>7.366643</td>\n",
       "      <td>2</td>\n",
       "      <td>2896.429543</td>\n",
       "      <td>2900.616346</td>\n",
       "      <td>2896.449913</td>\n",
       "      <td>2903.727909</td>\n",
       "      <td>2899.305928</td>\n",
       "      <td>3.070078</td>\n",
       "    </tr>\n",
       "    <tr>\n",
       "      <th>2</th>\n",
       "      <td>0.843775</td>\n",
       "      <td>0.000039</td>\n",
       "      <td>0.015601</td>\n",
       "      <td>0.000042</td>\n",
       "      <td>9</td>\n",
       "      <td>{'max_depth': 9}</td>\n",
       "      <td>2859.365308</td>\n",
       "      <td>2845.522196</td>\n",
       "      <td>2837.973994</td>\n",
       "      <td>2848.533160</td>\n",
       "      <td>2847.848664</td>\n",
       "      <td>7.681523</td>\n",
       "      <td>4</td>\n",
       "      <td>2824.206755</td>\n",
       "      <td>2833.492664</td>\n",
       "      <td>2818.666958</td>\n",
       "      <td>2828.297939</td>\n",
       "      <td>2826.166079</td>\n",
       "      <td>5.438277</td>\n",
       "    </tr>\n",
       "    <tr>\n",
       "      <th>3</th>\n",
       "      <td>0.894534</td>\n",
       "      <td>0.017027</td>\n",
       "      <td>0.015622</td>\n",
       "      <td>0.000004</td>\n",
       "      <td>10</td>\n",
       "      <td>{'max_depth': 10}</td>\n",
       "      <td>2839.917075</td>\n",
       "      <td>2824.760584</td>\n",
       "      <td>2817.955203</td>\n",
       "      <td>2832.839232</td>\n",
       "      <td>2828.868023</td>\n",
       "      <td>8.273644</td>\n",
       "      <td>5</td>\n",
       "      <td>2788.216511</td>\n",
       "      <td>2797.678930</td>\n",
       "      <td>2785.951173</td>\n",
       "      <td>2795.282626</td>\n",
       "      <td>2791.782310</td>\n",
       "      <td>4.840956</td>\n",
       "    </tr>\n",
       "    <tr>\n",
       "      <th>4</th>\n",
       "      <td>0.960938</td>\n",
       "      <td>0.017472</td>\n",
       "      <td>0.015637</td>\n",
       "      <td>0.000015</td>\n",
       "      <td>11</td>\n",
       "      <td>{'max_depth': 11}</td>\n",
       "      <td>2821.071465</td>\n",
       "      <td>2808.176804</td>\n",
       "      <td>2798.956511</td>\n",
       "      <td>2831.654514</td>\n",
       "      <td>2814.964824</td>\n",
       "      <td>12.431614</td>\n",
       "      <td>6</td>\n",
       "      <td>2745.978784</td>\n",
       "      <td>2757.318345</td>\n",
       "      <td>2747.115622</td>\n",
       "      <td>2758.754331</td>\n",
       "      <td>2752.291771</td>\n",
       "      <td>5.780948</td>\n",
       "    </tr>\n",
       "    <tr>\n",
       "      <th>5</th>\n",
       "      <td>1.025961</td>\n",
       "      <td>0.027672</td>\n",
       "      <td>0.015627</td>\n",
       "      <td>0.000005</td>\n",
       "      <td>12</td>\n",
       "      <td>{'max_depth': 12}</td>\n",
       "      <td>2815.073459</td>\n",
       "      <td>2803.970657</td>\n",
       "      <td>2792.959951</td>\n",
       "      <td>2826.341145</td>\n",
       "      <td>2809.586303</td>\n",
       "      <td>12.437893</td>\n",
       "      <td>7</td>\n",
       "      <td>2704.805025</td>\n",
       "      <td>2712.764298</td>\n",
       "      <td>2703.178984</td>\n",
       "      <td>2721.521731</td>\n",
       "      <td>2710.567509</td>\n",
       "      <td>7.290703</td>\n",
       "    </tr>\n",
       "    <tr>\n",
       "      <th>6</th>\n",
       "      <td>1.238277</td>\n",
       "      <td>0.033822</td>\n",
       "      <td>0.027347</td>\n",
       "      <td>0.006762</td>\n",
       "      <td>15</td>\n",
       "      <td>{'max_depth': 15}</td>\n",
       "      <td>2862.556746</td>\n",
       "      <td>2870.017484</td>\n",
       "      <td>2869.254307</td>\n",
       "      <td>2875.642533</td>\n",
       "      <td>2869.367767</td>\n",
       "      <td>4.642136</td>\n",
       "      <td>3</td>\n",
       "      <td>2537.484902</td>\n",
       "      <td>2538.347710</td>\n",
       "      <td>2528.870294</td>\n",
       "      <td>2552.311916</td>\n",
       "      <td>2539.253705</td>\n",
       "      <td>8.400619</td>\n",
       "    </tr>\n",
       "  </tbody>\n",
       "</table>\n",
       "</div>"
      ],
      "text/plain": [
       "   mean_fit_time  std_fit_time  mean_score_time  std_score_time  \\\n",
       "0       0.546869      0.011050         0.007812        0.007812   \n",
       "1       0.714862      0.012929         0.007787        0.007787   \n",
       "2       0.843775      0.000039         0.015601        0.000042   \n",
       "3       0.894534      0.017027         0.015622        0.000004   \n",
       "4       0.960938      0.017472         0.015637        0.000015   \n",
       "5       1.025961      0.027672         0.015627        0.000005   \n",
       "6       1.238277      0.033822         0.027347        0.006762   \n",
       "\n",
       "  param_max_depth             params  split0_test_score  split1_test_score  \\\n",
       "0               5   {'max_depth': 5}        3366.125716        3353.505412   \n",
       "1               7   {'max_depth': 7}        2921.789455        2903.402358   \n",
       "2               9   {'max_depth': 9}        2859.365308        2845.522196   \n",
       "3              10  {'max_depth': 10}        2839.917075        2824.760584   \n",
       "4              11  {'max_depth': 11}        2821.071465        2808.176804   \n",
       "5              12  {'max_depth': 12}        2815.073459        2803.970657   \n",
       "6              15  {'max_depth': 15}        2862.556746        2870.017484   \n",
       "\n",
       "   split2_test_score  split3_test_score  mean_test_score  std_test_score  \\\n",
       "0        3358.457219        3487.337339      3391.356421       55.596721   \n",
       "1        2905.046770        2906.421828      2909.165103        7.366643   \n",
       "2        2837.973994        2848.533160      2847.848664        7.681523   \n",
       "3        2817.955203        2832.839232      2828.868023        8.273644   \n",
       "4        2798.956511        2831.654514      2814.964824       12.431614   \n",
       "5        2792.959951        2826.341145      2809.586303       12.437893   \n",
       "6        2869.254307        2875.642533      2869.367767        4.642136   \n",
       "\n",
       "   rank_test_score  split0_train_score  split1_train_score  \\\n",
       "0                1         3343.233118         3347.243742   \n",
       "1                2         2896.429543         2900.616346   \n",
       "2                4         2824.206755         2833.492664   \n",
       "3                5         2788.216511         2797.678930   \n",
       "4                6         2745.978784         2757.318345   \n",
       "5                7         2704.805025         2712.764298   \n",
       "6                3         2537.484902         2538.347710   \n",
       "\n",
       "   split2_train_score  split3_train_score  mean_train_score  std_train_score  \n",
       "0         3345.652996         3501.451048       3384.395226        67.597296  \n",
       "1         2896.449913         2903.727909       2899.305928         3.070078  \n",
       "2         2818.666958         2828.297939       2826.166079         5.438277  \n",
       "3         2785.951173         2795.282626       2791.782310         4.840956  \n",
       "4         2747.115622         2758.754331       2752.291771         5.780948  \n",
       "5         2703.178984         2721.521731       2710.567509         7.290703  \n",
       "6         2528.870294         2552.311916       2539.253705         8.400619  "
      ]
     },
     "metadata": {},
     "output_type": "display_data"
    }
   ],
   "source": [
    "gscv_df = pd.DataFrame (gscv.cv_results_)\n",
    "display (gscv_df)"
   ]
  },
  {
   "cell_type": "markdown",
   "metadata": {},
   "source": [
    "Index \\#5 with param max_depth = 12 has best RMSE."
   ]
  },
  {
   "cell_type": "markdown",
   "metadata": {},
   "source": [
    "### Model Complexity Graph"
   ]
  },
  {
   "cell_type": "code",
   "execution_count": 9,
   "metadata": {},
   "outputs": [
    {
     "data": {
      "text/plain": [
       "[]"
      ]
     },
     "execution_count": 9,
     "metadata": {},
     "output_type": "execute_result"
    },
    {
     "data": {
      "image/png": "[encoded data removed]",
      "text/plain": [
       "<Figure size 1152x288 with 4 Axes>"
      ]
     },
     "metadata": {
      "needs_background": "light"
     },
     "output_type": "display_data"
    }
   ],
   "source": [
    "fig, ax = plt.subplots (1, gscv.n_splits_)\n",
    "\n",
    "i = 0\n",
    "for i in range (gscv.n_splits_):\n",
    "    ax[i].plot (gscv_df['split' + str (i) + '_train_score'])\n",
    "    ax[i].plot (gscv_df['split' + str (i) + '_test_score'])\n",
    "    ax[i].legend (['train', 'test'])\n",
    "    ax[i].set_ylabel ('RMSE')\n",
    "    ax[i].set_xlabel ('DTR max_depth')\n",
    "    ax[i].set_title ('fold # ' + str (i+1))\n",
    "    #ax[i].set_xlim ([1, gscv.n_splits_])\n",
    "    #ax[i].set_xticks (param_grid['max_depth'])\n",
    "\n",
    "#plt.tight_layout ()\n",
    "fig.set_size_inches (16, 4)\n",
    "plt.plot ()"
   ]
  },
  {
   "cell_type": "markdown",
   "metadata": {},
   "source": [
    "As of max_depth = 9, the regressor starts to overfit, since training and validation error diverge."
   ]
  },
  {
   "cell_type": "markdown",
   "metadata": {},
   "source": [
    "## Retrain with optimal parameters"
   ]
  },
  {
   "cell_type": "code",
   "execution_count": 12,
   "metadata": {},
   "outputs": [
    {
     "data": {
      "text/plain": [
       "DecisionTreeRegressor(criterion='mse', max_depth=12, max_features=None,\n",
       "           max_leaf_nodes=None, min_impurity_decrease=0.0,\n",
       "           min_impurity_split=None, min_samples_leaf=1,\n",
       "           min_samples_split=2, min_weight_fraction_leaf=0.0,\n",
       "           presort=False, random_state=None, splitter='best')"
      ]
     },
     "execution_count": 12,
     "metadata": {},
     "output_type": "execute_result"
    }
   ],
   "source": [
    "from sklearn.model_selection import train_test_split\n",
    "from sklearn.tree import DecisionTreeRegressor\n",
    "\n",
    "# shuffle data and split into train and test set\n",
    "X_train, X_val, y_train, y_val = train_test_split (\n",
    "    X,\n",
    "    y,\n",
    "    test_size = 0.25,\n",
    "    shuffle = True,\n",
    "    random_state = 42\n",
    ")\n",
    "\n",
    "# feed data into learning algorithm\n",
    "dtr_opt = DecisionTreeRegressor (\n",
    "    criterion = 'mse',\n",
    "    max_depth = 12\n",
    ")\n",
    "\n",
    "dtr_opt.fit (X_train, y_train)"
   ]
  },
  {
   "cell_type": "code",
   "execution_count": 15,
   "metadata": {},
   "outputs": [
    {
     "name": "stdout",
     "output_type": "stream",
     "text": [
      "R2 score train 0.7120909138092575\n",
      "R2 score val   0.6876065348257436\n",
      "RMSE train 2696.603845711641\n",
      "RMSE val 2803.205599325832\n"
     ]
    }
   ],
   "source": [
    "# Evaluation\n",
    "print ('R2 score', 'train', dtr_opt.score (X_train, y_train))\n",
    "print ('R2 score', 'val  ', dtr_opt.score (X_val, y_val))\n",
    "\n",
    "y_train_pred = dtr_opt.predict (X_train)\n",
    "y_val_pred = dtr_opt.predict (X_val)\n",
    "print ('RMSE', 'train', rmse_metric (y_train, y_train_pred))\n",
    "print ('RMSE', 'val', rmse_metric (y_val, y_val_pred))"
   ]
  },
  {
   "cell_type": "markdown",
   "metadata": {},
   "source": [
    "## Predicition\n",
    "Not done here"
   ]
  },
  {
   "cell_type": "markdown",
   "metadata": {},
   "source": [
    "## Conclusion\n",
    "RMSE test error of submitted work = 2806 and close to RMSE validation error = 2803."
   ]
  },
  {
   "cell_type": "markdown",
   "metadata": {},
   "source": [
    "## Improvements (possible)\n",
    "- using other learning algorithm: SVR, Ensemble Methods or MLP\n",
    "- feature engineering with PCA and one-hot encoding"
   ]
  },
  {
   "cell_type": "code",
   "execution_count": null,
   "metadata": {},
   "outputs": [],
   "source": []
  }
 ],
 "metadata": {
  "kernelspec": {
   "display_name": "Python 3",
   "language": "python",
   "name": "python3"
  },
  "language_info": {
   "codemirror_mode": {
    "name": "ipython",
    "version": 3
   },
   "file_extension": ".py",
   "mimetype": "text/x-python",
   "name": "python",
   "nbconvert_exporter": "python",
   "pygments_lexer": "ipython3",
   "version": "3.6.4"
  }
 },
 "nbformat": 4,
 "nbformat_minor": 2
}
