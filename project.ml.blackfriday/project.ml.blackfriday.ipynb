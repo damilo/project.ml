{
 "cells": [
  {
   "cell_type": "markdown",
   "metadata": {},
   "source": [
    "# Contest: Black Friday - Analytics Vidhya\n",
    "---\n",
    "<a href='https://datahack.analyticsvidhya.com/contest/black-friday/'>Contest: Black Friday - Analytics Vidhya</a>"
   ]
  },
  {
   "cell_type": "markdown",
   "metadata": {},
   "source": [
    "## Project Overview\n",
    "### Problem Statement\n",
    "A retail company “ABC Private Limited” wants to understand the customer purchase behaviour (specifically, purchase amount) against various products of different categories. They have shared purchase summary of various customers for selected high volume products from last month.\n",
    "The data set also contains customer demographics (age, gender, marital status, city_type, stay_in_current_city), product details (product_id and product category) and Total purchase_amount from last month.\n",
    "\n",
    "Now, they want to build a model to predict the purchase amount of customer against various products which will help them to create personalized offer for customers against different products.\n",
    "### Data\n",
    "<pre>\n",
    "Variable                    Definition\n",
    "\n",
    "User_ID                     User ID\n",
    "\n",
    "Product details:\n",
    "Product_ID                  Product ID\n",
    "Product_Category_1          Product Category (Masked)\n",
    "Product_Category_2          Product may belongs to other category also (Masked)\n",
    "Product_Category_3          Product may belongs to other category also (Masked)\n",
    "\n",
    "Customer demographics:\n",
    "Gender                      Sex of User\n",
    "Age                         Age in bins\n",
    "Occupation                  Occupation (Masked) (Besch&auml;ftigung)\n",
    "City_Category               Category of the City (A,B,C)\n",
    "Stay_In_Current_City_Years  Number of years stay in current city\n",
    "Marital_Status              Marital Status\n",
    "\n",
    "Target:\n",
    "Purchase                    Purchase Amount (Target Variable)\n",
    "</pre>\n",
    "### Evaluation Metric\n",
    "Submissions are scored on the root mean squared error (RMSE).\n",
    "\n",
    "$RMSE = \\sqrt{\\frac 1n \\sum_{i=1}^n {(y-\\hat y)^2}}$"
   ]
  },
  {
   "cell_type": "markdown",
   "metadata": {},
   "source": [
    "## General"
   ]
  },
  {
   "cell_type": "code",
   "execution_count": 1,
   "metadata": {},
   "outputs": [],
   "source": [
    "import os\n",
    "from collections import defaultdict\n",
    "import numpy as np\n",
    "import pandas as pd\n",
    "import warnings\n",
    "import matplotlib.pyplot as plt\n",
    "%matplotlib inline\n",
    "\n",
    "warnings.filterwarnings (\"ignore\", category=FutureWarning)\n",
    "\n",
    "\n",
    "DATA_TRAIN = os.path.join ('data', 'train.csv')\n",
    "DATA_TEST = os.path.join ('data', 'test.csv')\n",
    "FILE_SUBMISSION = os.path.join ('data', 'project.ml.blackfriday.submission.csv')"
   ]
  },
  {
   "cell_type": "markdown",
   "metadata": {},
   "source": [
    "## Data Exploration"
   ]
  },
  {
   "cell_type": "code",
   "execution_count": 2,
   "metadata": {},
   "outputs": [
    {
     "data": {
      "text/html": [
       "<div>\n",
       "<style scoped>\n",
       "    .dataframe tbody tr th:only-of-type {\n",
       "        vertical-align: middle;\n",
       "    }\n",
       "\n",
       "    .dataframe tbody tr th {\n",
       "        vertical-align: top;\n",
       "    }\n",
       "\n",
       "    .dataframe thead th {\n",
       "        text-align: right;\n",
       "    }\n",
       "</style>\n",
       "<table border=\"1\" class=\"dataframe\">\n",
       "  <thead>\n",
       "    <tr style=\"text-align: right;\">\n",
       "      <th></th>\n",
       "      <th>User_ID</th>\n",
       "      <th>Product_ID</th>\n",
       "      <th>Gender</th>\n",
       "      <th>Age</th>\n",
       "      <th>Occupation</th>\n",
       "      <th>City_Category</th>\n",
       "      <th>Stay_In_Current_City_Years</th>\n",
       "      <th>Marital_Status</th>\n",
       "      <th>Product_Category_1</th>\n",
       "      <th>Product_Category_2</th>\n",
       "      <th>Product_Category_3</th>\n",
       "      <th>Purchase</th>\n",
       "    </tr>\n",
       "  </thead>\n",
       "  <tbody>\n",
       "    <tr>\n",
       "      <th>0</th>\n",
       "      <td>1000001</td>\n",
       "      <td>P00069042</td>\n",
       "      <td>F</td>\n",
       "      <td>0-17</td>\n",
       "      <td>10</td>\n",
       "      <td>A</td>\n",
       "      <td>2</td>\n",
       "      <td>0</td>\n",
       "      <td>3</td>\n",
       "      <td>NaN</td>\n",
       "      <td>NaN</td>\n",
       "      <td>8370</td>\n",
       "    </tr>\n",
       "    <tr>\n",
       "      <th>1</th>\n",
       "      <td>1000001</td>\n",
       "      <td>P00248942</td>\n",
       "      <td>F</td>\n",
       "      <td>0-17</td>\n",
       "      <td>10</td>\n",
       "      <td>A</td>\n",
       "      <td>2</td>\n",
       "      <td>0</td>\n",
       "      <td>1</td>\n",
       "      <td>6.0</td>\n",
       "      <td>14.0</td>\n",
       "      <td>15200</td>\n",
       "    </tr>\n",
       "    <tr>\n",
       "      <th>2</th>\n",
       "      <td>1000001</td>\n",
       "      <td>P00087842</td>\n",
       "      <td>F</td>\n",
       "      <td>0-17</td>\n",
       "      <td>10</td>\n",
       "      <td>A</td>\n",
       "      <td>2</td>\n",
       "      <td>0</td>\n",
       "      <td>12</td>\n",
       "      <td>NaN</td>\n",
       "      <td>NaN</td>\n",
       "      <td>1422</td>\n",
       "    </tr>\n",
       "    <tr>\n",
       "      <th>3</th>\n",
       "      <td>1000001</td>\n",
       "      <td>P00085442</td>\n",
       "      <td>F</td>\n",
       "      <td>0-17</td>\n",
       "      <td>10</td>\n",
       "      <td>A</td>\n",
       "      <td>2</td>\n",
       "      <td>0</td>\n",
       "      <td>12</td>\n",
       "      <td>14.0</td>\n",
       "      <td>NaN</td>\n",
       "      <td>1057</td>\n",
       "    </tr>\n",
       "    <tr>\n",
       "      <th>4</th>\n",
       "      <td>1000002</td>\n",
       "      <td>P00285442</td>\n",
       "      <td>M</td>\n",
       "      <td>55+</td>\n",
       "      <td>16</td>\n",
       "      <td>C</td>\n",
       "      <td>4+</td>\n",
       "      <td>0</td>\n",
       "      <td>8</td>\n",
       "      <td>NaN</td>\n",
       "      <td>NaN</td>\n",
       "      <td>7969</td>\n",
       "    </tr>\n",
       "  </tbody>\n",
       "</table>\n",
       "</div>"
      ],
      "text/plain": [
       "   User_ID Product_ID Gender   Age  Occupation City_Category  \\\n",
       "0  1000001  P00069042      F  0-17          10             A   \n",
       "1  1000001  P00248942      F  0-17          10             A   \n",
       "2  1000001  P00087842      F  0-17          10             A   \n",
       "3  1000001  P00085442      F  0-17          10             A   \n",
       "4  1000002  P00285442      M   55+          16             C   \n",
       "\n",
       "  Stay_In_Current_City_Years  Marital_Status  Product_Category_1  \\\n",
       "0                          2               0                   3   \n",
       "1                          2               0                   1   \n",
       "2                          2               0                  12   \n",
       "3                          2               0                  12   \n",
       "4                         4+               0                   8   \n",
       "\n",
       "   Product_Category_2  Product_Category_3  Purchase  \n",
       "0                 NaN                 NaN      8370  \n",
       "1                 6.0                14.0     15200  \n",
       "2                 NaN                 NaN      1422  \n",
       "3                14.0                 NaN      1057  \n",
       "4                 NaN                 NaN      7969  "
      ]
     },
     "metadata": {},
     "output_type": "display_data"
    }
   ],
   "source": [
    "data_raw = pd.read_csv (DATA_TRAIN)\n",
    "display (data_raw.head ())"
   ]
  },
  {
   "cell_type": "code",
   "execution_count": 3,
   "metadata": {},
   "outputs": [
    {
     "name": "stdout",
     "output_type": "stream",
     "text": [
      "User_ID / 5891 / [1000001 1000002 1000003 ... 1006038 1006039 1006040]\n",
      "Product_ID / 3631 / ['P00000142' 'P00000242' 'P00000342' ... 'P0099742' 'P0099842' 'P0099942']\n",
      "Gender / 2 / ['F' 'M']\n",
      "Age / 7 / ['0-17' '18-25' '26-35' '36-45' '46-50' '51-55' '55+']\n",
      "Occupation / 21 / [ 0  1  2  3  4  5  6  7  8  9 10 11 12 13 14 15 16 17 18 19 20]\n",
      "City_Category / 3 / ['A' 'B' 'C']\n",
      "Stay_In_Current_City_Years / 5 / ['0' '1' '2' '3' '4+']\n",
      "Marital_Status / 2 / [0 1]\n",
      "Product_Category_1 / 20 / [ 1  2  3  4  5  6  7  8  9 10 11 12 13 14 15 16 17 18 19 20]\n",
      "Product_Category_2 / 18 / [ 2.  3.  4.  5.  6.  7.  8.  9. 10. 11. 12. 13. 14. 15. 16. 17. 18. nan]\n",
      "Product_Category_3 / 16 / [ 3.  4.  5.  6.  8.  9. 10. 11. 12. 13. 14. 15. 16. 17. 18. nan]\n",
      "Purchase / 18105 / [   12    13    14 ... 23959 23960 23961]\n"
     ]
    }
   ],
   "source": [
    "# characteristics of data scales\n",
    "data_char = defaultdict (list)\n",
    "for col in data_raw.keys ():\n",
    "    data_char[col] = np.sort (data_raw[col].unique ())\n",
    "\n",
    "for key in data_char:\n",
    "    print (key, '/', len (data_char[key]), '/', data_char[key])"
   ]
  },
  {
   "cell_type": "markdown",
   "metadata": {},
   "source": [
    "Data scales:\n",
    "\n",
    "Product_Category_1: nominal scaled\n",
    "\n",
    "Product_Category_2 and \\_3: same as Prodcut_Category_1, NaN present\n",
    "\n",
    "Occupation: nominal scaled\n",
    "\n",
    "Marital_Status: nominal scaled\n",
    "\n",
    "Gender: nominal scaled, [F, M]\n",
    "\n",
    "Age: in bins , metric ratio scale in classes\n",
    "\n",
    "Stay_In_Current_City_Years: metric ratio scale\n",
    "\n",
    "City_Category: ordinal scale, [A, B, C]\n",
    "\n",
    "Purchase: metric scaled"
   ]
  },
  {
   "cell_type": "markdown",
   "metadata": {},
   "source": [
    "## Benchmark\n",
    "It is a contest project -  due to submission, benchmarking against leaderboard"
   ]
  },
  {
   "cell_type": "markdown",
   "metadata": {},
   "source": [
    "## Metric"
   ]
  },
  {
   "cell_type": "code",
   "execution_count": 4,
   "metadata": {},
   "outputs": [],
   "source": [
    "def rmse_metric (y_true, y_pred):\n",
    "    mse = ((y_true - y_pred)**2).mean ()\n",
    "    return np.sqrt (mse)"
   ]
  },
  {
   "cell_type": "markdown",
   "metadata": {},
   "source": [
    "## Data Preprocessing"
   ]
  },
  {
   "cell_type": "code",
   "execution_count": 5,
   "metadata": {},
   "outputs": [
    {
     "name": "stdout",
     "output_type": "stream",
     "text": [
      "Step: Data Preprocessing ... done\n"
     ]
    }
   ],
   "source": [
    "# Data Preprocessing\n",
    "print ('Step:', 'Data Preprocessing', '...', end = ' ', flush = True)\n",
    "\n",
    "data_raw = pd.read_csv (DATA_TRAIN)\n",
    "\n",
    "# replace NaN values with 0\n",
    "fillna_cols = ['Product_Category_2', 'Product_Category_3']\n",
    "data_raw[fillna_cols] = data_raw[fillna_cols].fillna (0)\n",
    "\n",
    "# convert to same type as Product_Category_1\n",
    "data_raw[fillna_cols] = data_raw[fillna_cols].astype (data_raw['Product_Category_1'].dtype)\n",
    "\n",
    "# characteristics of data scales\n",
    "data_char = defaultdict (list)\n",
    "for col in data_raw.keys ():\n",
    "    data_char[col] = np.sort (data_raw[col].unique ())\n",
    "\n",
    "# append new category to existent data_char\n",
    "data_char['Product_Category_1'] = np.append (0, data_char['Product_Category_1'])\n",
    "\n",
    "# convert to type category\n",
    "cat_cols = ['Age', 'Product_ID', 'Occupation', 'Gender', 'City_Category', 'Stay_In_Current_City_Years', 'Marital_Status']\n",
    "for col in data_raw[cat_cols].keys ():\n",
    "    data_raw[col] = data_raw[col].astype ('category', categories=data_char[col])\n",
    "\n",
    "# 'Product_Category_2', 'Product_Category_3' are same as Product_Category_1\n",
    "prod_cols = ['Product_Category_1', 'Product_Category_2', 'Product_Category_3']\n",
    "data_raw[prod_cols] = data_raw[prod_cols].astype ('category', categories=data_char['Product_Category_1'])\n",
    "# set categories of Product_Category_1\n",
    "data_raw['Product_Category_1'] = data_raw['Product_Category_1'].cat.set_categories (data_char['Product_Category_1'])\n",
    "data_raw['Product_Category_2'] = data_raw['Product_Category_2'].cat.set_categories (data_char['Product_Category_1'])\n",
    "data_raw['Product_Category_3'] = data_raw['Product_Category_3'].cat.set_categories (data_char['Product_Category_1'])\n",
    "\n",
    "# make a copy - not needed, just for my information copied from Jupyter Notebook\n",
    "data_wrk = data_raw.copy (deep = True)\n",
    "\n",
    "for col in data_wrk.columns:\n",
    "    if (str (data_wrk[col].dtype) == 'category'):\n",
    "        data_wrk[col] = data_wrk[col].values.codes\n",
    "\n",
    "# Make X and y for training\n",
    "drop_cols = ['User_ID', 'Purchase']\n",
    "X = data_wrk.drop (drop_cols, axis=1).values\n",
    "y = data_wrk['Purchase'].values\n",
    "\n",
    "print ('done')"
   ]
  },
  {
   "cell_type": "markdown",
   "metadata": {},
   "source": [
    "## Implementation  // DTR\n",
    "with grid search and cross-validation"
   ]
  },
  {
   "cell_type": "code",
   "execution_count": 6,
   "metadata": {},
   "outputs": [
    {
     "name": "stdout",
     "output_type": "stream",
     "text": [
      "Step: Implementation ... done\n"
     ]
    }
   ],
   "source": [
    "print ('Step:', 'Implementation', '...', end = ' ', flush = True)\n",
    "\n",
    "from sklearn.tree import DecisionTreeRegressor\n",
    "from sklearn.model_selection import GridSearchCV\n",
    "from sklearn.metrics import make_scorer\n",
    "\n",
    "param_grid = dict (\n",
    "    max_depth = [5, 10, 11, 12, 15]\n",
    ")\n",
    "\n",
    "scoring = make_scorer (rmse_metric)\n",
    "\n",
    "dtr = DecisionTreeRegressor (\n",
    "    criterion = 'mse',\n",
    "    max_depth = 5\n",
    ")\n",
    "\n",
    "gscv = GridSearchCV (\n",
    "    estimator = dtr,\n",
    "    param_grid = param_grid,\n",
    "    scoring = scoring,\n",
    "    cv = 4,\n",
    "    return_train_score = True,\n",
    "    #n_jobs = -1 # parallelism, does currently not work for my own metric\n",
    ")\n",
    "\n",
    "# grid search includes cross-validation > no need to split data beforehand\n",
    "gscv.fit (X, y)\n",
    "\n",
    "print ('done')"
   ]
  },
  {
   "cell_type": "markdown",
   "metadata": {},
   "source": [
    "## Evaluation and Validation"
   ]
  },
  {
   "cell_type": "code",
   "execution_count": 7,
   "metadata": {},
   "outputs": [
    {
     "data": {
      "text/html": [
       "<div>\n",
       "<style scoped>\n",
       "    .dataframe tbody tr th:only-of-type {\n",
       "        vertical-align: middle;\n",
       "    }\n",
       "\n",
       "    .dataframe tbody tr th {\n",
       "        vertical-align: top;\n",
       "    }\n",
       "\n",
       "    .dataframe thead th {\n",
       "        text-align: right;\n",
       "    }\n",
       "</style>\n",
       "<table border=\"1\" class=\"dataframe\">\n",
       "  <thead>\n",
       "    <tr style=\"text-align: right;\">\n",
       "      <th></th>\n",
       "      <th>mean_fit_time</th>\n",
       "      <th>std_fit_time</th>\n",
       "      <th>mean_score_time</th>\n",
       "      <th>std_score_time</th>\n",
       "      <th>param_max_depth</th>\n",
       "      <th>params</th>\n",
       "      <th>split0_test_score</th>\n",
       "      <th>split1_test_score</th>\n",
       "      <th>split2_test_score</th>\n",
       "      <th>split3_test_score</th>\n",
       "      <th>mean_test_score</th>\n",
       "      <th>std_test_score</th>\n",
       "      <th>rank_test_score</th>\n",
       "      <th>split0_train_score</th>\n",
       "      <th>split1_train_score</th>\n",
       "      <th>split2_train_score</th>\n",
       "      <th>split3_train_score</th>\n",
       "      <th>mean_train_score</th>\n",
       "      <th>std_train_score</th>\n",
       "    </tr>\n",
       "  </thead>\n",
       "  <tbody>\n",
       "    <tr>\n",
       "      <th>0</th>\n",
       "      <td>0.548182</td>\n",
       "      <td>0.005592</td>\n",
       "      <td>0.010098</td>\n",
       "      <td>0.000088</td>\n",
       "      <td>5</td>\n",
       "      <td>{'max_depth': 5}</td>\n",
       "      <td>3366.125716</td>\n",
       "      <td>3353.505412</td>\n",
       "      <td>3358.457219</td>\n",
       "      <td>3487.337339</td>\n",
       "      <td>3391.356421</td>\n",
       "      <td>55.596721</td>\n",
       "      <td>1</td>\n",
       "      <td>3343.233118</td>\n",
       "      <td>3347.243742</td>\n",
       "      <td>3345.652996</td>\n",
       "      <td>3501.451048</td>\n",
       "      <td>3384.395226</td>\n",
       "      <td>67.597296</td>\n",
       "    </tr>\n",
       "    <tr>\n",
       "      <th>1</th>\n",
       "      <td>0.910595</td>\n",
       "      <td>0.015547</td>\n",
       "      <td>0.017775</td>\n",
       "      <td>0.004470</td>\n",
       "      <td>10</td>\n",
       "      <td>{'max_depth': 10}</td>\n",
       "      <td>2839.943378</td>\n",
       "      <td>2824.672320</td>\n",
       "      <td>2817.324413</td>\n",
       "      <td>2832.708904</td>\n",
       "      <td>2828.662254</td>\n",
       "      <td>8.486833</td>\n",
       "      <td>3</td>\n",
       "      <td>2788.216511</td>\n",
       "      <td>2797.678930</td>\n",
       "      <td>2785.951173</td>\n",
       "      <td>2795.282626</td>\n",
       "      <td>2791.782310</td>\n",
       "      <td>4.840956</td>\n",
       "    </tr>\n",
       "    <tr>\n",
       "      <th>2</th>\n",
       "      <td>0.974883</td>\n",
       "      <td>0.014002</td>\n",
       "      <td>0.016539</td>\n",
       "      <td>0.004192</td>\n",
       "      <td>11</td>\n",
       "      <td>{'max_depth': 11}</td>\n",
       "      <td>2820.581596</td>\n",
       "      <td>2807.993101</td>\n",
       "      <td>2799.210142</td>\n",
       "      <td>2831.597023</td>\n",
       "      <td>2814.845465</td>\n",
       "      <td>12.297724</td>\n",
       "      <td>4</td>\n",
       "      <td>2745.978784</td>\n",
       "      <td>2757.318345</td>\n",
       "      <td>2747.115622</td>\n",
       "      <td>2758.754331</td>\n",
       "      <td>2752.291771</td>\n",
       "      <td>5.780948</td>\n",
       "    </tr>\n",
       "    <tr>\n",
       "      <th>3</th>\n",
       "      <td>1.026860</td>\n",
       "      <td>0.013533</td>\n",
       "      <td>0.016217</td>\n",
       "      <td>0.003881</td>\n",
       "      <td>12</td>\n",
       "      <td>{'max_depth': 12}</td>\n",
       "      <td>2814.401218</td>\n",
       "      <td>2804.634223</td>\n",
       "      <td>2793.969862</td>\n",
       "      <td>2827.714810</td>\n",
       "      <td>2810.180028</td>\n",
       "      <td>12.437971</td>\n",
       "      <td>5</td>\n",
       "      <td>2704.805025</td>\n",
       "      <td>2712.764298</td>\n",
       "      <td>2703.178984</td>\n",
       "      <td>2721.521731</td>\n",
       "      <td>2710.567509</td>\n",
       "      <td>7.290703</td>\n",
       "    </tr>\n",
       "    <tr>\n",
       "      <th>4</th>\n",
       "      <td>1.191237</td>\n",
       "      <td>0.016366</td>\n",
       "      <td>0.025170</td>\n",
       "      <td>0.004191</td>\n",
       "      <td>15</td>\n",
       "      <td>{'max_depth': 15}</td>\n",
       "      <td>2864.099578</td>\n",
       "      <td>2870.141077</td>\n",
       "      <td>2869.326401</td>\n",
       "      <td>2875.574886</td>\n",
       "      <td>2869.785486</td>\n",
       "      <td>4.067675</td>\n",
       "      <td>2</td>\n",
       "      <td>2537.484902</td>\n",
       "      <td>2538.347710</td>\n",
       "      <td>2528.870294</td>\n",
       "      <td>2552.311916</td>\n",
       "      <td>2539.253705</td>\n",
       "      <td>8.400619</td>\n",
       "    </tr>\n",
       "  </tbody>\n",
       "</table>\n",
       "</div>"
      ],
      "text/plain": [
       "   mean_fit_time  std_fit_time  mean_score_time  std_score_time  \\\n",
       "0       0.548182      0.005592         0.010098        0.000088   \n",
       "1       0.910595      0.015547         0.017775        0.004470   \n",
       "2       0.974883      0.014002         0.016539        0.004192   \n",
       "3       1.026860      0.013533         0.016217        0.003881   \n",
       "4       1.191237      0.016366         0.025170        0.004191   \n",
       "\n",
       "  param_max_depth             params  split0_test_score  split1_test_score  \\\n",
       "0               5   {'max_depth': 5}        3366.125716        3353.505412   \n",
       "1              10  {'max_depth': 10}        2839.943378        2824.672320   \n",
       "2              11  {'max_depth': 11}        2820.581596        2807.993101   \n",
       "3              12  {'max_depth': 12}        2814.401218        2804.634223   \n",
       "4              15  {'max_depth': 15}        2864.099578        2870.141077   \n",
       "\n",
       "   split2_test_score  split3_test_score  mean_test_score  std_test_score  \\\n",
       "0        3358.457219        3487.337339      3391.356421       55.596721   \n",
       "1        2817.324413        2832.708904      2828.662254        8.486833   \n",
       "2        2799.210142        2831.597023      2814.845465       12.297724   \n",
       "3        2793.969862        2827.714810      2810.180028       12.437971   \n",
       "4        2869.326401        2875.574886      2869.785486        4.067675   \n",
       "\n",
       "   rank_test_score  split0_train_score  split1_train_score  \\\n",
       "0                1         3343.233118         3347.243742   \n",
       "1                3         2788.216511         2797.678930   \n",
       "2                4         2745.978784         2757.318345   \n",
       "3                5         2704.805025         2712.764298   \n",
       "4                2         2537.484902         2538.347710   \n",
       "\n",
       "   split2_train_score  split3_train_score  mean_train_score  std_train_score  \n",
       "0         3345.652996         3501.451048       3384.395226        67.597296  \n",
       "1         2785.951173         2795.282626       2791.782310         4.840956  \n",
       "2         2747.115622         2758.754331       2752.291771         5.780948  \n",
       "3         2703.178984         2721.521731       2710.567509         7.290703  \n",
       "4         2528.870294         2552.311916       2539.253705         8.400619  "
      ]
     },
     "metadata": {},
     "output_type": "display_data"
    }
   ],
   "source": [
    "gscv_df = pd.DataFrame (gscv.cv_results_)\n",
    "display (gscv_df)"
   ]
  },
  {
   "cell_type": "markdown",
   "metadata": {},
   "source": [
    "### Model Complexity Graph"
   ]
  },
  {
   "cell_type": "code",
   "execution_count": 8,
   "metadata": {},
   "outputs": [
    {
     "data": {
      "text/plain": [
       "[]"
      ]
     },
     "execution_count": 8,
     "metadata": {},
     "output_type": "execute_result"
    },
    {
     "data": {
      "image/png": "[encoded data removed]",
      "text/plain": [
       "<Figure size 1152x288 with 4 Axes>"
      ]
     },
     "metadata": {
      "needs_background": "light"
     },
     "output_type": "display_data"
    }
   ],
   "source": [
    "x_labels = []\n",
    "for i in gscv_df.index:\n",
    "    label = str (gscv_df['param_max_depth'].values[i])\n",
    "    x_labels.append (label)\n",
    "\n",
    "fig, ax = plt.subplots (1, gscv.n_splits_)\n",
    "\n",
    "i = 0\n",
    "for i in range (gscv.n_splits_):\n",
    "    ax[i].plot (gscv_df['split' + str (i) + '_train_score'])\n",
    "    ax[i].plot (gscv_df['split' + str (i) + '_test_score'])\n",
    "    ax[i].legend (['train', 'test'])\n",
    "    ax[i].set_ylabel ('RMSE')\n",
    "    ax[i].set_xlabel ('max_depth')\n",
    "    ax[i].set_xticklabels (x_labels)\n",
    "    ax[i].set_xticks (np.arange (0, len (x_labels), 1))\n",
    "    ax[i].set_title ('fold # ' + str (i+1))\n",
    "\n",
    "#plt.tight_layout ()\n",
    "fig.set_size_inches (16, 4)\n",
    "plt.plot ()"
   ]
  },
  {
   "cell_type": "markdown",
   "metadata": {},
   "source": [
    "As of max_depth = 9, the regressor starts to overfit, since training and validation error diverge.\n",
    "\n",
    "Nevertheless, the best results come with max_depth = 12, since train and val error are minimal enough and std of errors is minimal as well as close to each other."
   ]
  },
  {
   "cell_type": "markdown",
   "metadata": {},
   "source": [
    "## Retrain with optimal parameters"
   ]
  },
  {
   "cell_type": "code",
   "execution_count": 9,
   "metadata": {},
   "outputs": [
    {
     "data": {
      "text/plain": [
       "DecisionTreeRegressor(criterion='mse', max_depth=12, max_features=None,\n",
       "           max_leaf_nodes=None, min_impurity_decrease=0.0,\n",
       "           min_impurity_split=None, min_samples_leaf=1,\n",
       "           min_samples_split=2, min_weight_fraction_leaf=0.0,\n",
       "           presort=False, random_state=None, splitter='best')"
      ]
     },
     "execution_count": 9,
     "metadata": {},
     "output_type": "execute_result"
    }
   ],
   "source": [
    "from sklearn.model_selection import train_test_split\n",
    "from sklearn.tree import DecisionTreeRegressor\n",
    "\n",
    "# shuffle data and split into train and test set\n",
    "X_train, X_val, y_train, y_val = train_test_split (\n",
    "    X,\n",
    "    y,\n",
    "    test_size = 0.25,\n",
    "    shuffle = True,\n",
    "    random_state = 42\n",
    ")\n",
    "\n",
    "# feed data into learning algorithm\n",
    "dtr_opt = DecisionTreeRegressor (\n",
    "    criterion = 'mse',\n",
    "    max_depth = 12\n",
    ")\n",
    "\n",
    "dtr_opt.fit (X_train, y_train)"
   ]
  },
  {
   "cell_type": "code",
   "execution_count": 10,
   "metadata": {},
   "outputs": [
    {
     "name": "stdout",
     "output_type": "stream",
     "text": [
      "R2 score train 0.7120909138092575\n",
      "R2 score val   0.6876040423339225\n",
      "RMSE train 2696.603845711641\n",
      "RMSE val 2803.216782263172\n"
     ]
    }
   ],
   "source": [
    "# Evaluation\n",
    "print ('R2 score', 'train', dtr_opt.score (X_train, y_train))\n",
    "print ('R2 score', 'val  ', dtr_opt.score (X_val, y_val))\n",
    "\n",
    "y_train_pred = dtr_opt.predict (X_train)\n",
    "y_val_pred = dtr_opt.predict (X_val)\n",
    "print ('RMSE', 'train', rmse_metric (y_train, y_train_pred))\n",
    "print ('RMSE', 'val', rmse_metric (y_val, y_val_pred))"
   ]
  },
  {
   "cell_type": "markdown",
   "metadata": {},
   "source": [
    "## Predicition\n",
    "Not done here"
   ]
  },
  {
   "cell_type": "markdown",
   "metadata": {},
   "source": [
    "## Conclusion\n",
    "RMSE test error of submitted work = 2806 and close to RMSE validation error = 2803."
   ]
  },
  {
   "cell_type": "markdown",
   "metadata": {},
   "source": [
    "## Improvements (possible)\n",
    "- using other learning algorithm: SVR, Ensemble Methods or MLP\n",
    "- feature engineering with MCA or CatPCA and one-hot encoding"
   ]
  },
  {
   "cell_type": "code",
   "execution_count": null,
   "metadata": {},
   "outputs": [],
   "source": []
  }
 ],
 "metadata": {
  "kernelspec": {
   "display_name": "Python 3",
   "language": "python",
   "name": "python3"
  },
  "language_info": {
   "codemirror_mode": {
    "name": "ipython",
    "version": 3
   },
   "file_extension": ".py",
   "mimetype": "text/x-python",
   "name": "python",
   "nbconvert_exporter": "python",
   "pygments_lexer": "ipython3",
   "version": "3.6.4"
  }
 },
 "nbformat": 4,
 "nbformat_minor": 2
}
