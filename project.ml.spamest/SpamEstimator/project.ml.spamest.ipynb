{
 "cells": [
  {
   "cell_type": "markdown",
   "metadata": {},
   "source": [
    "# Project: Spam Filter\n",
    "---"
   ]
  },
  {
   "cell_type": "markdown",
   "metadata": {},
   "source": [
    "## Project Overview\n",
    "\n",
    "Task: Identifying spam using emails, <a href = 'https://www.kaggle.com/karthickveerakumar/spam-filter'>Spam filter | Kaggle</a>"
   ]
  },
  {
   "cell_type": "markdown",
   "metadata": {},
   "source": [
    "## Data Exploration\n",
    "\n",
    "The dataset consists of 5728 emails, which are marked either as spam (1) or ham (0).\n",
    "\n",
    "The dataset comes in csv-format with columns \"text\" and \"spam\"."
   ]
  },
  {
   "cell_type": "markdown",
   "metadata": {},
   "source": [
    "### Imports"
   ]
  },
  {
   "cell_type": "code",
   "execution_count": 14,
   "metadata": {},
   "outputs": [],
   "source": [
    "import os\n",
    "import csv\n",
    "import random\n",
    "import re\n",
    "import numpy as np\n",
    "import pandas as pd\n",
    "import matplotlib.pyplot as plt\n",
    "%matplotlib inline\n",
    "\n",
    "np.random.seed (42)"
   ]
  },
  {
   "cell_type": "markdown",
   "metadata": {},
   "source": [
    "### Data Extraction"
   ]
  },
  {
   "cell_type": "code",
   "execution_count": 2,
   "metadata": {},
   "outputs": [
    {
     "name": "stdout",
     "output_type": "stream",
     "text": [
      "number of samples: 5728\n",
      "number of classes: 2 {'1', '0'}\n"
     ]
    }
   ],
   "source": [
    "datasetFile = os.path.join ('src', 'emails.csv')\n",
    "\n",
    "header = True\n",
    "X_raw = []\n",
    "y_raw = []\n",
    "with open (datasetFile, 'r') as csvFile:\n",
    "    \n",
    "    reader = csv.reader (csvFile, delimiter=',')\n",
    "    for row in reader:\n",
    "        \n",
    "        # jump over header\n",
    "        if (header):\n",
    "            header = False\n",
    "            continue\n",
    "        \n",
    "        # col \"text\"\n",
    "        X_raw.append (row[0])\n",
    "        # col \"spam\"\n",
    "        y_raw.append (row[1])\n",
    "\n",
    "m = len (X_raw)\n",
    "print ('number of samples:', m)\n",
    "print ('number of classes:', len (set (y_raw)), set (y_raw))"
   ]
  },
  {
   "cell_type": "code",
   "execution_count": 3,
   "metadata": {},
   "outputs": [
    {
     "name": "stdout",
     "output_type": "stream",
     "text": [
      "Subject: rooming list for enron offsite  candice :  listed below are the individuals that will be attending the offsite , august  18 -  20 , 2000 .  vince kaminski  stinson gibner  p . v . krishnarao  grant masson  zimin lu  vasant shanbhogue  mike roberts  maureen raymond castaneda  tanya tamarchenko  osman sezgen  samer takriti  shirley crenshaw  regards ,  shirley crenshaw , 0 \n",
      "\n",
      "Subject: re : fwd : latest roster - rice  no problem - pam  at 05 : 42 pm 3 / 7 / 01 - 0600 , you wrote :  > pam ,  >  > thanks ,  >  > yes , i need the e - mail addresses as well .  >  > vince  >  >  >  >  >  > pamela vande krol castro on 03 / 07 / 2001 04 : 19 : 01 pm  >  > to : vince . j . kaminski @ enron . com  > cc :  > subject : fwd : latest roster - rice  >  >  > let ' s try this again ! - pam  >  >  > > date : wed , 07 mar 2001 16 : 13 : 42 - 0600  > > to : vince . j . kaminski @ enron . com  > > from : pamela vande krol castro  > > subject : latest roster - rice  > >  > > here is your latest roster for mgmt 656 . let me know if you need the list  > > of e - mail addresses or if there are any discrepancies that i should  > > address . thanks for your help ! - pam ( 713 - 348 - 6223 )  >  > ( see attached file : 656 . doc )  >  >  - 656 . xls , 0 \n",
      "\n",
      "Subject: some municipal bonds for you to look at . . . . .  i called out muni desk to have them take a look at the current munis avaiable  that looked best at this time to invest $ 50 , 000 going out to 30 years for  you . the following is what they came up with . . . .  pecos co tx cert of obl w / a coupon 5 . 5 % matures in 02 / 01 / 11 callable at par  on 02 / 01 / 07 offered at $ 101 . 964 - aaa rated  brownsville util rev w / a coupon of 5 . 25 % maturing in 09 / 01 / 15 callable at par  on 09 / 01 / 05 offered at $ 97 . 425 - aaa rated  alvin tx isd psf w / a coupon of 5 . 75 % maturing in 08 / 15 / 22 callable at par on  08 / 15 / 10 offered at par - aaa rated  houston tx air revs w / a coupon of 5 . 00 % maturing in 07 / 01 / 28 callable at par  on 07 / 01 / 08 offered at 86 . 479 - aaa rated  remember , these are subject to change , but if these interest you and they are  not still available , i will see if there is something comparable .  talk to you soon . please call me with any questions . thanks , julie , 0 \n",
      "\n"
     ]
    }
   ],
   "source": [
    "for _ in range (3):\n",
    "    rndIdx = random.randint (0, m-1)\n",
    "    print (X_raw[rndIdx], ',', y_raw[rndIdx], '\\n')"
   ]
  },
  {
   "cell_type": "code",
   "execution_count": 4,
   "metadata": {},
   "outputs": [
    {
     "name": "stdout",
     "output_type": "stream",
     "text": [
      "maximum length of text: 13\n",
      "minimum length of text: 43952\n"
     ]
    },
    {
     "data": {
      "image/png": "[encoded data removed]",
      "text/plain": [
       "<Figure size 432x288 with 1 Axes>"
      ]
     },
     "metadata": {
      "needs_background": "light"
     },
     "output_type": "display_data"
    }
   ],
   "source": [
    "text_len = []\n",
    "for text in X_raw:\n",
    "    text_len.append (len (text))\n",
    "\n",
    "print ('maximum length of text:', min (text_len))\n",
    "print ('minimum length of text:', max (text_len))\n",
    "\n",
    "step = (max (text_len) - min (text_len)) / 100\n",
    "bins = np.arange (min (text_len) - step, max (text_len) + step, step)\n",
    "fig, axs = plt.subplots (1, 1)\n",
    "axs.hist (text_len, bins = bins, rwidth = 0.8)\n",
    "plt.show ()"
   ]
  },
  {
   "cell_type": "markdown",
   "metadata": {},
   "source": [
    "Every sample starts with 'Subject: '.\n",
    "\n",
    "Samples contain words, numbers and non-word characters.\n",
    "\n",
    "Samples are lower case.\n",
    "\n",
    "Samples contain mail-typical words like 're', 'fw', 'cc'.\n",
    "\n",
    "Samples language is English only."
   ]
  },
  {
   "cell_type": "code",
   "execution_count": 5,
   "metadata": {},
   "outputs": [
    {
     "data": {
      "image/png": "[encoded data removed]",
      "text/plain": [
       "<Figure size 360x216 with 2 Axes>"
      ]
     },
     "metadata": {
      "needs_background": "light"
     },
     "output_type": "display_data"
    },
    {
     "name": "stdout",
     "output_type": "stream",
     "text": [
      "[1368. 4360.]\n"
     ]
    }
   ],
   "source": [
    "fig, axs = plt.subplots (1, 2)\n",
    "n_bins, bins, _ = axs[0].hist (y_raw, bins = [-.5, .5, 1.5], rwidth = 0.8)\n",
    "axs[1].plot (y_raw)\n",
    "fig.set_size_inches (5, 3)\n",
    "plt.tight_layout ()\n",
    "plt.show ()\n",
    "\n",
    "print (n_bins)"
   ]
  },
  {
   "cell_type": "markdown",
   "metadata": {},
   "source": [
    "Dataset classes are unbalanced, i.e. there are more 'ham' than 'spam' mails.\n",
    "\n",
    "Dataset is sorted."
   ]
  },
  {
   "cell_type": "markdown",
   "metadata": {},
   "source": [
    "## Benchmark\n",
    "some other algorithm / software / result to compare this algorithm against (by using the defined metric)"
   ]
  },
  {
   "cell_type": "markdown",
   "metadata": {},
   "source": [
    "---"
   ]
  },
  {
   "cell_type": "markdown",
   "metadata": {},
   "source": [
    "## Metric\n",
    "\n",
    "<table align = 'left' border = 1>\n",
    "    <caption>Confusion Matrix</caption>\n",
    "    <tbody>\n",
    "        <tr>\n",
    "            <td colspan = 2></td>\n",
    "            <td colspan = 2>predicted</td>\n",
    "        </tr>\n",
    "        <tr>\n",
    "            <td colspan = 2></td>\n",
    "            <td>spam</td>\n",
    "            <td>ham</td>\n",
    "        </tr>\n",
    "        <tr>\n",
    "            <td rowspan = 2>true</td>\n",
    "            <td>spam</td>\n",
    "            <td>TP</td>\n",
    "            <td>FN</td>\n",
    "        </tr>\n",
    "        <tr>\n",
    "            <td>ham</td>\n",
    "            <td>FP</td>\n",
    "            <td>TN</td>\n",
    "        </tr>\n",
    "    </tbody>\n",
    "</table>\n",
    "\n",
    "The aim is to identify as many spam mails as possible. Furthermore, it is better to identify spam as ham rather than ham as spam (i.e. you want as less as possible ham in your spam folder, the FP shall be the weighting factor).\n",
    "\n",
    "Therefore Precision (Positive Predictive Value PPV) is taken as metric:\n",
    "\n",
    "$PPV = \\frac {TP} {TP + FP}$\n"
   ]
  },
  {
   "cell_type": "markdown",
   "metadata": {},
   "source": [
    "## Data Preprocessing"
   ]
  },
  {
   "cell_type": "code",
   "execution_count": 6,
   "metadata": {},
   "outputs": [],
   "source": [
    "# remove string 'Subject: '\n",
    "for i, text in enumerate (X_raw):\n",
    "    X_raw[i] = re.sub (r'Subject: ', '', text)"
   ]
  },
  {
   "cell_type": "code",
   "execution_count": 7,
   "metadata": {},
   "outputs": [
    {
     "name": "stdout",
     "output_type": "stream",
     "text": [
      "['better', 'contact', 'info', 'places']\n",
      "[[0. 1. 1. 1.]\n",
      " [1. 0. 0. 0.]]\n"
     ]
    }
   ],
   "source": [
    "# example of sklearn's CountVectorizer\n",
    "from sklearn.feature_extraction.text import CountVectorizer\n",
    "vec_example = CountVectorizer (\n",
    "    stop_words = 'english',\n",
    "    max_features = 4096,\n",
    "    binary = True\n",
    ")\n",
    "text_docs = ['contact info  i will be in one of these two places',\n",
    "        'but it is better to  call since i do not have']\n",
    "text_docs_t = vec_example.fit_transform (text_docs).toarray ().astype ('f4')\n",
    "print (vec_example.get_feature_names ())\n",
    "print (text_docs_t)\n",
    "#print (vec_example.get_stop_words ())"
   ]
  },
  {
   "cell_type": "code",
   "execution_count": 8,
   "metadata": {},
   "outputs": [
    {
     "name": "stdout",
     "output_type": "stream",
     "text": [
      "shape of vectorized features: (5728, 4096)\n"
     ]
    }
   ],
   "source": [
    "from sklearn.feature_extraction.text import CountVectorizer\n",
    "\n",
    "vectorizer = CountVectorizer (\n",
    "    stop_words = 'english',\n",
    "    max_features = 4096,\n",
    "    binary = True\n",
    ")\n",
    "\n",
    "X = vectorizer.fit_transform (X_raw).toarray ().astype ('f4') # returns a numpy ndarray\n",
    "\n",
    "print ('shape of vectorized features:', X.shape)"
   ]
  },
  {
   "cell_type": "code",
   "execution_count": 9,
   "metadata": {},
   "outputs": [
    {
     "name": "stdout",
     "output_type": "stream",
     "text": [
      "shape of classes: (5728,)\n"
     ]
    }
   ],
   "source": [
    "y = np.array (y_raw).astype ('i4')\n",
    "\n",
    "print ('shape of classes:', y.shape)"
   ]
  },
  {
   "cell_type": "code",
   "execution_count": 10,
   "metadata": {},
   "outputs": [
    {
     "name": "stdout",
     "output_type": "stream",
     "text": [
      "number of samples:\n",
      "  training: 3665\n",
      "  validation: 917\n",
      "  test: 1146\n"
     ]
    }
   ],
   "source": [
    "# split data\n",
    "from sklearn.model_selection import train_test_split\n",
    "\n",
    "X_, X_test, y_, y_test = train_test_split (X, y, test_size = 0.2, shuffle = True)\n",
    "X_train, X_val, y_train, y_val = train_test_split (X_, y_, test_size = 0.2, shuffle = True)\n",
    "\n",
    "print ('number of samples:')\n",
    "print ('  training:', X_train.shape[0])\n",
    "print ('  validation:', X_val.shape[0])\n",
    "print ('  test:', X_test.shape[0])"
   ]
  },
  {
   "cell_type": "markdown",
   "metadata": {},
   "source": [
    "## Implementation"
   ]
  },
  {
   "cell_type": "code",
   "execution_count": 11,
   "metadata": {},
   "outputs": [],
   "source": [
    "from mlpspafi import MlpSpafi\n",
    "mlp = MlpSpafi ()"
   ]
  },
  {
   "cell_type": "code",
   "execution_count": 12,
   "metadata": {},
   "outputs": [
    {
     "name": "stdout",
     "output_type": "stream",
     "text": [
      "epoch # 0, batch # 46 / 46, train metric: 0.95 , val metric: 0.9704641350210971\n",
      "val metric improved, model saved to ./tf_saves/run_MlpSpafi/best_acc_val.ckpt\n",
      "epoch # 1, batch # 46 / 46, train metric: 1.0 , val metric: 0.9710743801652892\n",
      "val metric improved, model saved to ./tf_saves/run_MlpSpafi/best_acc_val.ckpt\n",
      "epoch # 2, batch # 46 / 46, train metric: 1.0 , val metric: 0.9710743801652892\n",
      "epoch # 3, batch # 46 / 46, train metric: 1.0 , val metric: 0.975103734439834\n",
      "val metric improved, model saved to ./tf_saves/run_MlpSpafi/best_acc_val.ckpt\n",
      "epoch # 4, batch # 46 / 46, train metric: 1.0 , val metric: 0.975103734439834\n",
      "epoch # 5, batch # 46 / 46, train metric: 1.0 , val metric: 0.975103734439834\n",
      "early stopping after epoch 5\n"
     ]
    }
   ],
   "source": [
    "mlp.fit (X_train, y_train, X_val, y_val)"
   ]
  },
  {
   "cell_type": "markdown",
   "metadata": {},
   "source": [
    "---"
   ]
  },
  {
   "cell_type": "markdown",
   "metadata": {},
   "source": [
    "## Model Evaluation and Validation"
   ]
  },
  {
   "cell_type": "code",
   "execution_count": 15,
   "metadata": {},
   "outputs": [
    {
     "data": {
      "image/png": "[encoded data removed]",
      "text/plain": [
       "<Figure size 504x288 with 1 Axes>"
      ]
     },
     "metadata": {
      "needs_background": "light"
     },
     "output_type": "display_data"
    }
   ],
   "source": [
    "lossDataFile = os.path.join ('tf_logs_exp', 'run_run_MlpSpafi-20190314041454-tag-loss_1.csv')\n",
    "lossData = pd.read_csv (lossDataFile, sep = ',', )\n",
    "\n",
    "fig, axs = plt.subplots (1, 1)\n",
    "axs.set_ylabel ('Loss')\n",
    "axs.set_xlabel ('Step')\n",
    "axs.set_title ('MLP Training: Loss')\n",
    "lossData.plot ('Step', 'Value', ax = axs, legend = False)\n",
    "\n",
    "fig.set_size_inches (7, 4)\n",
    "plt.show ()"
   ]
  },
  {
   "cell_type": "code",
   "execution_count": 16,
   "metadata": {},
   "outputs": [
    {
     "data": {
      "image/png": "[encoded data removed]",
      "text/plain": [
       "<Figure size 504x288 with 1 Axes>"
      ]
     },
     "metadata": {
      "needs_background": "light"
     },
     "output_type": "display_data"
    }
   ],
   "source": [
    "metricTrainDataFile = os.path.join ('tf_logs_exp', 'run_run_MlpSpafi-20190314041454-tag-metric_train.csv')\n",
    "metricValDataFile = os.path.join ('tf_logs_exp', 'run_run_MlpSpafi-20190314041454-tag-metric_val.csv')\n",
    "metricTrainData = pd.read_csv (metricTrainDataFile, sep = ',', )\n",
    "metricValData = pd.read_csv (metricValDataFile, sep = ',', )\n",
    "\n",
    "fig, axs = plt.subplots (1, 1)\n",
    "axs.plot (metricTrainData['Step'], metricTrainData['Value'])\n",
    "axs.plot (metricValData['Step'], metricValData['Value'])\n",
    "axs.set_ylabel ('Precision')\n",
    "axs.set_xlabel ('Step')\n",
    "axs.set_title ('MLP Training: Precision')\n",
    "axs.legend (['train', 'val'])\n",
    "\n",
    "fig.set_size_inches (7, 4)\n",
    "plt.show ()"
   ]
  },
  {
   "cell_type": "code",
   "execution_count": 13,
   "metadata": {},
   "outputs": [
    {
     "name": "stdout",
     "output_type": "stream",
     "text": [
      "INFO:tensorflow:Restoring parameters from ./tf_saves/run_MlpSpafi/best_acc_val.ckpt\n",
      "score validation set: 0.975103734439834\n",
      "INFO:tensorflow:Restoring parameters from ./tf_saves/run_MlpSpafi/best_acc_val.ckpt\n",
      "score test set: 0.9893992932862191\n"
     ]
    }
   ],
   "source": [
    "# max acc val\n",
    "print ('score validation set:', mlp.score (X_val, y_val))\n",
    "# predictions\n",
    "print ('score test set:', mlp.score (X_test, y_test))"
   ]
  },
  {
   "cell_type": "code",
   "execution_count": 17,
   "metadata": {},
   "outputs": [
    {
     "name": "stdout",
     "output_type": "stream",
     "text": [
      "INFO:tensorflow:Restoring parameters from ./tf_saves/run_MlpSpafi/best_acc_val.ckpt\n"
     ]
    }
   ],
   "source": [
    "from mlpspafi import MlpSpafi\n",
    "mlp_best = MlpSpafi (name = 'MlpSpafi', restore = True)\n",
    "\n",
    "y_pred, y_pred_distr = mlp_best.predict (X_test)"
   ]
  },
  {
   "cell_type": "code",
   "execution_count": 20,
   "metadata": {},
   "outputs": [
    {
     "data": {
      "text/plain": [
       "(853, 3, 10, 280)"
      ]
     },
     "execution_count": 20,
     "metadata": {},
     "output_type": "execute_result"
    }
   ],
   "source": [
    "from sklearn.metrics import confusion_matrix\n",
    "\n",
    "tn, fp, fn, tp = confusion_matrix (y_test, y_pred).ravel ()\n",
    "tn, fp, fn, tp"
   ]
  },
  {
   "cell_type": "markdown",
   "metadata": {},
   "source": [
    "<table align = 'left' border = 1>\n",
    "    <caption>Confusion Matrix</caption>\n",
    "    <tbody>\n",
    "        <tr>\n",
    "            <td colspan = 2></td>\n",
    "            <td colspan = 2>predicted</td>\n",
    "        </tr>\n",
    "        <tr>\n",
    "            <td colspan = 2></td>\n",
    "            <td>spam</td>\n",
    "            <td>ham</td>\n",
    "        </tr>\n",
    "        <tr>\n",
    "            <td rowspan = 2>true</td>\n",
    "            <td>spam</td>\n",
    "            <td>280</td>\n",
    "            <td>10</td>\n",
    "        </tr>\n",
    "        <tr>\n",
    "            <td>ham</td>\n",
    "            <td>3</td>\n",
    "            <td>853</td>\n",
    "        </tr>\n",
    "    </tbody>\n",
    "</table>\n",
    "\n",
    "The precision of the estimator using the test data is 0.9894. The test precision is even better than the validation precision. The aim of this metric is to minimize the number of false positives. There are only 3 false positives, making up 3/13 = 23.1 % of all wrong predictions. The result is satisfactory."
   ]
  },
  {
   "cell_type": "markdown",
   "metadata": {},
   "source": [
    "## Conclusion\n",
    "\n",
    "### Improvements\n",
    "\n",
    "- make use of lemmatization or stemming\n",
    "- increase number of DNN inputs\n",
    "- replace binarization: make use of the count of words (in conjunction with min-max scaling)\n",
    "- make DNN servable and capable for online learning"
   ]
  },
  {
   "cell_type": "code",
   "execution_count": null,
   "metadata": {},
   "outputs": [],
   "source": []
  }
 ],
 "metadata": {
  "kernelspec": {
   "display_name": "Python 3",
   "language": "python",
   "name": "python3"
  },
  "language_info": {
   "codemirror_mode": {
    "name": "ipython",
    "version": 3
   },
   "file_extension": ".py",
   "mimetype": "text/x-python",
   "name": "python",
   "nbconvert_exporter": "python",
   "pygments_lexer": "ipython3",
   "version": "3.6.4"
  }
 },
 "nbformat": 4,
 "nbformat_minor": 2
}
