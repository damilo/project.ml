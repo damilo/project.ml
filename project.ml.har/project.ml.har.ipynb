{
 "cells": [
  {
   "cell_type": "markdown",
   "metadata": {},
   "source": [
    "# Human Activity Recognition\n",
    "---"
   ]
  },
  {
   "cell_type": "markdown",
   "metadata": {},
   "source": [
    "## Project Overview"
   ]
  },
  {
   "cell_type": "markdown",
   "metadata": {},
   "source": [
    "<a href = 'http://archive.ics.uci.edu/ml/datasets/Human+Activity+Recognition+Using+Smartphones'>UCI Human Activity Recognition Using Smartphones Data Set</a>\n",
    "\n",
    "<table align = 'left'>\n",
    "    <thead>\n",
    "    </thead>\n",
    "    <tbody>\n",
    "        <tr>\n",
    "            <td>associated tasks</td>\n",
    "            <td>classification, clustering</td>\n",
    "        </tr>\n",
    "        <tr>\n",
    "            <td>dataset characteristics</td>\n",
    "            <td>multivariate, time-series</td>\n",
    "        </tr>\n",
    "        <tr>\n",
    "            <td>number of instances</td>\n",
    "            <td>10299</td>\n",
    "        </tr>\n",
    "        <tr>\n",
    "            <td>number of features</td>\n",
    "            <td>561</td>\n",
    "        </tr>\n",
    "    </tbody>\n",
    "</table>"
   ]
  },
  {
   "cell_type": "markdown",
   "metadata": {},
   "source": [
    "### Problem Statement\n",
    "The experiments have been carried out with a group of 30 volunteers within an age bracket of 19-48 years.\n",
    "\n",
    "Each person performed six activities\n",
    "- WALKING, WALKING_UPSTAIRS, WALKING_DOWNSTAIRS, SITTING, STANDING, LAYING\n",
    "\n",
    "wearing a smartphone (Samsung Galaxy S II) on the waist.\n",
    "\n",
    "Using its embedded accelerometer and gyroscope, we captured\n",
    "- 3-axial linear acceleration and\n",
    "- 3-axial angular velocity\n",
    "\n",
    "at a constant rate of 50Hz.\n",
    "\n",
    "The sensor signals (accelerometer and gyroscope) were pre-processed by applying noise filters and then sampled in fixed-width sliding windows of 2.56 sec and 50% overlap (128 readings/window).\n",
    "\n",
    "The experiments have been video-recorded to label the data manually.\n",
    "\n",
    "The obtained dataset has been randomly partitioned into two sets, where 70% of the volunteers was selected for generating the training data and 30% the test data.\n",
    "\n",
    "<a href = 'https://www.youtube.com/watch?v=XOEN9W05_4A'>Example video of experiment</a>"
   ]
  },
  {
   "cell_type": "markdown",
   "metadata": {},
   "source": [
    "### Data\n",
    "Feature information:\n",
    "\n",
    "For each record in the dataset it is provided:\n",
    "- Triaxial acceleration from the accelerometer (total acceleration) and the estimated body acceleration.\n",
    "- Triaxial Angular velocity from the gyroscope.\n",
    "- A 561-feature vector with time and frequency domain variables.\n",
    "- Its activity label.\n",
    "- An identifier of the subject who carried out the experiment.\n",
    "\n",
    "- Features are normalized and bounded within \\[-1,1\\]\n",
    "- Each feature vector is a row on the text file.\n",
    "- The units used for the accelerations (total and body) are 'g's (gravity of earth -> 9.80665 m/seg2).\n",
    "- The gyroscope units are rad/seg."
   ]
  },
  {
   "cell_type": "markdown",
   "metadata": {},
   "source": [
    "### Evaluation Metric\n",
    "- Evaluation Metric: F1-Score, Confusion Matrix\n",
    "- Loss: Categorical Cross-Entropy"
   ]
  },
  {
   "cell_type": "markdown",
   "metadata": {},
   "source": [
    "## Data Exploration"
   ]
  },
  {
   "cell_type": "markdown",
   "metadata": {},
   "source": [
    "### General imports and vars"
   ]
  },
  {
   "cell_type": "code",
   "execution_count": 1,
   "metadata": {},
   "outputs": [],
   "source": [
    "import os\n",
    "import numpy as np\n",
    "import pandas as pd\n",
    "import matplotlib.pyplot as plt\n",
    "%matplotlib inline\n",
    "import seaborn as sns\n",
    "from collections import defaultdict\n",
    "import warnings\n",
    "import math\n",
    "import time\n",
    "\n",
    "warnings.filterwarnings (\"ignore\", category=FutureWarning)\n",
    "\n",
    "sns.set_style ('whitegrid')\n",
    "\n",
    "DATA_X_TRAIN = os.path.join ('data', 'UCI HAR Dataset', 'UCI HAR Dataset', 'train', 'X_train.txt')\n",
    "DATA_Y_TRAIN = os.path.join ('data', 'UCI HAR Dataset', 'UCI HAR Dataset', 'train', 'y_train.txt')\n",
    "DATA_X_TEST = os.path.join ('data', 'UCI HAR Dataset', 'UCI HAR Dataset', 'test', 'X_test.txt')\n",
    "DATA_Y_TEST = os.path.join ('data', 'UCI HAR Dataset', 'UCI HAR Dataset', 'test', 'y_test.txt')\n",
    "DATA_FEATURES = os.path.join ('data', 'UCI HAR Dataset', 'UCI HAR Dataset', 'features.txt')\n",
    "DATA_LABELS = os.path.join ('data', 'UCI HAR Dataset', 'UCI HAR Dataset', 'activity_labels.txt')"
   ]
  },
  {
   "cell_type": "markdown",
   "metadata": {},
   "source": [
    "### check file size and contents"
   ]
  },
  {
   "cell_type": "code",
   "execution_count": 2,
   "metadata": {},
   "outputs": [
    {
     "name": "stdout",
     "output_type": "stream",
     "text": [
      "Exact number of rows in train file: 7352\n",
      "Exact number of rows in test file: 2947\n",
      "number of instances in whole dataset: 10299\n"
     ]
    }
   ],
   "source": [
    "# get rows of train and test data\n",
    "n_rows_train = 0\n",
    "with open (DATA_X_TRAIN) as file:\n",
    "    n_rows_train = len (file.readlines())\n",
    "\n",
    "print ('Exact number of rows in train file:', n_rows_train)\n",
    "\n",
    "n_rows_test = 0\n",
    "with open (DATA_X_TEST) as file:\n",
    "    n_rows_test = len (file.readlines())\n",
    "\n",
    "print ('Exact number of rows in test file:', n_rows_test)\n",
    "\n",
    "print ('number of instances in whole dataset:', n_rows_train + n_rows_test)"
   ]
  },
  {
   "cell_type": "markdown",
   "metadata": {},
   "source": [
    "### load the dataset"
   ]
  },
  {
   "cell_type": "code",
   "execution_count": 3,
   "metadata": {},
   "outputs": [
    {
     "data": {
      "text/html": [
       "<div>\n",
       "<style scoped>\n",
       "    .dataframe tbody tr th:only-of-type {\n",
       "        vertical-align: middle;\n",
       "    }\n",
       "\n",
       "    .dataframe tbody tr th {\n",
       "        vertical-align: top;\n",
       "    }\n",
       "\n",
       "    .dataframe thead th {\n",
       "        text-align: right;\n",
       "    }\n",
       "</style>\n",
       "<table border=\"1\" class=\"dataframe\">\n",
       "  <thead>\n",
       "    <tr style=\"text-align: right;\">\n",
       "      <th></th>\n",
       "      <th>1_tBodyAcc-mean()-X</th>\n",
       "      <th>2_tBodyAcc-mean()-Y</th>\n",
       "      <th>3_tBodyAcc-mean()-Z</th>\n",
       "      <th>4_tBodyAcc-std()-X</th>\n",
       "      <th>5_tBodyAcc-std()-Y</th>\n",
       "      <th>6_tBodyAcc-std()-Z</th>\n",
       "      <th>7_tBodyAcc-mad()-X</th>\n",
       "      <th>8_tBodyAcc-mad()-Y</th>\n",
       "      <th>9_tBodyAcc-mad()-Z</th>\n",
       "      <th>10_tBodyAcc-max()-X</th>\n",
       "      <th>...</th>\n",
       "      <th>552_fBodyBodyGyroJerkMag-meanFreq()</th>\n",
       "      <th>553_fBodyBodyGyroJerkMag-skewness()</th>\n",
       "      <th>554_fBodyBodyGyroJerkMag-kurtosis()</th>\n",
       "      <th>555_angle(tBodyAccMean,gravity)</th>\n",
       "      <th>556_angle(tBodyAccJerkMean),gravityMean)</th>\n",
       "      <th>557_angle(tBodyGyroMean,gravityMean)</th>\n",
       "      <th>558_angle(tBodyGyroJerkMean,gravityMean)</th>\n",
       "      <th>559_angle(X,gravityMean)</th>\n",
       "      <th>560_angle(Y,gravityMean)</th>\n",
       "      <th>561_angle(Z,gravityMean)</th>\n",
       "    </tr>\n",
       "  </thead>\n",
       "  <tbody>\n",
       "    <tr>\n",
       "      <th>570</th>\n",
       "      <td>0.278321</td>\n",
       "      <td>-0.025827</td>\n",
       "      <td>-0.094847</td>\n",
       "      <td>-0.998256</td>\n",
       "      <td>-0.964521</td>\n",
       "      <td>-0.968696</td>\n",
       "      <td>-0.998401</td>\n",
       "      <td>-0.962323</td>\n",
       "      <td>-0.965757</td>\n",
       "      <td>-0.943001</td>\n",
       "      <td>...</td>\n",
       "      <td>-0.118342</td>\n",
       "      <td>0.092849</td>\n",
       "      <td>-0.283188</td>\n",
       "      <td>0.035385</td>\n",
       "      <td>0.083077</td>\n",
       "      <td>-0.25582</td>\n",
       "      <td>-0.009866</td>\n",
       "      <td>-0.918488</td>\n",
       "      <td>0.083827</td>\n",
       "      <td>0.077023</td>\n",
       "    </tr>\n",
       "    <tr>\n",
       "      <th>1457</th>\n",
       "      <td>0.363755</td>\n",
       "      <td>0.001903</td>\n",
       "      <td>-0.087166</td>\n",
       "      <td>-0.340510</td>\n",
       "      <td>-0.392420</td>\n",
       "      <td>-0.218647</td>\n",
       "      <td>-0.374000</td>\n",
       "      <td>-0.428081</td>\n",
       "      <td>-0.184888</td>\n",
       "      <td>-0.140288</td>\n",
       "      <td>...</td>\n",
       "      <td>0.160709</td>\n",
       "      <td>-0.356138</td>\n",
       "      <td>-0.726124</td>\n",
       "      <td>-0.326015</td>\n",
       "      <td>-0.640971</td>\n",
       "      <td>0.70298</td>\n",
       "      <td>0.925899</td>\n",
       "      <td>-0.477281</td>\n",
       "      <td>0.199854</td>\n",
       "      <td>0.376377</td>\n",
       "    </tr>\n",
       "  </tbody>\n",
       "</table>\n",
       "<p>2 rows × 561 columns</p>\n",
       "</div>"
      ],
      "text/plain": [
       "      1_tBodyAcc-mean()-X  2_tBodyAcc-mean()-Y  3_tBodyAcc-mean()-Z  \\\n",
       "570              0.278321            -0.025827            -0.094847   \n",
       "1457             0.363755             0.001903            -0.087166   \n",
       "\n",
       "      4_tBodyAcc-std()-X  5_tBodyAcc-std()-Y  6_tBodyAcc-std()-Z  \\\n",
       "570            -0.998256           -0.964521           -0.968696   \n",
       "1457           -0.340510           -0.392420           -0.218647   \n",
       "\n",
       "      7_tBodyAcc-mad()-X  8_tBodyAcc-mad()-Y  9_tBodyAcc-mad()-Z  \\\n",
       "570            -0.998401           -0.962323           -0.965757   \n",
       "1457           -0.374000           -0.428081           -0.184888   \n",
       "\n",
       "      10_tBodyAcc-max()-X            ...             \\\n",
       "570             -0.943001            ...              \n",
       "1457            -0.140288            ...              \n",
       "\n",
       "      552_fBodyBodyGyroJerkMag-meanFreq()  \\\n",
       "570                             -0.118342   \n",
       "1457                             0.160709   \n",
       "\n",
       "      553_fBodyBodyGyroJerkMag-skewness()  \\\n",
       "570                              0.092849   \n",
       "1457                            -0.356138   \n",
       "\n",
       "      554_fBodyBodyGyroJerkMag-kurtosis()  555_angle(tBodyAccMean,gravity)  \\\n",
       "570                             -0.283188                         0.035385   \n",
       "1457                            -0.726124                        -0.326015   \n",
       "\n",
       "      556_angle(tBodyAccJerkMean),gravityMean)  \\\n",
       "570                                   0.083077   \n",
       "1457                                 -0.640971   \n",
       "\n",
       "      557_angle(tBodyGyroMean,gravityMean)  \\\n",
       "570                               -0.25582   \n",
       "1457                               0.70298   \n",
       "\n",
       "      558_angle(tBodyGyroJerkMean,gravityMean)  559_angle(X,gravityMean)  \\\n",
       "570                                  -0.009866                 -0.918488   \n",
       "1457                                  0.925899                 -0.477281   \n",
       "\n",
       "      560_angle(Y,gravityMean)  561_angle(Z,gravityMean)  \n",
       "570                   0.083827                  0.077023  \n",
       "1457                  0.199854                  0.376377  \n",
       "\n",
       "[2 rows x 561 columns]"
      ]
     },
     "metadata": {},
     "output_type": "display_data"
    }
   ],
   "source": [
    "# feature information - contains header of raw df\n",
    "header = pd.read_csv (\n",
    "    DATA_FEATURES,\n",
    "    header = None,\n",
    "    names = ['feature_no', 'feature_name'],\n",
    "    sep = '\\s+',\n",
    "    dtype = 'str'\n",
    ")\n",
    "\n",
    "# read train data incl. header as column names\n",
    "data_xtrain_raw = pd.read_csv (\n",
    "    DATA_X_TRAIN,\n",
    "    header = None,\n",
    "    names = (header['feature_no'] + '_' + header['feature_name']).values,\n",
    "    sep = '\\s+'\n",
    ")\n",
    "display (data_xtrain_raw.sample (2))"
   ]
  },
  {
   "cell_type": "markdown",
   "metadata": {},
   "source": [
    "There are 561 features per instance. The features are metric ratio scaled in continuous space."
   ]
  },
  {
   "cell_type": "markdown",
   "metadata": {},
   "source": [
    "### statistics about dataset"
   ]
  },
  {
   "cell_type": "code",
   "execution_count": 4,
   "metadata": {},
   "outputs": [
    {
     "data": {
      "text/html": [
       "<div>\n",
       "<style scoped>\n",
       "    .dataframe tbody tr th:only-of-type {\n",
       "        vertical-align: middle;\n",
       "    }\n",
       "\n",
       "    .dataframe tbody tr th {\n",
       "        vertical-align: top;\n",
       "    }\n",
       "\n",
       "    .dataframe thead th {\n",
       "        text-align: right;\n",
       "    }\n",
       "</style>\n",
       "<table border=\"1\" class=\"dataframe\">\n",
       "  <thead>\n",
       "    <tr style=\"text-align: right;\">\n",
       "      <th></th>\n",
       "      <th>1_tBodyAcc-mean()-X</th>\n",
       "      <th>2_tBodyAcc-mean()-Y</th>\n",
       "      <th>3_tBodyAcc-mean()-Z</th>\n",
       "      <th>4_tBodyAcc-std()-X</th>\n",
       "      <th>5_tBodyAcc-std()-Y</th>\n",
       "      <th>6_tBodyAcc-std()-Z</th>\n",
       "      <th>7_tBodyAcc-mad()-X</th>\n",
       "      <th>8_tBodyAcc-mad()-Y</th>\n",
       "      <th>9_tBodyAcc-mad()-Z</th>\n",
       "      <th>10_tBodyAcc-max()-X</th>\n",
       "      <th>...</th>\n",
       "      <th>552_fBodyBodyGyroJerkMag-meanFreq()</th>\n",
       "      <th>553_fBodyBodyGyroJerkMag-skewness()</th>\n",
       "      <th>554_fBodyBodyGyroJerkMag-kurtosis()</th>\n",
       "      <th>555_angle(tBodyAccMean,gravity)</th>\n",
       "      <th>556_angle(tBodyAccJerkMean),gravityMean)</th>\n",
       "      <th>557_angle(tBodyGyroMean,gravityMean)</th>\n",
       "      <th>558_angle(tBodyGyroJerkMean,gravityMean)</th>\n",
       "      <th>559_angle(X,gravityMean)</th>\n",
       "      <th>560_angle(Y,gravityMean)</th>\n",
       "      <th>561_angle(Z,gravityMean)</th>\n",
       "    </tr>\n",
       "  </thead>\n",
       "  <tbody>\n",
       "    <tr>\n",
       "      <th>count</th>\n",
       "      <td>7352.000000</td>\n",
       "      <td>7352.000000</td>\n",
       "      <td>7352.000000</td>\n",
       "      <td>7352.000000</td>\n",
       "      <td>7352.000000</td>\n",
       "      <td>7352.000000</td>\n",
       "      <td>7352.000000</td>\n",
       "      <td>7352.000000</td>\n",
       "      <td>7352.000000</td>\n",
       "      <td>7352.000000</td>\n",
       "      <td>...</td>\n",
       "      <td>7352.000000</td>\n",
       "      <td>7352.000000</td>\n",
       "      <td>7352.000000</td>\n",
       "      <td>7352.000000</td>\n",
       "      <td>7352.000000</td>\n",
       "      <td>7352.000000</td>\n",
       "      <td>7352.000000</td>\n",
       "      <td>7352.000000</td>\n",
       "      <td>7352.000000</td>\n",
       "      <td>7352.000000</td>\n",
       "    </tr>\n",
       "    <tr>\n",
       "      <th>mean</th>\n",
       "      <td>0.274488</td>\n",
       "      <td>-0.017695</td>\n",
       "      <td>-0.109141</td>\n",
       "      <td>-0.605438</td>\n",
       "      <td>-0.510938</td>\n",
       "      <td>-0.604754</td>\n",
       "      <td>-0.630512</td>\n",
       "      <td>-0.526907</td>\n",
       "      <td>-0.606150</td>\n",
       "      <td>-0.468604</td>\n",
       "      <td>...</td>\n",
       "      <td>0.125293</td>\n",
       "      <td>-0.307009</td>\n",
       "      <td>-0.625294</td>\n",
       "      <td>0.008684</td>\n",
       "      <td>0.002186</td>\n",
       "      <td>0.008726</td>\n",
       "      <td>-0.005981</td>\n",
       "      <td>-0.489547</td>\n",
       "      <td>0.058593</td>\n",
       "      <td>-0.056515</td>\n",
       "    </tr>\n",
       "    <tr>\n",
       "      <th>std</th>\n",
       "      <td>0.070261</td>\n",
       "      <td>0.040811</td>\n",
       "      <td>0.056635</td>\n",
       "      <td>0.448734</td>\n",
       "      <td>0.502645</td>\n",
       "      <td>0.418687</td>\n",
       "      <td>0.424073</td>\n",
       "      <td>0.485942</td>\n",
       "      <td>0.414122</td>\n",
       "      <td>0.544547</td>\n",
       "      <td>...</td>\n",
       "      <td>0.250994</td>\n",
       "      <td>0.321011</td>\n",
       "      <td>0.307584</td>\n",
       "      <td>0.336787</td>\n",
       "      <td>0.448306</td>\n",
       "      <td>0.608303</td>\n",
       "      <td>0.477975</td>\n",
       "      <td>0.511807</td>\n",
       "      <td>0.297480</td>\n",
       "      <td>0.279122</td>\n",
       "    </tr>\n",
       "    <tr>\n",
       "      <th>min</th>\n",
       "      <td>-1.000000</td>\n",
       "      <td>-1.000000</td>\n",
       "      <td>-1.000000</td>\n",
       "      <td>-1.000000</td>\n",
       "      <td>-0.999873</td>\n",
       "      <td>-1.000000</td>\n",
       "      <td>-1.000000</td>\n",
       "      <td>-1.000000</td>\n",
       "      <td>-1.000000</td>\n",
       "      <td>-1.000000</td>\n",
       "      <td>...</td>\n",
       "      <td>-1.000000</td>\n",
       "      <td>-0.995357</td>\n",
       "      <td>-0.999765</td>\n",
       "      <td>-0.976580</td>\n",
       "      <td>-1.000000</td>\n",
       "      <td>-1.000000</td>\n",
       "      <td>-1.000000</td>\n",
       "      <td>-1.000000</td>\n",
       "      <td>-1.000000</td>\n",
       "      <td>-1.000000</td>\n",
       "    </tr>\n",
       "    <tr>\n",
       "      <th>25%</th>\n",
       "      <td>0.262975</td>\n",
       "      <td>-0.024863</td>\n",
       "      <td>-0.120993</td>\n",
       "      <td>-0.992754</td>\n",
       "      <td>-0.978129</td>\n",
       "      <td>-0.980233</td>\n",
       "      <td>-0.993591</td>\n",
       "      <td>-0.978162</td>\n",
       "      <td>-0.980251</td>\n",
       "      <td>-0.936219</td>\n",
       "      <td>...</td>\n",
       "      <td>-0.023692</td>\n",
       "      <td>-0.542602</td>\n",
       "      <td>-0.845573</td>\n",
       "      <td>-0.121527</td>\n",
       "      <td>-0.289549</td>\n",
       "      <td>-0.482273</td>\n",
       "      <td>-0.376341</td>\n",
       "      <td>-0.812065</td>\n",
       "      <td>-0.017885</td>\n",
       "      <td>-0.143414</td>\n",
       "    </tr>\n",
       "    <tr>\n",
       "      <th>50%</th>\n",
       "      <td>0.277193</td>\n",
       "      <td>-0.017219</td>\n",
       "      <td>-0.108676</td>\n",
       "      <td>-0.946196</td>\n",
       "      <td>-0.851897</td>\n",
       "      <td>-0.859365</td>\n",
       "      <td>-0.950709</td>\n",
       "      <td>-0.857328</td>\n",
       "      <td>-0.857143</td>\n",
       "      <td>-0.881637</td>\n",
       "      <td>...</td>\n",
       "      <td>0.134000</td>\n",
       "      <td>-0.343685</td>\n",
       "      <td>-0.711692</td>\n",
       "      <td>0.009509</td>\n",
       "      <td>0.008943</td>\n",
       "      <td>0.008735</td>\n",
       "      <td>-0.000368</td>\n",
       "      <td>-0.709417</td>\n",
       "      <td>0.182071</td>\n",
       "      <td>0.003181</td>\n",
       "    </tr>\n",
       "    <tr>\n",
       "      <th>75%</th>\n",
       "      <td>0.288461</td>\n",
       "      <td>-0.010783</td>\n",
       "      <td>-0.097794</td>\n",
       "      <td>-0.242813</td>\n",
       "      <td>-0.034231</td>\n",
       "      <td>-0.262415</td>\n",
       "      <td>-0.292680</td>\n",
       "      <td>-0.066701</td>\n",
       "      <td>-0.265671</td>\n",
       "      <td>-0.017129</td>\n",
       "      <td>...</td>\n",
       "      <td>0.289096</td>\n",
       "      <td>-0.126979</td>\n",
       "      <td>-0.503878</td>\n",
       "      <td>0.150865</td>\n",
       "      <td>0.292861</td>\n",
       "      <td>0.506187</td>\n",
       "      <td>0.359368</td>\n",
       "      <td>-0.509079</td>\n",
       "      <td>0.248353</td>\n",
       "      <td>0.107659</td>\n",
       "    </tr>\n",
       "    <tr>\n",
       "      <th>max</th>\n",
       "      <td>1.000000</td>\n",
       "      <td>1.000000</td>\n",
       "      <td>1.000000</td>\n",
       "      <td>1.000000</td>\n",
       "      <td>0.916238</td>\n",
       "      <td>1.000000</td>\n",
       "      <td>1.000000</td>\n",
       "      <td>0.967664</td>\n",
       "      <td>1.000000</td>\n",
       "      <td>1.000000</td>\n",
       "      <td>...</td>\n",
       "      <td>0.946700</td>\n",
       "      <td>0.989538</td>\n",
       "      <td>0.956845</td>\n",
       "      <td>1.000000</td>\n",
       "      <td>1.000000</td>\n",
       "      <td>0.998702</td>\n",
       "      <td>0.996078</td>\n",
       "      <td>1.000000</td>\n",
       "      <td>0.478157</td>\n",
       "      <td>1.000000</td>\n",
       "    </tr>\n",
       "  </tbody>\n",
       "</table>\n",
       "<p>8 rows × 561 columns</p>\n",
       "</div>"
      ],
      "text/plain": [
       "       1_tBodyAcc-mean()-X  2_tBodyAcc-mean()-Y  3_tBodyAcc-mean()-Z  \\\n",
       "count          7352.000000          7352.000000          7352.000000   \n",
       "mean              0.274488            -0.017695            -0.109141   \n",
       "std               0.070261             0.040811             0.056635   \n",
       "min              -1.000000            -1.000000            -1.000000   \n",
       "25%               0.262975            -0.024863            -0.120993   \n",
       "50%               0.277193            -0.017219            -0.108676   \n",
       "75%               0.288461            -0.010783            -0.097794   \n",
       "max               1.000000             1.000000             1.000000   \n",
       "\n",
       "       4_tBodyAcc-std()-X  5_tBodyAcc-std()-Y  6_tBodyAcc-std()-Z  \\\n",
       "count         7352.000000         7352.000000         7352.000000   \n",
       "mean            -0.605438           -0.510938           -0.604754   \n",
       "std              0.448734            0.502645            0.418687   \n",
       "min             -1.000000           -0.999873           -1.000000   \n",
       "25%             -0.992754           -0.978129           -0.980233   \n",
       "50%             -0.946196           -0.851897           -0.859365   \n",
       "75%             -0.242813           -0.034231           -0.262415   \n",
       "max              1.000000            0.916238            1.000000   \n",
       "\n",
       "       7_tBodyAcc-mad()-X  8_tBodyAcc-mad()-Y  9_tBodyAcc-mad()-Z  \\\n",
       "count         7352.000000         7352.000000         7352.000000   \n",
       "mean            -0.630512           -0.526907           -0.606150   \n",
       "std              0.424073            0.485942            0.414122   \n",
       "min             -1.000000           -1.000000           -1.000000   \n",
       "25%             -0.993591           -0.978162           -0.980251   \n",
       "50%             -0.950709           -0.857328           -0.857143   \n",
       "75%             -0.292680           -0.066701           -0.265671   \n",
       "max              1.000000            0.967664            1.000000   \n",
       "\n",
       "       10_tBodyAcc-max()-X            ...             \\\n",
       "count          7352.000000            ...              \n",
       "mean             -0.468604            ...              \n",
       "std               0.544547            ...              \n",
       "min              -1.000000            ...              \n",
       "25%              -0.936219            ...              \n",
       "50%              -0.881637            ...              \n",
       "75%              -0.017129            ...              \n",
       "max               1.000000            ...              \n",
       "\n",
       "       552_fBodyBodyGyroJerkMag-meanFreq()  \\\n",
       "count                          7352.000000   \n",
       "mean                              0.125293   \n",
       "std                               0.250994   \n",
       "min                              -1.000000   \n",
       "25%                              -0.023692   \n",
       "50%                               0.134000   \n",
       "75%                               0.289096   \n",
       "max                               0.946700   \n",
       "\n",
       "       553_fBodyBodyGyroJerkMag-skewness()  \\\n",
       "count                          7352.000000   \n",
       "mean                             -0.307009   \n",
       "std                               0.321011   \n",
       "min                              -0.995357   \n",
       "25%                              -0.542602   \n",
       "50%                              -0.343685   \n",
       "75%                              -0.126979   \n",
       "max                               0.989538   \n",
       "\n",
       "       554_fBodyBodyGyroJerkMag-kurtosis()  555_angle(tBodyAccMean,gravity)  \\\n",
       "count                          7352.000000                      7352.000000   \n",
       "mean                             -0.625294                         0.008684   \n",
       "std                               0.307584                         0.336787   \n",
       "min                              -0.999765                        -0.976580   \n",
       "25%                              -0.845573                        -0.121527   \n",
       "50%                              -0.711692                         0.009509   \n",
       "75%                              -0.503878                         0.150865   \n",
       "max                               0.956845                         1.000000   \n",
       "\n",
       "       556_angle(tBodyAccJerkMean),gravityMean)  \\\n",
       "count                               7352.000000   \n",
       "mean                                   0.002186   \n",
       "std                                    0.448306   \n",
       "min                                   -1.000000   \n",
       "25%                                   -0.289549   \n",
       "50%                                    0.008943   \n",
       "75%                                    0.292861   \n",
       "max                                    1.000000   \n",
       "\n",
       "       557_angle(tBodyGyroMean,gravityMean)  \\\n",
       "count                           7352.000000   \n",
       "mean                               0.008726   \n",
       "std                                0.608303   \n",
       "min                               -1.000000   \n",
       "25%                               -0.482273   \n",
       "50%                                0.008735   \n",
       "75%                                0.506187   \n",
       "max                                0.998702   \n",
       "\n",
       "       558_angle(tBodyGyroJerkMean,gravityMean)  559_angle(X,gravityMean)  \\\n",
       "count                               7352.000000               7352.000000   \n",
       "mean                                  -0.005981                 -0.489547   \n",
       "std                                    0.477975                  0.511807   \n",
       "min                                   -1.000000                 -1.000000   \n",
       "25%                                   -0.376341                 -0.812065   \n",
       "50%                                   -0.000368                 -0.709417   \n",
       "75%                                    0.359368                 -0.509079   \n",
       "max                                    0.996078                  1.000000   \n",
       "\n",
       "       560_angle(Y,gravityMean)  561_angle(Z,gravityMean)  \n",
       "count               7352.000000               7352.000000  \n",
       "mean                   0.058593                 -0.056515  \n",
       "std                    0.297480                  0.279122  \n",
       "min                   -1.000000                 -1.000000  \n",
       "25%                   -0.017885                 -0.143414  \n",
       "50%                    0.182071                  0.003181  \n",
       "75%                    0.248353                  0.107659  \n",
       "max                    0.478157                  1.000000  \n",
       "\n",
       "[8 rows x 561 columns]"
      ]
     },
     "metadata": {},
     "output_type": "display_data"
    }
   ],
   "source": [
    "display (data_xtrain_raw.describe ())"
   ]
  },
  {
   "cell_type": "code",
   "execution_count": 5,
   "metadata": {},
   "outputs": [
    {
     "name": "stdout",
     "output_type": "stream",
     "text": [
      "min = -1. [False  True] [ 95 466]\n",
      "max = +1. [False  True] [109 452]\n"
     ]
    }
   ],
   "source": [
    "# min\n",
    "unique_values, counts = np.unique ((data_xtrain_raw.describe ().loc['min'] <= -1.).values, return_counts = True)\n",
    "print ('min = -1.', unique_values, counts)\n",
    "\n",
    "# max\n",
    "unique_values, counts = np.unique ((data_xtrain_raw.describe ().loc['max'] >= 1.).values, return_counts = True)\n",
    "print ('max = +1.', unique_values, counts)"
   ]
  },
  {
   "cell_type": "markdown",
   "metadata": {},
   "source": [
    "Most features ar normalized within [-1, 1]. (be aware: they are normalized, and not standardized to $\\mu = 0, \\sigma = 1$)\n",
    "\n",
    "All features are bound within range [-1, 1].\n",
    "\n",
    "By that, it is guaranteed that the values are within a range, but skewness in features is present."
   ]
  },
  {
   "cell_type": "code",
   "execution_count": 6,
   "metadata": {},
   "outputs": [
    {
     "data": {
      "image/png": "[encoded data removed]",
      "text/plain": [
       "<Figure size 1080x216 with 5 Axes>"
      ]
     },
     "metadata": {
      "needs_background": "light"
     },
     "output_type": "display_data"
    }
   ],
   "source": [
    "# histograms of random chosen features to show normalization and skewness\n",
    "rnd_col_no_idx = np.random.randint (0, 561, 5)\n",
    "rnd_col_names = data_xtrain_raw.columns[rnd_col_no_idx].values\n",
    "\n",
    "fig, axs = plt.subplots (1, len (rnd_col_no_idx))\n",
    "\n",
    "for i in range (len (axs)):\n",
    "    axs[i].hist (data_xtrain_raw[rnd_col_names[i]])\n",
    "    axs[i].set_title (rnd_col_names[i])\n",
    "\n",
    "fig.set_size_inches (15, 3)\n",
    "plt.tight_layout ()\n",
    "plt.show ()"
   ]
  },
  {
   "cell_type": "code",
   "execution_count": 7,
   "metadata": {},
   "outputs": [
    {
     "data": {
      "image/png": "[encoded data removed]",
      "text/plain": [
       "<Figure size 1080x216 with 5 Axes>"
      ]
     },
     "metadata": {
      "needs_background": "light"
     },
     "output_type": "display_data"
    }
   ],
   "source": [
    "fig, axs = plt.subplots (1, len (rnd_col_no_idx))\n",
    "\n",
    "for i in range (len (axs)):\n",
    "    axs[i].boxplot (\n",
    "        x = data_xtrain_raw[rnd_col_names[i]],\n",
    "        flierprops = dict (\n",
    "            markerfacecolor = 'r',\n",
    "            marker = 's'\n",
    "        )\n",
    "    )\n",
    "    axs[i].set_title (rnd_col_names[i])\n",
    "\n",
    "fig.set_size_inches (15, 3)\n",
    "plt.tight_layout ()\n",
    "plt.show ()"
   ]
  },
  {
   "cell_type": "markdown",
   "metadata": {},
   "source": [
    "Statistically seen there may be many outliers per feature.\n",
    "\n",
    "Outliers harm the training of a learning algorithm. Nevertheless, removing outliers from the dataset lead to a decrease of training samples.\n",
    "\n",
    "__Question:__ What can we do to identify true outliers within 561 features? Correlation? PCA? Feature importance check? What if outliers are target specific characteristics?"
   ]
  },
  {
   "cell_type": "markdown",
   "metadata": {},
   "source": [
    "The units used for the accelerations (total and body) are 'g's (gravity of earth -> 9.80665 m/seg2).\n",
    "\n",
    "The gyroscope units are rad/seg.\n",
    "\n",
    "Since we have different units, it is advised to standardize the data."
   ]
  },
  {
   "cell_type": "markdown",
   "metadata": {},
   "source": [
    "### targets of dataset"
   ]
  },
  {
   "cell_type": "code",
   "execution_count": 8,
   "metadata": {},
   "outputs": [
    {
     "data": {
      "text/html": [
       "<div>\n",
       "<style scoped>\n",
       "    .dataframe tbody tr th:only-of-type {\n",
       "        vertical-align: middle;\n",
       "    }\n",
       "\n",
       "    .dataframe tbody tr th {\n",
       "        vertical-align: top;\n",
       "    }\n",
       "\n",
       "    .dataframe thead th {\n",
       "        text-align: right;\n",
       "    }\n",
       "</style>\n",
       "<table border=\"1\" class=\"dataframe\">\n",
       "  <thead>\n",
       "    <tr style=\"text-align: right;\">\n",
       "      <th></th>\n",
       "      <th>label_no</th>\n",
       "      <th>label_name</th>\n",
       "    </tr>\n",
       "  </thead>\n",
       "  <tbody>\n",
       "    <tr>\n",
       "      <th>0</th>\n",
       "      <td>1</td>\n",
       "      <td>WALKING</td>\n",
       "    </tr>\n",
       "    <tr>\n",
       "      <th>1</th>\n",
       "      <td>2</td>\n",
       "      <td>WALKING_UPSTAIRS</td>\n",
       "    </tr>\n",
       "    <tr>\n",
       "      <th>2</th>\n",
       "      <td>3</td>\n",
       "      <td>WALKING_DOWNSTAIRS</td>\n",
       "    </tr>\n",
       "    <tr>\n",
       "      <th>3</th>\n",
       "      <td>4</td>\n",
       "      <td>SITTING</td>\n",
       "    </tr>\n",
       "    <tr>\n",
       "      <th>4</th>\n",
       "      <td>5</td>\n",
       "      <td>STANDING</td>\n",
       "    </tr>\n",
       "    <tr>\n",
       "      <th>5</th>\n",
       "      <td>6</td>\n",
       "      <td>LAYING</td>\n",
       "    </tr>\n",
       "  </tbody>\n",
       "</table>\n",
       "</div>"
      ],
      "text/plain": [
       "  label_no          label_name\n",
       "0        1             WALKING\n",
       "1        2    WALKING_UPSTAIRS\n",
       "2        3  WALKING_DOWNSTAIRS\n",
       "3        4             SITTING\n",
       "4        5            STANDING\n",
       "5        6              LAYING"
      ]
     },
     "metadata": {},
     "output_type": "display_data"
    },
    {
     "data": {
      "text/html": [
       "<div>\n",
       "<style scoped>\n",
       "    .dataframe tbody tr th:only-of-type {\n",
       "        vertical-align: middle;\n",
       "    }\n",
       "\n",
       "    .dataframe tbody tr th {\n",
       "        vertical-align: top;\n",
       "    }\n",
       "\n",
       "    .dataframe thead th {\n",
       "        text-align: right;\n",
       "    }\n",
       "</style>\n",
       "<table border=\"1\" class=\"dataframe\">\n",
       "  <thead>\n",
       "    <tr style=\"text-align: right;\">\n",
       "      <th></th>\n",
       "      <th>label_no</th>\n",
       "    </tr>\n",
       "  </thead>\n",
       "  <tbody>\n",
       "    <tr>\n",
       "      <th>3256</th>\n",
       "      <td>5</td>\n",
       "    </tr>\n",
       "    <tr>\n",
       "      <th>2397</th>\n",
       "      <td>5</td>\n",
       "    </tr>\n",
       "  </tbody>\n",
       "</table>\n",
       "</div>"
      ],
      "text/plain": [
       "      label_no\n",
       "3256         5\n",
       "2397         5"
      ]
     },
     "metadata": {},
     "output_type": "display_data"
    }
   ],
   "source": [
    "# label information - contains header of raw df\n",
    "header_labels = pd.read_csv (\n",
    "    DATA_LABELS,\n",
    "    header = None,\n",
    "    names = ['label_no', 'label_name'],\n",
    "    sep = '\\s+',\n",
    "    dtype = 'str'\n",
    ")\n",
    "\n",
    "# read train label data incl. header as column names\n",
    "data_ytrain_raw = pd.read_csv (\n",
    "    DATA_Y_TRAIN,\n",
    "    header = None,\n",
    "    names = ['label_no'],\n",
    "    sep = '\\s+'\n",
    ")\n",
    "\n",
    "display (header_labels)\n",
    "display (data_ytrain_raw.sample (2))"
   ]
  },
  {
   "cell_type": "markdown",
   "metadata": {},
   "source": [
    "Labels are in nominal scaled range [1, 6]."
   ]
  },
  {
   "cell_type": "markdown",
   "metadata": {},
   "source": [
    "### training samples per target"
   ]
  },
  {
   "cell_type": "code",
   "execution_count": 9,
   "metadata": {},
   "outputs": [
    {
     "name": "stdout",
     "output_type": "stream",
     "text": [
      "label no    count\n",
      "       1    1226\n",
      "       2    1073\n",
      "       3    986\n",
      "       4    1286\n",
      "       5    1374\n",
      "       6    1407\n",
      "7352\n"
     ]
    }
   ],
   "source": [
    "# count instances per label\n",
    "\n",
    "overall_count = 0\n",
    "print ('label no    count')\n",
    "for label_no in range (1, 7):\n",
    "    label_no_idx = data_ytrain_raw[data_ytrain_raw['label_no'] == label_no].index.values\n",
    "    print ('{:8}    {}'.format (label_no, len (label_no_idx)))\n",
    "    overall_count += len (label_no_idx)\n",
    "    #label_no_fts = data_xtrain_raw.iloc[label_no_idx]\n",
    "    #label_no_fts.describe ()\n",
    "print (overall_count)"
   ]
  },
  {
   "cell_type": "markdown",
   "metadata": {},
   "source": [
    "Is okay. There are enough instances per label."
   ]
  },
  {
   "cell_type": "markdown",
   "metadata": {},
   "source": [
    "## Benchmark\n",
    "some other algorithm / software / result to compare this algorithm against (by using the defined metric)\n",
    "\n",
    "random guess"
   ]
  },
  {
   "cell_type": "markdown",
   "metadata": {},
   "source": [
    "---"
   ]
  },
  {
   "cell_type": "markdown",
   "metadata": {},
   "source": [
    "## Metric"
   ]
  },
  {
   "cell_type": "markdown",
   "metadata": {},
   "source": [
    "### Loss Function\n",
    "\n",
    "The learning problem is a multi-class classification problem.\n",
    "\n",
    "very good explanation to Cross Entropy: <a href = 'https://rdipietro.github.io/friendly-intro-to-cross-entropy-loss/'>A Friendly Introduction to Cross-Entropy Loss</a>\n",
    "\n",
    "explanation to Categorical Cross Entropy: <a href = 'https://gombru.github.io/2018/05/23/cross_entropy_loss/'>Understanding Categorical Cross-Entropy Loss, Binary Cross-Entropy Loss, Softmax Loss, Logistic Loss, Focal Loss and all those confusing names</a>\n",
    "\n",
    "_Entropy_:\n",
    "\n",
    "If you know the distribution of y, then the expected number of bits under an optimal encoding is.\n",
    "\n",
    "$H(y) = \\sum_i {y_i \\cdot log(1 / y_i)} = - \\sum_i {y_i \\cdot log(y_i)}$\n",
    "\n",
    "_Cross Entropy_:\n",
    "\n",
    "Number of bits you need to encode y, if you encode according to the wrong distribution $\\hat y$.\n",
    "\n",
    "$H(y, \\hat y) = \\sum_i {y_i \\cdot log(1 / \\hat y_i)} = - \\sum_i {y_i \\cdot log(\\hat y_i)}$\n",
    "\n",
    "$y$ = true distribution / ground-truth probabilities\n",
    "\n",
    "$\\hat y$ = 'artifical' distribution / predicted probabilities\n",
    "\n",
    "_Cross Entropy Loss_:\n",
    "\n",
    "Also known as Logistic Loss and Multinomial Logistic Loss.\n",
    "\n",
    "Don't use Softmax activation with Cross Entropy Loss -- use Sigmoid activation instead.\n",
    "\n",
    "_Categorical Cross Entropy Loss_:\n",
    "\n",
    "Also known as Softmax Loss. Used for multi-class classification.\n",
    "\n",
    "CCE is Softmax activation followed by CE:\n",
    "\n",
    "$\\sigma(\\hat y_i) = \\frac {e^{\\hat y_i}} {\\sum_j {e^{\\hat y_j}}}$\n",
    "\n",
    "$CCE = - \\sum_i {y_i \\cdot log(\\sigma(\\hat y_i))}$"
   ]
  },
  {
   "cell_type": "markdown",
   "metadata": {},
   "source": [
    "### Evaluation Metric\n",
    "\n",
    "F-beta score\n",
    "\n",
    "$F_\\beta = (1+\\beta)^2 \\cdot \\frac {prec \\cdot rec} {\\beta^2 \\cdot prec + rec}$\n",
    "\n",
    "beta = 0.5, since a precise learning algorithm is the aim, i.e. Type I Errors (False Positives) shall be ommitted.\n",
    "\n",
    "$F_\\beta$ is in range [0, 1] [worst, best]\n"
   ]
  },
  {
   "cell_type": "markdown",
   "metadata": {},
   "source": [
    "## Data Preprocessing"
   ]
  },
  {
   "cell_type": "markdown",
   "metadata": {},
   "source": [
    "### Feature Selection\n",
    "Get rid of unimportant features (for the learning algorithm),\n",
    "\n",
    "Nothing to do here."
   ]
  },
  {
   "cell_type": "markdown",
   "metadata": {},
   "source": [
    "### Removing Outliers\n",
    "by finding all instances, with outliers outside of $3 \\cdot IQR$ of feature and # of features with outliers > 50%."
   ]
  },
  {
   "cell_type": "code",
   "execution_count": 10,
   "metadata": {},
   "outputs": [],
   "source": [
    "# calculate 3 * IQR min and max for each feature\n",
    "data_xtrain_stats = data_xtrain_raw.describe ()\n",
    "data_xtrain_iqr = (data_xtrain_stats.loc['75%'] - data_xtrain_stats.loc['25%']).values # per feature\n",
    "\n",
    "data_xtrain_iqr_3min = data_xtrain_stats.loc['25%'].values - 3 * data_xtrain_iqr # per feature\n",
    "data_xtrain_iqr_3max = data_xtrain_stats.loc['75%'].values + 3 * data_xtrain_iqr # per feature\n",
    "\n",
    "#print (data_xtrain_raw.values.shape, data_xtrain_iqr_3min.shape) # trailing axes must have same dimension, i.e. mxn, nx1\n",
    "\n",
    "# get instances which have outliers\n",
    "outliers_min = np.where (data_xtrain_raw.values < data_xtrain_iqr_3min)\n",
    "outliers_max = np.where (data_xtrain_raw.values > data_xtrain_iqr_3max)\n",
    "\n",
    "# count # of features per instance exceeds 560 / 2 = 280\n",
    "# run thru every instance\n",
    "for i in outliers_min[0]:\n",
    "    # get # of features with outliers\n",
    "    pass\n",
    "#set (list (outliers_min[1]))\n",
    "\n",
    "# have currently no idea how to further proceed"
   ]
  },
  {
   "cell_type": "markdown",
   "metadata": {},
   "source": [
    "### Downscaling of Feature values\n",
    "Normalization on standardized features didn't work out -> another approach: Scale each feature down by a certain factor (one factor for all features!)\n",
    "\n",
    "Factor = 100\n",
    "\n",
    "__[2018-12-14:dh]__ Scaling the feature values beforehand has no effect on later standardization!"
   ]
  },
  {
   "cell_type": "code",
   "execution_count": 11,
   "metadata": {},
   "outputs": [
    {
     "name": "stdout",
     "output_type": "stream",
     "text": [
      "-1.0 1.0\n",
      "555\n"
     ]
    }
   ],
   "source": [
    "# min and max\n",
    "print (data_xtrain_raw.values.min (), data_xtrain_raw.values.max ())\n",
    "\n",
    "# zero values\n",
    "zero_idx = np.where (data_xtrain_raw.values == 0)\n",
    "print (len (zero_idx[0]))\n",
    "# lowest values close to zero\n",
    "#print (np.where ((-1e-100 < data_xtrain_raw.values) & (data_xtrain_raw.values < 1e-100)))"
   ]
  },
  {
   "cell_type": "markdown",
   "metadata": {},
   "source": [
    "Standard deviation is affected by downscaling factor -> First downscale and then standardize features."
   ]
  },
  {
   "cell_type": "markdown",
   "metadata": {},
   "source": [
    "### Standardization\n",
    "also known as Z-score Normalization\n",
    "\n",
    "Standardizing the features so that they are centered at 0 with a standard deviation of 1.\n",
    "\n",
    "$z = \\frac{x-u}{s}$\n",
    "\n",
    "with\n",
    "\n",
    "$u = \\frac1N \\sum_{i=1}^N {x_i}$\n",
    "\n",
    "$s = \\sqrt {\\frac1N \\sum_{i=1}^N ({x_i - u})^2}$\n",
    "\n",
    "Centering and scaling happen independently on each feature.\n",
    "\n",
    "Furthermore and important: the units of the features vanish with standardization -> comparison between features is possible"
   ]
  },
  {
   "cell_type": "code",
   "execution_count": 12,
   "metadata": {},
   "outputs": [
    {
     "data": {
      "text/plain": [
       "StandardScaler(copy=True, with_mean=True, with_std=True)"
      ]
     },
     "execution_count": 12,
     "metadata": {},
     "output_type": "execute_result"
    }
   ],
   "source": [
    "# standardize data to mu = 0, sigma = 1\n",
    "from sklearn.preprocessing import StandardScaler\n",
    "\n",
    "std_scaler = StandardScaler ()\n",
    "\n",
    "n_samples = data_xtrain_raw.index.values\n",
    "n_features = data_xtrain_raw.values\n",
    "#data = np.vstack ((n_samples, n_features)).T\n",
    "data = n_features\n",
    "\n",
    "std_scaler.fit (data) # expects array with [n_samples, n_features]\n",
    "Z = std_scaler.transform (data)\n",
    "\n",
    "std_scaler"
   ]
  },
  {
   "cell_type": "code",
   "execution_count": 13,
   "metadata": {},
   "outputs": [
    {
     "data": {
      "image/png": "[encoded data removed]",
      "text/plain": [
       "<Figure size 432x288 with 1 Axes>"
      ]
     },
     "metadata": {
      "needs_background": "light"
     },
     "output_type": "display_data"
    }
   ],
   "source": [
    "plt.hist (Z.mean (axis = 0));"
   ]
  },
  {
   "cell_type": "code",
   "execution_count": 14,
   "metadata": {},
   "outputs": [
    {
     "data": {
      "image/png": "[encoded data removed]",
      "text/plain": [
       "<Figure size 432x288 with 1 Axes>"
      ]
     },
     "metadata": {
      "needs_background": "light"
     },
     "output_type": "display_data"
    }
   ],
   "source": [
    "plt.hist (Z.std (axis = 0));"
   ]
  },
  {
   "cell_type": "code",
   "execution_count": 15,
   "metadata": {},
   "outputs": [
    {
     "data": {
      "text/plain": [
       "(-24.071520643074255, 34.19405648585853)"
      ]
     },
     "execution_count": 15,
     "metadata": {},
     "output_type": "execute_result"
    }
   ],
   "source": [
    "Z.min (), Z.max ()"
   ]
  },
  {
   "cell_type": "markdown",
   "metadata": {},
   "source": [
    "### Shuffle and Split into Train and Val Dataset"
   ]
  },
  {
   "cell_type": "code",
   "execution_count": 16,
   "metadata": {},
   "outputs": [
    {
     "data": {
      "text/plain": [
       "((5881, 561), (5881, 6), (1471, 561), (1471, 6))"
      ]
     },
     "execution_count": 16,
     "metadata": {},
     "output_type": "execute_result"
    }
   ],
   "source": [
    "# shuffle data randomly\n",
    "from sklearn.model_selection import train_test_split\n",
    "\n",
    "RND_STATE = 42\n",
    "\n",
    "X = Z\n",
    "y = data_ytrain_raw['label_no'].values\n",
    "\n",
    "X_train, X_val, y_train, y_val = train_test_split (\n",
    "    X, y,\n",
    "    test_size = 0.2,\n",
    "    shuffle = True,\n",
    "    random_state = RND_STATE\n",
    ")\n",
    "\n",
    "# one-hot encode target labels\n",
    "y_train = pd.get_dummies (y_train).values\n",
    "y_val = pd.get_dummies (y_val).values\n",
    "\n",
    "\n",
    "X_train.shape, y_train.shape, X_val.shape, y_val.shape"
   ]
  },
  {
   "cell_type": "markdown",
   "metadata": {},
   "source": [
    "## Implementation\n",
    "MLP is used built up on Keras.\n",
    "\n",
    "Architecture of the MLP is random. Dropout is once used."
   ]
  },
  {
   "cell_type": "code",
   "execution_count": 17,
   "metadata": {},
   "outputs": [
    {
     "name": "stderr",
     "output_type": "stream",
     "text": [
      "Using TensorFlow backend.\n"
     ]
    },
    {
     "name": "stdout",
     "output_type": "stream",
     "text": [
      "_________________________________________________________________\n",
      "Layer (type)                 Output Shape              Param #   \n",
      "=================================================================\n",
      "input (InputLayer)           (None, 561)               0         \n",
      "_________________________________________________________________\n",
      "fc_1 (Dense)                 (None, 512)               287744    \n",
      "_________________________________________________________________\n",
      "fc_2 (Dense)                 (None, 256)               131328    \n",
      "_________________________________________________________________\n",
      "dro_23 (Dropout)             (None, 256)               0         \n",
      "_________________________________________________________________\n",
      "fc_3 (Dense)                 (None, 128)               32896     \n",
      "_________________________________________________________________\n",
      "output (Dense)               (None, 6)                 774       \n",
      "=================================================================\n",
      "Total params: 452,742\n",
      "Trainable params: 452,742\n",
      "Non-trainable params: 0\n",
      "_________________________________________________________________\n"
     ]
    }
   ],
   "source": [
    "from keras import layers, models\n",
    "from keras import backend as K\n",
    "\n",
    "# clear everything known of past instances (\"useful to avoid clutter from old models / layers\")\n",
    "K.clear_session ()\n",
    "\n",
    "\n",
    "# input layer\n",
    "inputs = layers.Input (\n",
    "    shape = X_train.shape[1:],\n",
    "    name = 'input'\n",
    ")\n",
    "\n",
    "net = layers.Dense (\n",
    "    units = 512,\n",
    "    activation = 'relu',\n",
    "    name = 'fc_1'\n",
    ") (inputs)\n",
    "\n",
    "net = layers.Dense (\n",
    "    units = 256,\n",
    "    activation = 'relu',\n",
    "    name = 'fc_2'\n",
    ") (net)\n",
    "\n",
    "net = layers.Dropout (\n",
    "    rate = 0.5,\n",
    "    name = 'dro_23'\n",
    ") (net)\n",
    "\n",
    "net = layers.Dense (\n",
    "    units = 128,\n",
    "    activation = 'relu',\n",
    "    name = 'fc_3'\n",
    ") (net)\n",
    "\n",
    "\n",
    "# output layer\n",
    "outputs = layers.Dense (\n",
    "    units = y_train.shape[1],\n",
    "    activation = 'softmax',\n",
    "    name='output'\n",
    ") (net)\n",
    "\n",
    "\n",
    "model = models.Model (\n",
    "    inputs = inputs,\n",
    "    outputs = outputs\n",
    ")\n",
    "model.summary ()"
   ]
  },
  {
   "cell_type": "code",
   "execution_count": 18,
   "metadata": {},
   "outputs": [],
   "source": [
    "# from: Arseny Kravchenko http://arseny.info/2017/f-beta-score-for-keras.html\n",
    "\n",
    "PARAM_BETA = 0.5\n",
    "def fbeta (y_true, y_pred):\n",
    "\n",
    "    # just in case of hipster activation at the final layer\n",
    "    y_pred = K.clip (y_pred, 0, 1)\n",
    "\n",
    "    tp = K.sum (K.round (y_true * y_pred)) + K.epsilon ()\n",
    "    fp = K.sum (K.round (K.clip (y_pred - y_true, 0, 1)))\n",
    "    fn = K.sum (K.round (K.clip (y_true - y_pred, 0, 1)))\n",
    "\n",
    "    precision = tp / (tp + fp)\n",
    "    recall = tp / (tp + fn)\n",
    "\n",
    "    beta_squared = PARAM_BETA ** 2\n",
    "    return (beta_squared + 1) * (precision * recall) / (beta_squared * precision + recall)"
   ]
  },
  {
   "cell_type": "code",
   "execution_count": 19,
   "metadata": {},
   "outputs": [],
   "source": [
    "from keras import optimizers, losses\n",
    "\n",
    "PARAM_LR = 0.0001\n",
    "PARAM_MOM = 0.9\n",
    "PARAM_LRDEC = 0\n",
    "opt = optimizers.SGD (lr=PARAM_LR, momentum=PARAM_MOM, decay=PARAM_LRDEC)\n",
    "\n",
    "loss = losses.categorical_crossentropy\n",
    "\n",
    "model.compile (optimizer=opt, loss=loss, metrics=[fbeta])"
   ]
  },
  {
   "cell_type": "code",
   "execution_count": 20,
   "metadata": {},
   "outputs": [
    {
     "name": "stdout",
     "output_type": "stream",
     "text": [
      "training set: features (5881, 561), targets (5881, 6)\n",
      "validation set: features (1471, 561), targets (1471, 6)\n",
      "epoch 1:\n",
      " 5881 / 5881, loss 1.3176504 fbeta 4.9999977e-07, val loss 0.93344814 val fbeta 0.5927249\n",
      "[i] time taken for last epoch: 6.77 s\n",
      "[i] estimation for remaining epochs: 162.39 s\n",
      "epoch 2:\n",
      " 5881 / 5881, loss 0.20314375 fbeta 1.0, val loss 0.67598873 val fbeta 0.8108905\n",
      "[i] time taken for last epoch: 6.30 s\n",
      "[i] estimation for remaining epochs: 144.84 s\n",
      "epoch 3:\n",
      " 5881 / 5881, loss 0.33538765 fbeta 1.0, val loss 0.5256088 val fbeta 0.86383605\n",
      "[i] time taken for last epoch: 6.31 s\n",
      "[i] estimation for remaining epochs: 138.89 s\n",
      "epoch 4:\n",
      " 5881 / 5881, loss 0.14380692 fbeta 1.0, val loss 0.43125018 val fbeta 0.88972425\n",
      "[i] time taken for last epoch: 6.30 s\n",
      "[i] estimation for remaining epochs: 132.24 s\n",
      "epoch 5:\n",
      " 5881 / 5881, loss 0.1691131 fbeta 1.0, val loss 0.3633189 val fbeta 0.902277\n",
      "[i] time taken for last epoch: 6.28 s\n",
      "[i] estimation for remaining epochs: 125.63 s\n",
      "epoch 6:\n",
      " 5881 / 5881, loss 0.022475658 fbeta 1.0, val loss 0.31707582 val fbeta 0.90909094\n",
      "[i] time taken for last epoch: 6.31 s\n",
      "[i] estimation for remaining epochs: 119.95 s\n",
      "epoch 7:\n",
      " 5881 / 5881, loss 0.06190318 fbeta 1.0, val loss 0.28212133 val fbeta 0.9134283\n",
      "[i] time taken for last epoch: 6.28 s\n",
      "[i] estimation for remaining epochs: 113.07 s\n",
      "epoch 8:\n",
      " 5881 / 5881, loss 0.011723183 fbeta 1.0, val loss 0.2567468 val fbeta 0.91835326\n",
      "[i] time taken for last epoch: 6.30 s\n",
      "[i] estimation for remaining epochs: 107.06 s\n",
      "epoch 9:\n",
      " 5881 / 5881, loss 0.14076352 fbeta 1.0, val loss 0.23387143 val fbeta 0.92679226\n",
      "[i] time taken for last epoch: 6.30 s\n",
      "[i] estimation for remaining epochs: 100.76 s\n",
      "epoch 10:\n",
      " 5881 / 5881, loss 0.029939707 fbeta 1.0, val loss 0.21919794 val fbeta 0.9262825\n",
      "[i] time taken for last epoch: 6.30 s\n",
      "[i] estimation for remaining epochs: 94.46 s\n",
      "epoch 11:\n",
      " 5881 / 5881, loss 0.0029020058 fbeta 1.0, val loss 0.20207882 val fbeta 0.93540436\n",
      "[i] time taken for last epoch: 6.28 s\n",
      "[i] estimation for remaining epochs: 87.94 s\n",
      "epoch 12:\n",
      " 5881 / 5881, loss 0.0050084037 fbeta 1.0, val loss 0.19081621 val fbeta 0.93540436\n",
      "[i] time taken for last epoch: 6.28 s\n",
      "[i] estimation for remaining epochs: 81.66 s\n",
      "epoch 13:\n",
      " 5881 / 5881, loss 0.011294187 fbeta 1.0, val loss 0.1805723 val fbeta 0.9366034\n",
      "[i] time taken for last epoch: 6.30 s\n",
      "[i] estimation for remaining epochs: 75.57 s\n",
      "epoch 14:\n",
      " 5881 / 5881, loss 0.001590085 fbeta 1.0, val loss 0.171228 val fbeta 0.9407023\n",
      "[i] time taken for last epoch: 6.30 s\n",
      "[i] estimation for remaining epochs: 69.27 s\n",
      "epoch 15:\n",
      " 5881 / 5881, loss 0.004173632 fbeta 1.0, val loss 0.16230206 val fbeta 0.9443\n",
      "[i] time taken for last epoch: 6.28 s\n",
      "[i] estimation for remaining epochs: 62.82 s\n",
      "epoch 16:\n",
      " 5881 / 5881, loss 0.000913799 fbeta 1.0, val loss 0.15770213 val fbeta 0.9465189\n",
      "[i] time taken for last epoch: 6.28 s\n",
      "[i] estimation for remaining epochs: 56.54 s\n",
      "epoch 17:\n",
      " 5881 / 5881, loss 0.027294146 fbeta 1.0, val loss 0.14931808 val fbeta 0.9495833\n",
      "[i] time taken for last epoch: 6.30 s\n",
      "[i] estimation for remaining epochs: 50.38 s\n",
      "epoch 18:\n",
      " 5881 / 5881, loss 0.0023296769 fbeta 1.0, val loss 0.14463426 val fbeta 0.9502664\n",
      "[i] time taken for last epoch: 6.28 s\n",
      "[i] estimation for remaining epochs: 43.97 s\n",
      "epoch 19:\n",
      " 5881 / 5881, loss 0.000600399 fbeta 1.0, val loss 0.13878097 val fbeta 0.9519586\n",
      "[i] time taken for last epoch: 6.30 s\n",
      "[i] estimation for remaining epochs: 37.78 s\n",
      "epoch 20:\n",
      " 5881 / 5881, loss 0.0017834106 fbeta 1.0, val loss 0.13666682 val fbeta 0.95111287\n",
      "[i] time taken for last epoch: 6.28 s\n",
      "[i] estimation for remaining epochs: 31.41 s\n",
      "epoch 21:\n",
      " 5881 / 5881, loss 0.00010789023 fbeta 1.0, val loss 0.13230403 val fbeta 0.95179564\n",
      "[i] time taken for last epoch: 6.30 s\n",
      "[i] estimation for remaining epochs: 25.19 s\n",
      "epoch 22:\n",
      " 5881 / 5881, loss 0.00092573086 fbeta 1.0, val loss 0.13054977 val fbeta 0.95368224\n",
      "[i] time taken for last epoch: 6.34 s\n",
      "[i] estimation for remaining epochs: 19.02 s\n",
      "epoch 23:\n",
      " 5881 / 5881, loss 0.00088748964 fbeta 1.0, val loss 0.12407154 val fbeta 0.9546882\n",
      "[i] time taken for last epoch: 6.31 s\n",
      "[i] estimation for remaining epochs: 12.61 s\n",
      "epoch 24:\n",
      " 5881 / 5881, loss 0.00044194688 fbeta 1.0, val loss 0.12328083 val fbeta 0.9567354\n",
      "[i] time taken for last epoch: 6.28 s\n",
      "[i] estimation for remaining epochs: 6.28 s\n",
      "epoch 25:\n",
      " 5881 / 5881, loss 0.00013328486 fbeta 1.0, val loss 0.12245528 val fbeta 0.9564149\n",
      "[i] time taken for last epoch: 6.30 s\n",
      "[i] estimation for remaining epochs: 0.00 s\n"
     ]
    }
   ],
   "source": [
    "print ('training set: features {}, targets {}'.format (X_train.shape, y_train.shape))\n",
    "print ('validation set: features {}, targets {}'.format (X_val.shape, y_val.shape))\n",
    "scalars_train, scalars_val = [], []\n",
    "\n",
    "# batch run\n",
    "PARAM_N_BATCH = 20\n",
    "max_batches = X_train.shape[0] // PARAM_N_BATCH\n",
    "last_batch = X_train.shape[0] % PARAM_N_BATCH\n",
    "\n",
    "# training\n",
    "PARAM_MAX_EPOCHS = 25\n",
    "\n",
    "epoch = 1\n",
    "while (epoch <= PARAM_MAX_EPOCHS):\n",
    "    \n",
    "    start_time = time.time ()\n",
    "    \n",
    "    print ('epoch {}:'.format (epoch))\n",
    "    \n",
    "    for i in range (max_batches):\n",
    "        # training\n",
    "        print ('\\r', (i+1)*PARAM_N_BATCH, '/', X_train.shape[0], end=', ')\n",
    "        ret = model.train_on_batch (\n",
    "            X_train[i*PARAM_N_BATCH:(i+1)*PARAM_N_BATCH], y_train[i*PARAM_N_BATCH:(i+1)*PARAM_N_BATCH])\n",
    "        \n",
    "        # validation\n",
    "        val = model.test_on_batch (X_val, y_val)\n",
    "    \n",
    "    if (last_batch > 0):\n",
    "        # training\n",
    "        print ('\\r', max_batches * PARAM_N_BATCH + last_batch, '/', X_train.shape[0], end=', ')\n",
    "        ret = model.train_on_batch (X_train[-last_batch:], y_train[-last_batch:])\n",
    "        \n",
    "        # validation\n",
    "        val = model.test_on_batch (X_val, y_val)\n",
    "    \n",
    "    # print results\n",
    "    print (model.metrics_names[0], ret[0], end=' ')\n",
    "    print (model.metrics_names[1], ret[1], end=', ')\n",
    "    print ('val', model.metrics_names[0], val[0],'val', model.metrics_names[1], val[1])\n",
    "    \n",
    "    scalars_train.append (ret)\n",
    "    scalars_val.append (val)\n",
    "    \n",
    "    epoch += 1\n",
    "    \n",
    "    end_time = time.time () - start_time\n",
    "    print ('[i] time taken for last epoch: {:.2f} s'.format (end_time))\n",
    "    print ('[i] estimation for remaining epochs: {:.2f} s'.format (end_time * (PARAM_MAX_EPOCHS-epoch+1)))"
   ]
  },
  {
   "cell_type": "markdown",
   "metadata": {},
   "source": [
    "---"
   ]
  },
  {
   "cell_type": "markdown",
   "metadata": {},
   "source": [
    "## Evaluation and Validation\n",
    "results and justification"
   ]
  },
  {
   "cell_type": "code",
   "execution_count": 21,
   "metadata": {},
   "outputs": [
    {
     "data": {
      "image/png": "[encoded data removed]",
      "text/plain": [
       "<Figure size 1280x480 with 2 Axes>"
      ]
     },
     "metadata": {
      "needs_background": "light"
     },
     "output_type": "display_data"
    }
   ],
   "source": [
    "df_train = pd.DataFrame (scalars_train, columns=model.metrics_names)\n",
    "df_val = pd.DataFrame (scalars_val, columns=model.metrics_names)\n",
    "\n",
    "fig, axs = plt.subplots (1, 2)\n",
    "\n",
    "for i in range (2):\n",
    "    axs[i].set_title (model.metrics_names[i])\n",
    "    axs[i].plot (df_train[model.metrics_names[i]])\n",
    "    axs[i].plot (df_val[model.metrics_names[i]])\n",
    "    axs[i].legend (['train', 'val'])\n",
    "    axs[i].set_xticklabels (np.arange (1, len (scalars_train) + 1, 1))\n",
    "    axs[i].set_xticks (np.arange (0, len (scalars_train), 1))\n",
    "\n",
    "fig.set_size_inches (640*2/fig.dpi, 480/fig.dpi)"
   ]
  },
  {
   "cell_type": "markdown",
   "metadata": {},
   "source": [
    "Very good loss curve. The spikes in the train loss yield from the dropout dro_23.\n",
    "\n",
    "Validation curve for both loss and fbeta is nice too, smooth descend / ascend."
   ]
  },
  {
   "cell_type": "markdown",
   "metadata": {},
   "source": [
    "### Evaluation on test dataset"
   ]
  },
  {
   "cell_type": "code",
   "execution_count": 22,
   "metadata": {},
   "outputs": [],
   "source": [
    "# read test data incl. header as column names\n",
    "data_xtest_raw = pd.read_csv (\n",
    "    DATA_X_TEST,\n",
    "    header = None,\n",
    "    names = (header['feature_no'] + '_' + header['feature_name']).values,\n",
    "    sep = '\\s+'\n",
    ")\n",
    "\n",
    "# read test label data incl. header as column names\n",
    "data_ytest_raw = pd.read_csv (\n",
    "    DATA_Y_TEST,\n",
    "    header = None,\n",
    "    names = ['label_no'],\n",
    "    sep = '\\s+'\n",
    ")"
   ]
  },
  {
   "cell_type": "code",
   "execution_count": 23,
   "metadata": {},
   "outputs": [
    {
     "data": {
      "text/plain": [
       "((2947, 561), (2947, 6))"
      ]
     },
     "execution_count": 23,
     "metadata": {},
     "output_type": "execute_result"
    }
   ],
   "source": [
    "X_test = std_scaler.transform (data_xtest_raw.values)\n",
    "y_test = data_ytest_raw.values.reshape (-1)\n",
    "\n",
    "# one-hot encode target labels\n",
    "y_test = pd.get_dummies (y_test).values\n",
    "\n",
    "\n",
    "X_test.shape, y_test.shape"
   ]
  },
  {
   "cell_type": "code",
   "execution_count": 24,
   "metadata": {},
   "outputs": [
    {
     "name": "stdout",
     "output_type": "stream",
     "text": [
      "2947/2947 [==============================] - 0s 42us/step\n"
     ]
    },
    {
     "data": {
      "text/plain": [
       "[0.17691901695548296, 0.9323013436604161]"
      ]
     },
     "execution_count": 24,
     "metadata": {},
     "output_type": "execute_result"
    }
   ],
   "source": [
    "model.evaluate (X_test, y_test)"
   ]
  },
  {
   "cell_type": "markdown",
   "metadata": {},
   "source": [
    "## Misc"
   ]
  },
  {
   "cell_type": "markdown",
   "metadata": {},
   "source": [
    "### save learning algorithm"
   ]
  },
  {
   "cell_type": "code",
   "execution_count": 25,
   "metadata": {},
   "outputs": [
    {
     "name": "stdout",
     "output_type": "stream",
     "text": [
      ">>> saving model architecture... done\n",
      ">>> saving model weights... done\n",
      ">>> saving model history... done\n"
     ]
    }
   ],
   "source": [
    "# serialization of model architecture\n",
    "import os\n",
    "import time\n",
    "import pandas as pd\n",
    "\n",
    "t = time.strftime (\"%Y%m%d-%H%M%S\", time.gmtime ())\n",
    "\n",
    "# save model architecture\n",
    "save_name = os.path.join ('model', t + '_model.arch' + '.yaml')\n",
    "print ('>>> saving model architecture...', end=' ', flush=True)\n",
    "yaml_string = model.to_yaml ()\n",
    "with open (save_name, 'w') as yaml_file:\n",
    "    yaml_file.write (yaml_string)\n",
    "print ('done')\n",
    "\n",
    "# save model weights\n",
    "save_name = os.path.join ('model', t + '_model.weights' + '.h5')\n",
    "print ('>>> saving model weights...', end=' ', flush=True)\n",
    "model.save_weights (save_name)\n",
    "print ('done')\n",
    "\n",
    "# save learning history\n",
    "#save_name = os.path.join ('model', t + '_model.hist' + '.csv')\n",
    "print ('>>> saving model history...', end=' ', flush=True)\n",
    "#hist_df = pd.DataFrame.from_dict (history.history)\n",
    "#hist_df.to_csv (save_name)\n",
    "save_name = os.path.join ('model', t + '_model.hist.train' + '.csv')\n",
    "df_train.to_csv (save_name)\n",
    "save_name = os.path.join ('model', t + '_model.hist.val' + '.csv')\n",
    "df_val.to_csv (save_name)\n",
    "print ('done')"
   ]
  },
  {
   "cell_type": "markdown",
   "metadata": {},
   "source": [
    "### load learning algorithm"
   ]
  },
  {
   "cell_type": "code",
   "execution_count": null,
   "metadata": {},
   "outputs": [],
   "source": [
    "# load model architecture\n",
    "#load_name = os.path.join ('model', '20180908-094455_model.arch.yaml')\n",
    "#print ('>>> loading and compiling model...', end=' ', flush=True)\n",
    "#with open (load_name, 'r') as yaml_file:\n",
    "#    yaml_string = yaml_file.read ()\n",
    "#model = models.model_from_yaml (yaml_string)\n",
    "#model.compile (optimizer=opt, loss=loss, metrics=[fbeta])\n",
    "#print ('done')\n",
    "\n",
    "# load best weights\n",
    "#print ('>>> loading best weights into model...', end=' ', flush=True)\n",
    "#model.load_weights (os.path.join ('model','20180908-094455_model.weights.b.h5'))\n",
    "#print ('done')\n",
    "\n",
    "#model.summary ()"
   ]
  },
  {
   "cell_type": "markdown",
   "metadata": {},
   "source": [
    "---"
   ]
  },
  {
   "cell_type": "markdown",
   "metadata": {},
   "source": [
    "## Depcrecated / FYI"
   ]
  },
  {
   "cell_type": "markdown",
   "metadata": {},
   "source": [
    "### Normalization\n",
    "Values became bigger due to standardization. The taken learning algorithm works better with low values, since then the weights are kept low.\n",
    "\n",
    "Normalization per feature to range [-1, 1].\n",
    "\n",
    "$x_{std} = \\frac {x - x_{min}}{x_{max} - x_{min}}$\n",
    "\n",
    "$x_{scaled} = x_{std} \\cdot ({max - min}) + {min}$"
   ]
  },
  {
   "cell_type": "code",
   "execution_count": null,
   "metadata": {},
   "outputs": [],
   "source": [
    "# values are bigger than before -> normalize to [-1, 1] again\n",
    "from sklearn.preprocessing import MinMaxScaler\n",
    "\n",
    "mm_scaler = MinMaxScaler (\n",
    "    feature_range = (-1, 1)\n",
    ")\n",
    "\n",
    "mm_scaler.fit (Z)\n",
    "Z_norm = mm_scaler.transform (Z)\n",
    "\n",
    "mm_scaler"
   ]
  },
  {
   "cell_type": "code",
   "execution_count": null,
   "metadata": {},
   "outputs": [],
   "source": [
    "# example for prove\n",
    "print (Z_norm[:, 0].min (), Z_norm[:, 0].max ())\n",
    "print (Z_norm[:, 0].mean (), Z_norm[:, 0].std ())"
   ]
  },
  {
   "cell_type": "code",
   "execution_count": null,
   "metadata": {},
   "outputs": [],
   "source": [
    "plt.hist (Z_norm[:, 0])"
   ]
  },
  {
   "cell_type": "markdown",
   "metadata": {},
   "source": [
    "### Outliers"
   ]
  },
  {
   "cell_type": "code",
   "execution_count": null,
   "metadata": {},
   "outputs": [],
   "source": [
    "fig, axs = plt.subplots (1, 1)\n",
    "\n",
    "axs.boxplot (\n",
    "    x = data_xtrain_raw['129_tBodyGyro-mad()-Z'],\n",
    "    flierprops = dict (\n",
    "        markerfacecolor = 'r',\n",
    "        marker = 's'\n",
    "    )\n",
    ")\n",
    "axs.set_title ('129_tBodyGyro-mad()-Z')\n",
    "\n",
    "fig.set_size_inches (4, 4)\n",
    "plt.tight_layout ()\n",
    "plt.show ()\n",
    "\n",
    "data_xtrain_raw['129_tBodyGyro-mad()-Z'].describe ()"
   ]
  },
  {
   "cell_type": "markdown",
   "metadata": {},
   "source": [
    "25th percentile (1st quartile $Q_1$) = -0.987637 -- 25% of values are lower or equal to this value\n",
    "\n",
    "50th percentile (2nd quartile $Q_2$) = -0.896950 -- 50% of values are lower or equal to this value, also known as median\n",
    "\n",
    "75th percentile (3rd quartile $Q_3$) = -0.359388 -- 75% of values are lower or equal to this value\n",
    "\n",
    "(Interquartile Range) IQR = $Q_3 - Q1$ = -0.359388 - -0.987637 = 0.628249\n",
    "\n",
    "Whiskers range go up to $1.5 \\cdot IQR$ = $1.5 \\cdot 0.628249$ = 0.9423735\n",
    "\n",
    "Whisker_min = $Q_1 - 1.5 \\cdot IQR$ = -0.987637 - 0.9423735 = -1.9300105 -- value is bigger than min () > set Whisker_min = min () = -0.999915, no outliers\n",
    "\n",
    "Whisker_max = $Q_3 + 1.5 \\cdot IQR$ = -0.359388 + 0.9423735 = 0.5829855 -- value is smaller than max () > all values above Whisker_max are considered as outliers"
   ]
  },
  {
   "cell_type": "markdown",
   "metadata": {},
   "source": [
    "### Subset of data for test with algorithm"
   ]
  },
  {
   "cell_type": "code",
   "execution_count": null,
   "metadata": {},
   "outputs": [],
   "source": [
    "# take out 200 samples (~ 20% of dataset) per target label for test purposes first\n",
    "# remark: take Z, not Z_norm, for this task since normalization on standardized features failed\n",
    "import random\n",
    "from collections import defaultdict\n",
    "\n",
    "X = Z\n",
    "y = data_ytrain_raw['label_no'].values\n",
    "\n",
    "X_list = []\n",
    "y_list = []\n",
    "for label in range (y.min (), y.max () + 1):\n",
    "    label_idx = list (np.where (y == label)[0])\n",
    "    samples_200 = random.sample (label_idx, 200)\n",
    "    X_list.append (X[samples_200])\n",
    "    y_list.append ([label] * 200)\n",
    "\n",
    "X_small = np.array (X_list).reshape (-1, Z.shape[1])\n",
    "y_small = np.array (y_list).reshape (-1)\n",
    "\n",
    "X_small.shape, y_small.shape"
   ]
  },
  {
   "cell_type": "markdown",
   "metadata": {},
   "source": [
    "### Loss vs Learning Rate"
   ]
  },
  {
   "cell_type": "code",
   "execution_count": null,
   "metadata": {},
   "outputs": [],
   "source": [
    "# learning rate changer\n",
    "LR_MAX = 1.5\n",
    "scalars_lr = np.exp (\n",
    "    np.arange (\n",
    "        math.log (PARAM_LR),\n",
    "        math.log (LR_MAX),\n",
    "        (math.log (LR_MAX) - math.log (PARAM_LR)) / PARAM_MAX_EPOCHS\n",
    "    )\n",
    ")\n",
    "\n",
    "\n",
    "# per epoch\n",
    "# learning rate update\n",
    "current_lr = K.get_value (model.optimizer.lr)\n",
    "print ('current lr:', current_lr)\n",
    "new_lr = scalars_lr[epoch-1]\n",
    "K.set_value (model.optimizer.lr, new_lr)\n",
    "print ('new lr:', new_lr)"
   ]
  },
  {
   "cell_type": "code",
   "execution_count": null,
   "metadata": {},
   "outputs": [],
   "source": [
    "# loss vs learning rate -- only important if problems during training process\n",
    "fig, axs = plt.subplots (1, 1)\n",
    "\n",
    "df_train = pd.DataFrame (scalars_train, columns=model.metrics_names)\n",
    "axs.plot (scalars_lr, df_train['loss'])\n",
    "axs.set (ylabel='loss', xlabel='learning rate', title='loss vs learning rate')\n",
    "axs.set_xscale ('log')\n",
    "axs.grid ()\n",
    "\n",
    "fig.set_size_inches (640/fig.dpi, 480/fig.dpi)"
   ]
  }
 ],
 "metadata": {
  "kernelspec": {
   "display_name": "Python 3",
   "language": "python",
   "name": "python3"
  },
  "language_info": {
   "codemirror_mode": {
    "name": "ipython",
    "version": 3
   },
   "file_extension": ".py",
   "mimetype": "text/x-python",
   "name": "python",
   "nbconvert_exporter": "python",
   "pygments_lexer": "ipython3",
   "version": "3.6.4"
  }
 },
 "nbformat": 4,
 "nbformat_minor": 2
}
